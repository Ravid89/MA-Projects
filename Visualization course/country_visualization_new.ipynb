{
  "cells": [
    {
      "cell_type": "markdown",
      "metadata": {
        "id": "6e48b171"
      },
      "source": [
        "name of dataset: Global Country Information Dataset 2023\n",
        "    source: Kaggle\n",
        "        url:https://www.kaggle.com/datasets/nelgiriyewithana/countries-of-the-world-2023"
      ]
    },
    {
      "cell_type": "code",
      "execution_count": null,
      "metadata": {
        "id": "1247d3e0",
        "colab": {
          "base_uri": "https://localhost:8080/"
        },
        "outputId": "921752fa-ab58-49dd-ed56-1735dadf9e1e"
      },
      "outputs": [
        {
          "output_type": "stream",
          "name": "stdout",
          "text": [
            "Requirement already satisfied: seaborn in /usr/local/lib/python3.10/dist-packages (0.13.1)\n",
            "Requirement already satisfied: numpy!=1.24.0,>=1.20 in /usr/local/lib/python3.10/dist-packages (from seaborn) (1.26.4)\n",
            "Requirement already satisfied: pandas>=1.2 in /usr/local/lib/python3.10/dist-packages (from seaborn) (2.1.4)\n",
            "Requirement already satisfied: matplotlib!=3.6.1,>=3.4 in /usr/local/lib/python3.10/dist-packages (from seaborn) (3.7.1)\n",
            "Requirement already satisfied: contourpy>=1.0.1 in /usr/local/lib/python3.10/dist-packages (from matplotlib!=3.6.1,>=3.4->seaborn) (1.3.0)\n",
            "Requirement already satisfied: cycler>=0.10 in /usr/local/lib/python3.10/dist-packages (from matplotlib!=3.6.1,>=3.4->seaborn) (0.12.1)\n",
            "Requirement already satisfied: fonttools>=4.22.0 in /usr/local/lib/python3.10/dist-packages (from matplotlib!=3.6.1,>=3.4->seaborn) (4.53.1)\n",
            "Requirement already satisfied: kiwisolver>=1.0.1 in /usr/local/lib/python3.10/dist-packages (from matplotlib!=3.6.1,>=3.4->seaborn) (1.4.7)\n",
            "Requirement already satisfied: packaging>=20.0 in /usr/local/lib/python3.10/dist-packages (from matplotlib!=3.6.1,>=3.4->seaborn) (24.1)\n",
            "Requirement already satisfied: pillow>=6.2.0 in /usr/local/lib/python3.10/dist-packages (from matplotlib!=3.6.1,>=3.4->seaborn) (9.4.0)\n",
            "Requirement already satisfied: pyparsing>=2.3.1 in /usr/local/lib/python3.10/dist-packages (from matplotlib!=3.6.1,>=3.4->seaborn) (3.1.4)\n",
            "Requirement already satisfied: python-dateutil>=2.7 in /usr/local/lib/python3.10/dist-packages (from matplotlib!=3.6.1,>=3.4->seaborn) (2.8.2)\n",
            "Requirement already satisfied: pytz>=2020.1 in /usr/local/lib/python3.10/dist-packages (from pandas>=1.2->seaborn) (2024.2)\n",
            "Requirement already satisfied: tzdata>=2022.1 in /usr/local/lib/python3.10/dist-packages (from pandas>=1.2->seaborn) (2024.1)\n",
            "Requirement already satisfied: six>=1.5 in /usr/local/lib/python3.10/dist-packages (from python-dateutil>=2.7->matplotlib!=3.6.1,>=3.4->seaborn) (1.16.0)\n"
          ]
        }
      ],
      "source": [
        "pip install seaborn"
      ]
    },
    {
      "cell_type": "code",
      "execution_count": null,
      "metadata": {
        "id": "YPs_8fejRK0b",
        "colab": {
          "base_uri": "https://localhost:8080/"
        },
        "outputId": "ce118721-d7e2-48e3-ab77-f7ef0d962cd5"
      },
      "outputs": [
        {
          "output_type": "stream",
          "name": "stdout",
          "text": [
            "Mounted at /content/gdrive/\n"
          ]
        }
      ],
      "source": [
        "import pandas as pd\n",
        "import seaborn as sns\n",
        "import matplotlib.pyplot as plt\n",
        "import numpy as np\n",
        "import re\n",
        "import plotly.express as px\n",
        "from google.colab import drive\n",
        "\n",
        "drive.mount('/content/gdrive/', force_remount=True)"
      ]
    },
    {
      "cell_type": "code",
      "execution_count": null,
      "metadata": {
        "id": "01bc91f5",
        "scrolled": true
      },
      "outputs": [],
      "source": [
        "data = pd.read_csv('/content/gdrive/MyDrive/colab share folder/world-data-2023.csv')"
      ]
    },
    {
      "cell_type": "markdown",
      "metadata": {
        "id": "d3f6b25a"
      },
      "source": [
        "#problem statement:  <br>\n",
        "With finite global resources for financial aid and development assistance, it is crucial to diagnose and identify the countries most in need of such aid in an objective manner. This will allow equitable allocation of aid flows to maximize impact and uplift the world's most distressed economies.\n",
        "\n",
        "This report aims to conduct a rigorous, data-driven analysis across numerous socio-economic indicators to determine the key factors that characterize developing countries in need of assistance. Identifying these multivariate linkages can help build an index or model to rank countries based on need and necessity.\n",
        "\n",
        "The goal is to analyze these multivariate relationships and country-level data in a granular, disaggregated manner. This will help reveal nuanced, contextual insights into the biggest problem areas for each country. The report aims to develop an evidence-based, statistically robust framework to objectively determine the countries and sectors most in need of foreign aid and philanthropic grants.\n",
        "\n",
        "It will provide specific, targeted recommendations for organizations to allocate aid and design interventions tailored to addressing the key socio-economic challenges facing distressed nations. Overall, the aim is optimal utilization of aid flows for maximum humanitarian impact and uplifting of living standards in the developing world."
      ]
    },
    {
      "cell_type": "markdown",
      "metadata": {
        "id": "abc74d70"
      },
      "source": [
        "# Primary research question:<br>\n",
        "Primary research question:\n",
        "What are the key socio-economic characteristics and challenges facing developing countries, and how can they be addressed through targeted aid and interventions?\n",
        "\n",
        "(*)Please refer to the end of the univariate analysis for updated reserach questions and hypotheses.\n"
      ]
    },
    {
      "cell_type": "markdown",
      "metadata": {
        "id": "3a9a7d1c"
      },
      "source": [
        "#Hypotheses:\n",
        "\n",
        "1. Some of the main charicterisitcs of third world countries are:\n",
        "*  Relatively High Infant mortality and maternal mortality\n",
        "*  Relatively low life expectancy\n",
        "*  Relatively high fertility rate\n",
        "*  Relatively high tertiary education enrollment rate and relatively low primary education enrollment rate.\n",
        "2. Infant mortality and Maternal mortality are negatively related to physicans per thousands ratio.\n",
        "3. Life expectancy is negatively related to unemployment rate.\n",
        "4. Education enrollment rate can be made by improving the GDP per capita.\n",
        "5. Most of the countries that need help are located in Africa / war zones."
      ]
    },
    {
      "cell_type": "markdown",
      "metadata": {
        "id": "54f95f83"
      },
      "source": [
        "#Data Exploration:"
      ]
    },
    {
      "cell_type": "code",
      "execution_count": null,
      "metadata": {
        "id": "56541197",
        "colab": {
          "base_uri": "https://localhost:8080/",
          "height": 499
        },
        "outputId": "5711c642-a64a-41d3-839e-f7c327530345"
      },
      "outputs": [
        {
          "output_type": "execute_result",
          "data": {
            "text/plain": [
              "               Country Density (P/Km2) Abbreviation Agricultural Land( %)  \\\n",
              "0          Afghanistan              60           AF                58.10%   \n",
              "1              Albania             105           AL                43.10%   \n",
              "2              Algeria              18           DZ                17.40%   \n",
              "3              Andorra             164           AD                40.00%   \n",
              "4               Angola              26           AO                47.50%   \n",
              "5  Antigua and Barbuda             223           AG                20.50%   \n",
              "6            Argentina              17           AR                54.30%   \n",
              "7              Armenia             104           AM                58.90%   \n",
              "8            Australia               3           AU                48.20%   \n",
              "9              Austria             109           AT                32.40%   \n",
              "\n",
              "  Land Area(Km2) Armed Forces size  Birth Rate  Calling Code  \\\n",
              "0        652,230           323,000       32.49          93.0   \n",
              "1         28,748             9,000       11.78         355.0   \n",
              "2      2,381,741           317,000       24.28         213.0   \n",
              "3            468               NaN        7.20         376.0   \n",
              "4      1,246,700           117,000       40.73         244.0   \n",
              "5            443                 0       15.33           1.0   \n",
              "6      2,780,400           105,000       17.02          54.0   \n",
              "7         29,743            49,000       13.99         374.0   \n",
              "8      7,741,220            58,000       12.60          61.0   \n",
              "9         83,871            21,000        9.70          43.0   \n",
              "\n",
              "       Capital/Major City Co2-Emissions  ... Out of pocket health expenditure  \\\n",
              "0                   Kabul         8,672  ...                           78.40%   \n",
              "1                  Tirana         4,536  ...                           56.90%   \n",
              "2                 Algiers       150,006  ...                           28.10%   \n",
              "3        Andorra la Vella           469  ...                           36.40%   \n",
              "4                  Luanda        34,693  ...                           33.40%   \n",
              "5  St. John's, Saint John           557  ...                           24.30%   \n",
              "6            Buenos Aires       201,348  ...                           17.60%   \n",
              "7                 Yerevan         5,156  ...                           81.60%   \n",
              "8                Canberra       375,908  ...                           19.60%   \n",
              "9                  Vienna        61,448  ...                           17.90%   \n",
              "\n",
              "  Physicians per thousand  Population  \\\n",
              "0                    0.28  38,041,754   \n",
              "1                    1.20   2,854,191   \n",
              "2                    1.72  43,053,054   \n",
              "3                    3.33      77,142   \n",
              "4                    0.21  31,825,295   \n",
              "5                    2.76      97,118   \n",
              "6                    3.96  44,938,712   \n",
              "7                    4.40   2,957,731   \n",
              "8                    3.68  25,766,605   \n",
              "9                    5.17   8,877,067   \n",
              "\n",
              "   Population: Labor force participation (%) Tax revenue (%) Total tax rate  \\\n",
              "0                                     48.90%           9.30%         71.40%   \n",
              "1                                     55.70%          18.60%         36.60%   \n",
              "2                                     41.20%          37.20%         66.10%   \n",
              "3                                        NaN             NaN            NaN   \n",
              "4                                     77.50%           9.20%         49.10%   \n",
              "5                                        NaN          16.50%         43.00%   \n",
              "6                                     61.30%          10.10%        106.30%   \n",
              "7                                     55.60%          20.90%         22.60%   \n",
              "8                                     65.50%          23.00%         47.40%   \n",
              "9                                     60.70%          25.40%         51.40%   \n",
              "\n",
              "  Unemployment rate Urban_population   Latitude   Longitude  \n",
              "0            11.12%        9,797,273  33.939110   67.709953  \n",
              "1            12.33%        1,747,593  41.153332   20.168331  \n",
              "2            11.70%       31,510,100  28.033886    1.659626  \n",
              "3               NaN           67,873  42.506285    1.521801  \n",
              "4             6.89%       21,061,025 -11.202692   17.873887  \n",
              "5               NaN           23,800  17.060816  -61.796428  \n",
              "6             9.79%       41,339,571 -38.416097  -63.616672  \n",
              "7            16.99%        1,869,848  40.069099   45.038189  \n",
              "8             5.27%       21,844,756 -25.274398  133.775136  \n",
              "9             4.67%        5,194,416  47.516231   14.550072  \n",
              "\n",
              "[10 rows x 35 columns]"
            ],
            "text/html": [
              "\n",
              "  <div id=\"df-8aa4eb50-1067-4abc-afca-d1a1686d7ae8\" class=\"colab-df-container\">\n",
              "    <div>\n",
              "<style scoped>\n",
              "    .dataframe tbody tr th:only-of-type {\n",
              "        vertical-align: middle;\n",
              "    }\n",
              "\n",
              "    .dataframe tbody tr th {\n",
              "        vertical-align: top;\n",
              "    }\n",
              "\n",
              "    .dataframe thead th {\n",
              "        text-align: right;\n",
              "    }\n",
              "</style>\n",
              "<table border=\"1\" class=\"dataframe\">\n",
              "  <thead>\n",
              "    <tr style=\"text-align: right;\">\n",
              "      <th></th>\n",
              "      <th>Country</th>\n",
              "      <th>Density (P/Km2)</th>\n",
              "      <th>Abbreviation</th>\n",
              "      <th>Agricultural Land( %)</th>\n",
              "      <th>Land Area(Km2)</th>\n",
              "      <th>Armed Forces size</th>\n",
              "      <th>Birth Rate</th>\n",
              "      <th>Calling Code</th>\n",
              "      <th>Capital/Major City</th>\n",
              "      <th>Co2-Emissions</th>\n",
              "      <th>...</th>\n",
              "      <th>Out of pocket health expenditure</th>\n",
              "      <th>Physicians per thousand</th>\n",
              "      <th>Population</th>\n",
              "      <th>Population: Labor force participation (%)</th>\n",
              "      <th>Tax revenue (%)</th>\n",
              "      <th>Total tax rate</th>\n",
              "      <th>Unemployment rate</th>\n",
              "      <th>Urban_population</th>\n",
              "      <th>Latitude</th>\n",
              "      <th>Longitude</th>\n",
              "    </tr>\n",
              "  </thead>\n",
              "  <tbody>\n",
              "    <tr>\n",
              "      <th>0</th>\n",
              "      <td>Afghanistan</td>\n",
              "      <td>60</td>\n",
              "      <td>AF</td>\n",
              "      <td>58.10%</td>\n",
              "      <td>652,230</td>\n",
              "      <td>323,000</td>\n",
              "      <td>32.49</td>\n",
              "      <td>93.0</td>\n",
              "      <td>Kabul</td>\n",
              "      <td>8,672</td>\n",
              "      <td>...</td>\n",
              "      <td>78.40%</td>\n",
              "      <td>0.28</td>\n",
              "      <td>38,041,754</td>\n",
              "      <td>48.90%</td>\n",
              "      <td>9.30%</td>\n",
              "      <td>71.40%</td>\n",
              "      <td>11.12%</td>\n",
              "      <td>9,797,273</td>\n",
              "      <td>33.939110</td>\n",
              "      <td>67.709953</td>\n",
              "    </tr>\n",
              "    <tr>\n",
              "      <th>1</th>\n",
              "      <td>Albania</td>\n",
              "      <td>105</td>\n",
              "      <td>AL</td>\n",
              "      <td>43.10%</td>\n",
              "      <td>28,748</td>\n",
              "      <td>9,000</td>\n",
              "      <td>11.78</td>\n",
              "      <td>355.0</td>\n",
              "      <td>Tirana</td>\n",
              "      <td>4,536</td>\n",
              "      <td>...</td>\n",
              "      <td>56.90%</td>\n",
              "      <td>1.20</td>\n",
              "      <td>2,854,191</td>\n",
              "      <td>55.70%</td>\n",
              "      <td>18.60%</td>\n",
              "      <td>36.60%</td>\n",
              "      <td>12.33%</td>\n",
              "      <td>1,747,593</td>\n",
              "      <td>41.153332</td>\n",
              "      <td>20.168331</td>\n",
              "    </tr>\n",
              "    <tr>\n",
              "      <th>2</th>\n",
              "      <td>Algeria</td>\n",
              "      <td>18</td>\n",
              "      <td>DZ</td>\n",
              "      <td>17.40%</td>\n",
              "      <td>2,381,741</td>\n",
              "      <td>317,000</td>\n",
              "      <td>24.28</td>\n",
              "      <td>213.0</td>\n",
              "      <td>Algiers</td>\n",
              "      <td>150,006</td>\n",
              "      <td>...</td>\n",
              "      <td>28.10%</td>\n",
              "      <td>1.72</td>\n",
              "      <td>43,053,054</td>\n",
              "      <td>41.20%</td>\n",
              "      <td>37.20%</td>\n",
              "      <td>66.10%</td>\n",
              "      <td>11.70%</td>\n",
              "      <td>31,510,100</td>\n",
              "      <td>28.033886</td>\n",
              "      <td>1.659626</td>\n",
              "    </tr>\n",
              "    <tr>\n",
              "      <th>3</th>\n",
              "      <td>Andorra</td>\n",
              "      <td>164</td>\n",
              "      <td>AD</td>\n",
              "      <td>40.00%</td>\n",
              "      <td>468</td>\n",
              "      <td>NaN</td>\n",
              "      <td>7.20</td>\n",
              "      <td>376.0</td>\n",
              "      <td>Andorra la Vella</td>\n",
              "      <td>469</td>\n",
              "      <td>...</td>\n",
              "      <td>36.40%</td>\n",
              "      <td>3.33</td>\n",
              "      <td>77,142</td>\n",
              "      <td>NaN</td>\n",
              "      <td>NaN</td>\n",
              "      <td>NaN</td>\n",
              "      <td>NaN</td>\n",
              "      <td>67,873</td>\n",
              "      <td>42.506285</td>\n",
              "      <td>1.521801</td>\n",
              "    </tr>\n",
              "    <tr>\n",
              "      <th>4</th>\n",
              "      <td>Angola</td>\n",
              "      <td>26</td>\n",
              "      <td>AO</td>\n",
              "      <td>47.50%</td>\n",
              "      <td>1,246,700</td>\n",
              "      <td>117,000</td>\n",
              "      <td>40.73</td>\n",
              "      <td>244.0</td>\n",
              "      <td>Luanda</td>\n",
              "      <td>34,693</td>\n",
              "      <td>...</td>\n",
              "      <td>33.40%</td>\n",
              "      <td>0.21</td>\n",
              "      <td>31,825,295</td>\n",
              "      <td>77.50%</td>\n",
              "      <td>9.20%</td>\n",
              "      <td>49.10%</td>\n",
              "      <td>6.89%</td>\n",
              "      <td>21,061,025</td>\n",
              "      <td>-11.202692</td>\n",
              "      <td>17.873887</td>\n",
              "    </tr>\n",
              "    <tr>\n",
              "      <th>5</th>\n",
              "      <td>Antigua and Barbuda</td>\n",
              "      <td>223</td>\n",
              "      <td>AG</td>\n",
              "      <td>20.50%</td>\n",
              "      <td>443</td>\n",
              "      <td>0</td>\n",
              "      <td>15.33</td>\n",
              "      <td>1.0</td>\n",
              "      <td>St. John's, Saint John</td>\n",
              "      <td>557</td>\n",
              "      <td>...</td>\n",
              "      <td>24.30%</td>\n",
              "      <td>2.76</td>\n",
              "      <td>97,118</td>\n",
              "      <td>NaN</td>\n",
              "      <td>16.50%</td>\n",
              "      <td>43.00%</td>\n",
              "      <td>NaN</td>\n",
              "      <td>23,800</td>\n",
              "      <td>17.060816</td>\n",
              "      <td>-61.796428</td>\n",
              "    </tr>\n",
              "    <tr>\n",
              "      <th>6</th>\n",
              "      <td>Argentina</td>\n",
              "      <td>17</td>\n",
              "      <td>AR</td>\n",
              "      <td>54.30%</td>\n",
              "      <td>2,780,400</td>\n",
              "      <td>105,000</td>\n",
              "      <td>17.02</td>\n",
              "      <td>54.0</td>\n",
              "      <td>Buenos Aires</td>\n",
              "      <td>201,348</td>\n",
              "      <td>...</td>\n",
              "      <td>17.60%</td>\n",
              "      <td>3.96</td>\n",
              "      <td>44,938,712</td>\n",
              "      <td>61.30%</td>\n",
              "      <td>10.10%</td>\n",
              "      <td>106.30%</td>\n",
              "      <td>9.79%</td>\n",
              "      <td>41,339,571</td>\n",
              "      <td>-38.416097</td>\n",
              "      <td>-63.616672</td>\n",
              "    </tr>\n",
              "    <tr>\n",
              "      <th>7</th>\n",
              "      <td>Armenia</td>\n",
              "      <td>104</td>\n",
              "      <td>AM</td>\n",
              "      <td>58.90%</td>\n",
              "      <td>29,743</td>\n",
              "      <td>49,000</td>\n",
              "      <td>13.99</td>\n",
              "      <td>374.0</td>\n",
              "      <td>Yerevan</td>\n",
              "      <td>5,156</td>\n",
              "      <td>...</td>\n",
              "      <td>81.60%</td>\n",
              "      <td>4.40</td>\n",
              "      <td>2,957,731</td>\n",
              "      <td>55.60%</td>\n",
              "      <td>20.90%</td>\n",
              "      <td>22.60%</td>\n",
              "      <td>16.99%</td>\n",
              "      <td>1,869,848</td>\n",
              "      <td>40.069099</td>\n",
              "      <td>45.038189</td>\n",
              "    </tr>\n",
              "    <tr>\n",
              "      <th>8</th>\n",
              "      <td>Australia</td>\n",
              "      <td>3</td>\n",
              "      <td>AU</td>\n",
              "      <td>48.20%</td>\n",
              "      <td>7,741,220</td>\n",
              "      <td>58,000</td>\n",
              "      <td>12.60</td>\n",
              "      <td>61.0</td>\n",
              "      <td>Canberra</td>\n",
              "      <td>375,908</td>\n",
              "      <td>...</td>\n",
              "      <td>19.60%</td>\n",
              "      <td>3.68</td>\n",
              "      <td>25,766,605</td>\n",
              "      <td>65.50%</td>\n",
              "      <td>23.00%</td>\n",
              "      <td>47.40%</td>\n",
              "      <td>5.27%</td>\n",
              "      <td>21,844,756</td>\n",
              "      <td>-25.274398</td>\n",
              "      <td>133.775136</td>\n",
              "    </tr>\n",
              "    <tr>\n",
              "      <th>9</th>\n",
              "      <td>Austria</td>\n",
              "      <td>109</td>\n",
              "      <td>AT</td>\n",
              "      <td>32.40%</td>\n",
              "      <td>83,871</td>\n",
              "      <td>21,000</td>\n",
              "      <td>9.70</td>\n",
              "      <td>43.0</td>\n",
              "      <td>Vienna</td>\n",
              "      <td>61,448</td>\n",
              "      <td>...</td>\n",
              "      <td>17.90%</td>\n",
              "      <td>5.17</td>\n",
              "      <td>8,877,067</td>\n",
              "      <td>60.70%</td>\n",
              "      <td>25.40%</td>\n",
              "      <td>51.40%</td>\n",
              "      <td>4.67%</td>\n",
              "      <td>5,194,416</td>\n",
              "      <td>47.516231</td>\n",
              "      <td>14.550072</td>\n",
              "    </tr>\n",
              "  </tbody>\n",
              "</table>\n",
              "<p>10 rows × 35 columns</p>\n",
              "</div>\n",
              "    <div class=\"colab-df-buttons\">\n",
              "\n",
              "  <div class=\"colab-df-container\">\n",
              "    <button class=\"colab-df-convert\" onclick=\"convertToInteractive('df-8aa4eb50-1067-4abc-afca-d1a1686d7ae8')\"\n",
              "            title=\"Convert this dataframe to an interactive table.\"\n",
              "            style=\"display:none;\">\n",
              "\n",
              "  <svg xmlns=\"http://www.w3.org/2000/svg\" height=\"24px\" viewBox=\"0 -960 960 960\">\n",
              "    <path d=\"M120-120v-720h720v720H120Zm60-500h600v-160H180v160Zm220 220h160v-160H400v160Zm0 220h160v-160H400v160ZM180-400h160v-160H180v160Zm440 0h160v-160H620v160ZM180-180h160v-160H180v160Zm440 0h160v-160H620v160Z\"/>\n",
              "  </svg>\n",
              "    </button>\n",
              "\n",
              "  <style>\n",
              "    .colab-df-container {\n",
              "      display:flex;\n",
              "      gap: 12px;\n",
              "    }\n",
              "\n",
              "    .colab-df-convert {\n",
              "      background-color: #E8F0FE;\n",
              "      border: none;\n",
              "      border-radius: 50%;\n",
              "      cursor: pointer;\n",
              "      display: none;\n",
              "      fill: #1967D2;\n",
              "      height: 32px;\n",
              "      padding: 0 0 0 0;\n",
              "      width: 32px;\n",
              "    }\n",
              "\n",
              "    .colab-df-convert:hover {\n",
              "      background-color: #E2EBFA;\n",
              "      box-shadow: 0px 1px 2px rgba(60, 64, 67, 0.3), 0px 1px 3px 1px rgba(60, 64, 67, 0.15);\n",
              "      fill: #174EA6;\n",
              "    }\n",
              "\n",
              "    .colab-df-buttons div {\n",
              "      margin-bottom: 4px;\n",
              "    }\n",
              "\n",
              "    [theme=dark] .colab-df-convert {\n",
              "      background-color: #3B4455;\n",
              "      fill: #D2E3FC;\n",
              "    }\n",
              "\n",
              "    [theme=dark] .colab-df-convert:hover {\n",
              "      background-color: #434B5C;\n",
              "      box-shadow: 0px 1px 3px 1px rgba(0, 0, 0, 0.15);\n",
              "      filter: drop-shadow(0px 1px 2px rgba(0, 0, 0, 0.3));\n",
              "      fill: #FFFFFF;\n",
              "    }\n",
              "  </style>\n",
              "\n",
              "    <script>\n",
              "      const buttonEl =\n",
              "        document.querySelector('#df-8aa4eb50-1067-4abc-afca-d1a1686d7ae8 button.colab-df-convert');\n",
              "      buttonEl.style.display =\n",
              "        google.colab.kernel.accessAllowed ? 'block' : 'none';\n",
              "\n",
              "      async function convertToInteractive(key) {\n",
              "        const element = document.querySelector('#df-8aa4eb50-1067-4abc-afca-d1a1686d7ae8');\n",
              "        const dataTable =\n",
              "          await google.colab.kernel.invokeFunction('convertToInteractive',\n",
              "                                                    [key], {});\n",
              "        if (!dataTable) return;\n",
              "\n",
              "        const docLinkHtml = 'Like what you see? Visit the ' +\n",
              "          '<a target=\"_blank\" href=https://colab.research.google.com/notebooks/data_table.ipynb>data table notebook</a>'\n",
              "          + ' to learn more about interactive tables.';\n",
              "        element.innerHTML = '';\n",
              "        dataTable['output_type'] = 'display_data';\n",
              "        await google.colab.output.renderOutput(dataTable, element);\n",
              "        const docLink = document.createElement('div');\n",
              "        docLink.innerHTML = docLinkHtml;\n",
              "        element.appendChild(docLink);\n",
              "      }\n",
              "    </script>\n",
              "  </div>\n",
              "\n",
              "\n",
              "<div id=\"df-10d87435-417a-4318-b888-597f47761691\">\n",
              "  <button class=\"colab-df-quickchart\" onclick=\"quickchart('df-10d87435-417a-4318-b888-597f47761691')\"\n",
              "            title=\"Suggest charts\"\n",
              "            style=\"display:none;\">\n",
              "\n",
              "<svg xmlns=\"http://www.w3.org/2000/svg\" height=\"24px\"viewBox=\"0 0 24 24\"\n",
              "     width=\"24px\">\n",
              "    <g>\n",
              "        <path d=\"M19 3H5c-1.1 0-2 .9-2 2v14c0 1.1.9 2 2 2h14c1.1 0 2-.9 2-2V5c0-1.1-.9-2-2-2zM9 17H7v-7h2v7zm4 0h-2V7h2v10zm4 0h-2v-4h2v4z\"/>\n",
              "    </g>\n",
              "</svg>\n",
              "  </button>\n",
              "\n",
              "<style>\n",
              "  .colab-df-quickchart {\n",
              "      --bg-color: #E8F0FE;\n",
              "      --fill-color: #1967D2;\n",
              "      --hover-bg-color: #E2EBFA;\n",
              "      --hover-fill-color: #174EA6;\n",
              "      --disabled-fill-color: #AAA;\n",
              "      --disabled-bg-color: #DDD;\n",
              "  }\n",
              "\n",
              "  [theme=dark] .colab-df-quickchart {\n",
              "      --bg-color: #3B4455;\n",
              "      --fill-color: #D2E3FC;\n",
              "      --hover-bg-color: #434B5C;\n",
              "      --hover-fill-color: #FFFFFF;\n",
              "      --disabled-bg-color: #3B4455;\n",
              "      --disabled-fill-color: #666;\n",
              "  }\n",
              "\n",
              "  .colab-df-quickchart {\n",
              "    background-color: var(--bg-color);\n",
              "    border: none;\n",
              "    border-radius: 50%;\n",
              "    cursor: pointer;\n",
              "    display: none;\n",
              "    fill: var(--fill-color);\n",
              "    height: 32px;\n",
              "    padding: 0;\n",
              "    width: 32px;\n",
              "  }\n",
              "\n",
              "  .colab-df-quickchart:hover {\n",
              "    background-color: var(--hover-bg-color);\n",
              "    box-shadow: 0 1px 2px rgba(60, 64, 67, 0.3), 0 1px 3px 1px rgba(60, 64, 67, 0.15);\n",
              "    fill: var(--button-hover-fill-color);\n",
              "  }\n",
              "\n",
              "  .colab-df-quickchart-complete:disabled,\n",
              "  .colab-df-quickchart-complete:disabled:hover {\n",
              "    background-color: var(--disabled-bg-color);\n",
              "    fill: var(--disabled-fill-color);\n",
              "    box-shadow: none;\n",
              "  }\n",
              "\n",
              "  .colab-df-spinner {\n",
              "    border: 2px solid var(--fill-color);\n",
              "    border-color: transparent;\n",
              "    border-bottom-color: var(--fill-color);\n",
              "    animation:\n",
              "      spin 1s steps(1) infinite;\n",
              "  }\n",
              "\n",
              "  @keyframes spin {\n",
              "    0% {\n",
              "      border-color: transparent;\n",
              "      border-bottom-color: var(--fill-color);\n",
              "      border-left-color: var(--fill-color);\n",
              "    }\n",
              "    20% {\n",
              "      border-color: transparent;\n",
              "      border-left-color: var(--fill-color);\n",
              "      border-top-color: var(--fill-color);\n",
              "    }\n",
              "    30% {\n",
              "      border-color: transparent;\n",
              "      border-left-color: var(--fill-color);\n",
              "      border-top-color: var(--fill-color);\n",
              "      border-right-color: var(--fill-color);\n",
              "    }\n",
              "    40% {\n",
              "      border-color: transparent;\n",
              "      border-right-color: var(--fill-color);\n",
              "      border-top-color: var(--fill-color);\n",
              "    }\n",
              "    60% {\n",
              "      border-color: transparent;\n",
              "      border-right-color: var(--fill-color);\n",
              "    }\n",
              "    80% {\n",
              "      border-color: transparent;\n",
              "      border-right-color: var(--fill-color);\n",
              "      border-bottom-color: var(--fill-color);\n",
              "    }\n",
              "    90% {\n",
              "      border-color: transparent;\n",
              "      border-bottom-color: var(--fill-color);\n",
              "    }\n",
              "  }\n",
              "</style>\n",
              "\n",
              "  <script>\n",
              "    async function quickchart(key) {\n",
              "      const quickchartButtonEl =\n",
              "        document.querySelector('#' + key + ' button');\n",
              "      quickchartButtonEl.disabled = true;  // To prevent multiple clicks.\n",
              "      quickchartButtonEl.classList.add('colab-df-spinner');\n",
              "      try {\n",
              "        const charts = await google.colab.kernel.invokeFunction(\n",
              "            'suggestCharts', [key], {});\n",
              "      } catch (error) {\n",
              "        console.error('Error during call to suggestCharts:', error);\n",
              "      }\n",
              "      quickchartButtonEl.classList.remove('colab-df-spinner');\n",
              "      quickchartButtonEl.classList.add('colab-df-quickchart-complete');\n",
              "    }\n",
              "    (() => {\n",
              "      let quickchartButtonEl =\n",
              "        document.querySelector('#df-10d87435-417a-4318-b888-597f47761691 button');\n",
              "      quickchartButtonEl.style.display =\n",
              "        google.colab.kernel.accessAllowed ? 'block' : 'none';\n",
              "    })();\n",
              "  </script>\n",
              "</div>\n",
              "\n",
              "    </div>\n",
              "  </div>\n"
            ],
            "application/vnd.google.colaboratory.intrinsic+json": {
              "type": "dataframe",
              "variable_name": "data"
            }
          },
          "metadata": {},
          "execution_count": 4
        }
      ],
      "source": [
        "data.head(10)"
      ]
    },
    {
      "cell_type": "code",
      "execution_count": null,
      "metadata": {
        "id": "23c06fb3",
        "colab": {
          "base_uri": "https://localhost:8080/",
          "height": 499
        },
        "outputId": "0596b3f5-52a1-4bcd-e477-b7b8dc684f9b"
      },
      "outputs": [
        {
          "output_type": "execute_result",
          "data": {
            "text/plain": [
              "            Country Density (P/Km2) Abbreviation Agricultural Land( %)  \\\n",
              "185  United Kingdom             281           GB                71.70%   \n",
              "186   United States              36           US                44.40%   \n",
              "187         Uruguay              20           UY                82.60%   \n",
              "188      Uzbekistan              79           UZ                62.90%   \n",
              "189         Vanuatu              25           VU                15.30%   \n",
              "190       Venezuela              32           VE                24.50%   \n",
              "191         Vietnam             314           VN                39.30%   \n",
              "192           Yemen              56           YE                44.60%   \n",
              "193          Zambia              25           ZM                32.10%   \n",
              "194        Zimbabwe              38           ZW                41.90%   \n",
              "\n",
              "    Land Area(Km2) Armed Forces size  Birth Rate  Calling Code  \\\n",
              "185        243,610           148,000       11.00          44.0   \n",
              "186      9,833,517         1,359,000       11.60           1.0   \n",
              "187        176,215            22,000       13.86         598.0   \n",
              "188        447,400            68,000       23.30         998.0   \n",
              "189         12,189               NaN       29.60         678.0   \n",
              "190        912,050           343,000       17.88          58.0   \n",
              "191        331,210           522,000       16.75          84.0   \n",
              "192        527,968            40,000       30.45         967.0   \n",
              "193        752,618            16,000       36.19         260.0   \n",
              "194        390,757            51,000       30.68         263.0   \n",
              "\n",
              "    Capital/Major City Co2-Emissions  ... Out of pocket health expenditure  \\\n",
              "185             London       379,025  ...                           14.80%   \n",
              "186   Washington, D.C.     5,006,302  ...                           11.10%   \n",
              "187         Montevideo         6,766  ...                           16.20%   \n",
              "188           Tashkent        91,811  ...                           42.70%   \n",
              "189          Port Vila           147  ...                            8.90%   \n",
              "190            Caracas       164,175  ...                           45.80%   \n",
              "191              Hanoi       192,668  ...                           43.50%   \n",
              "192              Sanaa        10,609  ...                           81.00%   \n",
              "193             Lusaka         5,141  ...                           27.50%   \n",
              "194             Harare        10,983  ...                           25.80%   \n",
              "\n",
              "    Physicians per thousand   Population  \\\n",
              "185                    2.81   66,834,405   \n",
              "186                    2.61  328,239,523   \n",
              "187                    5.05    3,461,734   \n",
              "188                    2.37   33,580,650   \n",
              "189                    0.17      299,882   \n",
              "190                    1.92   28,515,829   \n",
              "191                    0.82   96,462,106   \n",
              "192                    0.31   29,161,922   \n",
              "193                    1.19   17,861,030   \n",
              "194                    0.21   14,645,468   \n",
              "\n",
              "     Population: Labor force participation (%) Tax revenue (%) Total tax rate  \\\n",
              "185                                     62.80%          25.50%         30.60%   \n",
              "186                                     62.00%           9.60%         36.60%   \n",
              "187                                     64.00%          20.10%         41.80%   \n",
              "188                                     65.10%          14.80%         31.60%   \n",
              "189                                     69.90%          17.80%          8.50%   \n",
              "190                                     59.70%             NaN         73.30%   \n",
              "191                                     77.40%          19.10%         37.60%   \n",
              "192                                     38.00%             NaN         26.60%   \n",
              "193                                     74.60%          16.20%         15.60%   \n",
              "194                                     83.10%          20.70%         31.60%   \n",
              "\n",
              "    Unemployment rate Urban_population   Latitude   Longitude  \n",
              "185             3.85%       55,908,316  55.378051   -3.435973  \n",
              "186            14.70%      270,663,028  37.090240  -95.712891  \n",
              "187             8.73%        3,303,394 -32.522779  -55.765835  \n",
              "188             5.92%       16,935,729  41.377491   64.585262  \n",
              "189             4.39%           76,152 -15.376706  166.959158  \n",
              "190             8.80%       25,162,368   6.423750  -66.589730  \n",
              "191             2.01%       35,332,140  14.058324  108.277199  \n",
              "192            12.91%       10,869,523  15.552727   48.516388  \n",
              "193            11.43%        7,871,713 -13.133897   27.849332  \n",
              "194             4.95%        4,717,305 -19.015438   29.154857  \n",
              "\n",
              "[10 rows x 35 columns]"
            ],
            "text/html": [
              "\n",
              "  <div id=\"df-87262cda-ede1-4c36-81c9-62b14aae49c7\" class=\"colab-df-container\">\n",
              "    <div>\n",
              "<style scoped>\n",
              "    .dataframe tbody tr th:only-of-type {\n",
              "        vertical-align: middle;\n",
              "    }\n",
              "\n",
              "    .dataframe tbody tr th {\n",
              "        vertical-align: top;\n",
              "    }\n",
              "\n",
              "    .dataframe thead th {\n",
              "        text-align: right;\n",
              "    }\n",
              "</style>\n",
              "<table border=\"1\" class=\"dataframe\">\n",
              "  <thead>\n",
              "    <tr style=\"text-align: right;\">\n",
              "      <th></th>\n",
              "      <th>Country</th>\n",
              "      <th>Density (P/Km2)</th>\n",
              "      <th>Abbreviation</th>\n",
              "      <th>Agricultural Land( %)</th>\n",
              "      <th>Land Area(Km2)</th>\n",
              "      <th>Armed Forces size</th>\n",
              "      <th>Birth Rate</th>\n",
              "      <th>Calling Code</th>\n",
              "      <th>Capital/Major City</th>\n",
              "      <th>Co2-Emissions</th>\n",
              "      <th>...</th>\n",
              "      <th>Out of pocket health expenditure</th>\n",
              "      <th>Physicians per thousand</th>\n",
              "      <th>Population</th>\n",
              "      <th>Population: Labor force participation (%)</th>\n",
              "      <th>Tax revenue (%)</th>\n",
              "      <th>Total tax rate</th>\n",
              "      <th>Unemployment rate</th>\n",
              "      <th>Urban_population</th>\n",
              "      <th>Latitude</th>\n",
              "      <th>Longitude</th>\n",
              "    </tr>\n",
              "  </thead>\n",
              "  <tbody>\n",
              "    <tr>\n",
              "      <th>185</th>\n",
              "      <td>United Kingdom</td>\n",
              "      <td>281</td>\n",
              "      <td>GB</td>\n",
              "      <td>71.70%</td>\n",
              "      <td>243,610</td>\n",
              "      <td>148,000</td>\n",
              "      <td>11.00</td>\n",
              "      <td>44.0</td>\n",
              "      <td>London</td>\n",
              "      <td>379,025</td>\n",
              "      <td>...</td>\n",
              "      <td>14.80%</td>\n",
              "      <td>2.81</td>\n",
              "      <td>66,834,405</td>\n",
              "      <td>62.80%</td>\n",
              "      <td>25.50%</td>\n",
              "      <td>30.60%</td>\n",
              "      <td>3.85%</td>\n",
              "      <td>55,908,316</td>\n",
              "      <td>55.378051</td>\n",
              "      <td>-3.435973</td>\n",
              "    </tr>\n",
              "    <tr>\n",
              "      <th>186</th>\n",
              "      <td>United States</td>\n",
              "      <td>36</td>\n",
              "      <td>US</td>\n",
              "      <td>44.40%</td>\n",
              "      <td>9,833,517</td>\n",
              "      <td>1,359,000</td>\n",
              "      <td>11.60</td>\n",
              "      <td>1.0</td>\n",
              "      <td>Washington, D.C.</td>\n",
              "      <td>5,006,302</td>\n",
              "      <td>...</td>\n",
              "      <td>11.10%</td>\n",
              "      <td>2.61</td>\n",
              "      <td>328,239,523</td>\n",
              "      <td>62.00%</td>\n",
              "      <td>9.60%</td>\n",
              "      <td>36.60%</td>\n",
              "      <td>14.70%</td>\n",
              "      <td>270,663,028</td>\n",
              "      <td>37.090240</td>\n",
              "      <td>-95.712891</td>\n",
              "    </tr>\n",
              "    <tr>\n",
              "      <th>187</th>\n",
              "      <td>Uruguay</td>\n",
              "      <td>20</td>\n",
              "      <td>UY</td>\n",
              "      <td>82.60%</td>\n",
              "      <td>176,215</td>\n",
              "      <td>22,000</td>\n",
              "      <td>13.86</td>\n",
              "      <td>598.0</td>\n",
              "      <td>Montevideo</td>\n",
              "      <td>6,766</td>\n",
              "      <td>...</td>\n",
              "      <td>16.20%</td>\n",
              "      <td>5.05</td>\n",
              "      <td>3,461,734</td>\n",
              "      <td>64.00%</td>\n",
              "      <td>20.10%</td>\n",
              "      <td>41.80%</td>\n",
              "      <td>8.73%</td>\n",
              "      <td>3,303,394</td>\n",
              "      <td>-32.522779</td>\n",
              "      <td>-55.765835</td>\n",
              "    </tr>\n",
              "    <tr>\n",
              "      <th>188</th>\n",
              "      <td>Uzbekistan</td>\n",
              "      <td>79</td>\n",
              "      <td>UZ</td>\n",
              "      <td>62.90%</td>\n",
              "      <td>447,400</td>\n",
              "      <td>68,000</td>\n",
              "      <td>23.30</td>\n",
              "      <td>998.0</td>\n",
              "      <td>Tashkent</td>\n",
              "      <td>91,811</td>\n",
              "      <td>...</td>\n",
              "      <td>42.70%</td>\n",
              "      <td>2.37</td>\n",
              "      <td>33,580,650</td>\n",
              "      <td>65.10%</td>\n",
              "      <td>14.80%</td>\n",
              "      <td>31.60%</td>\n",
              "      <td>5.92%</td>\n",
              "      <td>16,935,729</td>\n",
              "      <td>41.377491</td>\n",
              "      <td>64.585262</td>\n",
              "    </tr>\n",
              "    <tr>\n",
              "      <th>189</th>\n",
              "      <td>Vanuatu</td>\n",
              "      <td>25</td>\n",
              "      <td>VU</td>\n",
              "      <td>15.30%</td>\n",
              "      <td>12,189</td>\n",
              "      <td>NaN</td>\n",
              "      <td>29.60</td>\n",
              "      <td>678.0</td>\n",
              "      <td>Port Vila</td>\n",
              "      <td>147</td>\n",
              "      <td>...</td>\n",
              "      <td>8.90%</td>\n",
              "      <td>0.17</td>\n",
              "      <td>299,882</td>\n",
              "      <td>69.90%</td>\n",
              "      <td>17.80%</td>\n",
              "      <td>8.50%</td>\n",
              "      <td>4.39%</td>\n",
              "      <td>76,152</td>\n",
              "      <td>-15.376706</td>\n",
              "      <td>166.959158</td>\n",
              "    </tr>\n",
              "    <tr>\n",
              "      <th>190</th>\n",
              "      <td>Venezuela</td>\n",
              "      <td>32</td>\n",
              "      <td>VE</td>\n",
              "      <td>24.50%</td>\n",
              "      <td>912,050</td>\n",
              "      <td>343,000</td>\n",
              "      <td>17.88</td>\n",
              "      <td>58.0</td>\n",
              "      <td>Caracas</td>\n",
              "      <td>164,175</td>\n",
              "      <td>...</td>\n",
              "      <td>45.80%</td>\n",
              "      <td>1.92</td>\n",
              "      <td>28,515,829</td>\n",
              "      <td>59.70%</td>\n",
              "      <td>NaN</td>\n",
              "      <td>73.30%</td>\n",
              "      <td>8.80%</td>\n",
              "      <td>25,162,368</td>\n",
              "      <td>6.423750</td>\n",
              "      <td>-66.589730</td>\n",
              "    </tr>\n",
              "    <tr>\n",
              "      <th>191</th>\n",
              "      <td>Vietnam</td>\n",
              "      <td>314</td>\n",
              "      <td>VN</td>\n",
              "      <td>39.30%</td>\n",
              "      <td>331,210</td>\n",
              "      <td>522,000</td>\n",
              "      <td>16.75</td>\n",
              "      <td>84.0</td>\n",
              "      <td>Hanoi</td>\n",
              "      <td>192,668</td>\n",
              "      <td>...</td>\n",
              "      <td>43.50%</td>\n",
              "      <td>0.82</td>\n",
              "      <td>96,462,106</td>\n",
              "      <td>77.40%</td>\n",
              "      <td>19.10%</td>\n",
              "      <td>37.60%</td>\n",
              "      <td>2.01%</td>\n",
              "      <td>35,332,140</td>\n",
              "      <td>14.058324</td>\n",
              "      <td>108.277199</td>\n",
              "    </tr>\n",
              "    <tr>\n",
              "      <th>192</th>\n",
              "      <td>Yemen</td>\n",
              "      <td>56</td>\n",
              "      <td>YE</td>\n",
              "      <td>44.60%</td>\n",
              "      <td>527,968</td>\n",
              "      <td>40,000</td>\n",
              "      <td>30.45</td>\n",
              "      <td>967.0</td>\n",
              "      <td>Sanaa</td>\n",
              "      <td>10,609</td>\n",
              "      <td>...</td>\n",
              "      <td>81.00%</td>\n",
              "      <td>0.31</td>\n",
              "      <td>29,161,922</td>\n",
              "      <td>38.00%</td>\n",
              "      <td>NaN</td>\n",
              "      <td>26.60%</td>\n",
              "      <td>12.91%</td>\n",
              "      <td>10,869,523</td>\n",
              "      <td>15.552727</td>\n",
              "      <td>48.516388</td>\n",
              "    </tr>\n",
              "    <tr>\n",
              "      <th>193</th>\n",
              "      <td>Zambia</td>\n",
              "      <td>25</td>\n",
              "      <td>ZM</td>\n",
              "      <td>32.10%</td>\n",
              "      <td>752,618</td>\n",
              "      <td>16,000</td>\n",
              "      <td>36.19</td>\n",
              "      <td>260.0</td>\n",
              "      <td>Lusaka</td>\n",
              "      <td>5,141</td>\n",
              "      <td>...</td>\n",
              "      <td>27.50%</td>\n",
              "      <td>1.19</td>\n",
              "      <td>17,861,030</td>\n",
              "      <td>74.60%</td>\n",
              "      <td>16.20%</td>\n",
              "      <td>15.60%</td>\n",
              "      <td>11.43%</td>\n",
              "      <td>7,871,713</td>\n",
              "      <td>-13.133897</td>\n",
              "      <td>27.849332</td>\n",
              "    </tr>\n",
              "    <tr>\n",
              "      <th>194</th>\n",
              "      <td>Zimbabwe</td>\n",
              "      <td>38</td>\n",
              "      <td>ZW</td>\n",
              "      <td>41.90%</td>\n",
              "      <td>390,757</td>\n",
              "      <td>51,000</td>\n",
              "      <td>30.68</td>\n",
              "      <td>263.0</td>\n",
              "      <td>Harare</td>\n",
              "      <td>10,983</td>\n",
              "      <td>...</td>\n",
              "      <td>25.80%</td>\n",
              "      <td>0.21</td>\n",
              "      <td>14,645,468</td>\n",
              "      <td>83.10%</td>\n",
              "      <td>20.70%</td>\n",
              "      <td>31.60%</td>\n",
              "      <td>4.95%</td>\n",
              "      <td>4,717,305</td>\n",
              "      <td>-19.015438</td>\n",
              "      <td>29.154857</td>\n",
              "    </tr>\n",
              "  </tbody>\n",
              "</table>\n",
              "<p>10 rows × 35 columns</p>\n",
              "</div>\n",
              "    <div class=\"colab-df-buttons\">\n",
              "\n",
              "  <div class=\"colab-df-container\">\n",
              "    <button class=\"colab-df-convert\" onclick=\"convertToInteractive('df-87262cda-ede1-4c36-81c9-62b14aae49c7')\"\n",
              "            title=\"Convert this dataframe to an interactive table.\"\n",
              "            style=\"display:none;\">\n",
              "\n",
              "  <svg xmlns=\"http://www.w3.org/2000/svg\" height=\"24px\" viewBox=\"0 -960 960 960\">\n",
              "    <path d=\"M120-120v-720h720v720H120Zm60-500h600v-160H180v160Zm220 220h160v-160H400v160Zm0 220h160v-160H400v160ZM180-400h160v-160H180v160Zm440 0h160v-160H620v160ZM180-180h160v-160H180v160Zm440 0h160v-160H620v160Z\"/>\n",
              "  </svg>\n",
              "    </button>\n",
              "\n",
              "  <style>\n",
              "    .colab-df-container {\n",
              "      display:flex;\n",
              "      gap: 12px;\n",
              "    }\n",
              "\n",
              "    .colab-df-convert {\n",
              "      background-color: #E8F0FE;\n",
              "      border: none;\n",
              "      border-radius: 50%;\n",
              "      cursor: pointer;\n",
              "      display: none;\n",
              "      fill: #1967D2;\n",
              "      height: 32px;\n",
              "      padding: 0 0 0 0;\n",
              "      width: 32px;\n",
              "    }\n",
              "\n",
              "    .colab-df-convert:hover {\n",
              "      background-color: #E2EBFA;\n",
              "      box-shadow: 0px 1px 2px rgba(60, 64, 67, 0.3), 0px 1px 3px 1px rgba(60, 64, 67, 0.15);\n",
              "      fill: #174EA6;\n",
              "    }\n",
              "\n",
              "    .colab-df-buttons div {\n",
              "      margin-bottom: 4px;\n",
              "    }\n",
              "\n",
              "    [theme=dark] .colab-df-convert {\n",
              "      background-color: #3B4455;\n",
              "      fill: #D2E3FC;\n",
              "    }\n",
              "\n",
              "    [theme=dark] .colab-df-convert:hover {\n",
              "      background-color: #434B5C;\n",
              "      box-shadow: 0px 1px 3px 1px rgba(0, 0, 0, 0.15);\n",
              "      filter: drop-shadow(0px 1px 2px rgba(0, 0, 0, 0.3));\n",
              "      fill: #FFFFFF;\n",
              "    }\n",
              "  </style>\n",
              "\n",
              "    <script>\n",
              "      const buttonEl =\n",
              "        document.querySelector('#df-87262cda-ede1-4c36-81c9-62b14aae49c7 button.colab-df-convert');\n",
              "      buttonEl.style.display =\n",
              "        google.colab.kernel.accessAllowed ? 'block' : 'none';\n",
              "\n",
              "      async function convertToInteractive(key) {\n",
              "        const element = document.querySelector('#df-87262cda-ede1-4c36-81c9-62b14aae49c7');\n",
              "        const dataTable =\n",
              "          await google.colab.kernel.invokeFunction('convertToInteractive',\n",
              "                                                    [key], {});\n",
              "        if (!dataTable) return;\n",
              "\n",
              "        const docLinkHtml = 'Like what you see? Visit the ' +\n",
              "          '<a target=\"_blank\" href=https://colab.research.google.com/notebooks/data_table.ipynb>data table notebook</a>'\n",
              "          + ' to learn more about interactive tables.';\n",
              "        element.innerHTML = '';\n",
              "        dataTable['output_type'] = 'display_data';\n",
              "        await google.colab.output.renderOutput(dataTable, element);\n",
              "        const docLink = document.createElement('div');\n",
              "        docLink.innerHTML = docLinkHtml;\n",
              "        element.appendChild(docLink);\n",
              "      }\n",
              "    </script>\n",
              "  </div>\n",
              "\n",
              "\n",
              "<div id=\"df-d52d57b3-35ee-4c4f-8f5a-1c3644326f4f\">\n",
              "  <button class=\"colab-df-quickchart\" onclick=\"quickchart('df-d52d57b3-35ee-4c4f-8f5a-1c3644326f4f')\"\n",
              "            title=\"Suggest charts\"\n",
              "            style=\"display:none;\">\n",
              "\n",
              "<svg xmlns=\"http://www.w3.org/2000/svg\" height=\"24px\"viewBox=\"0 0 24 24\"\n",
              "     width=\"24px\">\n",
              "    <g>\n",
              "        <path d=\"M19 3H5c-1.1 0-2 .9-2 2v14c0 1.1.9 2 2 2h14c1.1 0 2-.9 2-2V5c0-1.1-.9-2-2-2zM9 17H7v-7h2v7zm4 0h-2V7h2v10zm4 0h-2v-4h2v4z\"/>\n",
              "    </g>\n",
              "</svg>\n",
              "  </button>\n",
              "\n",
              "<style>\n",
              "  .colab-df-quickchart {\n",
              "      --bg-color: #E8F0FE;\n",
              "      --fill-color: #1967D2;\n",
              "      --hover-bg-color: #E2EBFA;\n",
              "      --hover-fill-color: #174EA6;\n",
              "      --disabled-fill-color: #AAA;\n",
              "      --disabled-bg-color: #DDD;\n",
              "  }\n",
              "\n",
              "  [theme=dark] .colab-df-quickchart {\n",
              "      --bg-color: #3B4455;\n",
              "      --fill-color: #D2E3FC;\n",
              "      --hover-bg-color: #434B5C;\n",
              "      --hover-fill-color: #FFFFFF;\n",
              "      --disabled-bg-color: #3B4455;\n",
              "      --disabled-fill-color: #666;\n",
              "  }\n",
              "\n",
              "  .colab-df-quickchart {\n",
              "    background-color: var(--bg-color);\n",
              "    border: none;\n",
              "    border-radius: 50%;\n",
              "    cursor: pointer;\n",
              "    display: none;\n",
              "    fill: var(--fill-color);\n",
              "    height: 32px;\n",
              "    padding: 0;\n",
              "    width: 32px;\n",
              "  }\n",
              "\n",
              "  .colab-df-quickchart:hover {\n",
              "    background-color: var(--hover-bg-color);\n",
              "    box-shadow: 0 1px 2px rgba(60, 64, 67, 0.3), 0 1px 3px 1px rgba(60, 64, 67, 0.15);\n",
              "    fill: var(--button-hover-fill-color);\n",
              "  }\n",
              "\n",
              "  .colab-df-quickchart-complete:disabled,\n",
              "  .colab-df-quickchart-complete:disabled:hover {\n",
              "    background-color: var(--disabled-bg-color);\n",
              "    fill: var(--disabled-fill-color);\n",
              "    box-shadow: none;\n",
              "  }\n",
              "\n",
              "  .colab-df-spinner {\n",
              "    border: 2px solid var(--fill-color);\n",
              "    border-color: transparent;\n",
              "    border-bottom-color: var(--fill-color);\n",
              "    animation:\n",
              "      spin 1s steps(1) infinite;\n",
              "  }\n",
              "\n",
              "  @keyframes spin {\n",
              "    0% {\n",
              "      border-color: transparent;\n",
              "      border-bottom-color: var(--fill-color);\n",
              "      border-left-color: var(--fill-color);\n",
              "    }\n",
              "    20% {\n",
              "      border-color: transparent;\n",
              "      border-left-color: var(--fill-color);\n",
              "      border-top-color: var(--fill-color);\n",
              "    }\n",
              "    30% {\n",
              "      border-color: transparent;\n",
              "      border-left-color: var(--fill-color);\n",
              "      border-top-color: var(--fill-color);\n",
              "      border-right-color: var(--fill-color);\n",
              "    }\n",
              "    40% {\n",
              "      border-color: transparent;\n",
              "      border-right-color: var(--fill-color);\n",
              "      border-top-color: var(--fill-color);\n",
              "    }\n",
              "    60% {\n",
              "      border-color: transparent;\n",
              "      border-right-color: var(--fill-color);\n",
              "    }\n",
              "    80% {\n",
              "      border-color: transparent;\n",
              "      border-right-color: var(--fill-color);\n",
              "      border-bottom-color: var(--fill-color);\n",
              "    }\n",
              "    90% {\n",
              "      border-color: transparent;\n",
              "      border-bottom-color: var(--fill-color);\n",
              "    }\n",
              "  }\n",
              "</style>\n",
              "\n",
              "  <script>\n",
              "    async function quickchart(key) {\n",
              "      const quickchartButtonEl =\n",
              "        document.querySelector('#' + key + ' button');\n",
              "      quickchartButtonEl.disabled = true;  // To prevent multiple clicks.\n",
              "      quickchartButtonEl.classList.add('colab-df-spinner');\n",
              "      try {\n",
              "        const charts = await google.colab.kernel.invokeFunction(\n",
              "            'suggestCharts', [key], {});\n",
              "      } catch (error) {\n",
              "        console.error('Error during call to suggestCharts:', error);\n",
              "      }\n",
              "      quickchartButtonEl.classList.remove('colab-df-spinner');\n",
              "      quickchartButtonEl.classList.add('colab-df-quickchart-complete');\n",
              "    }\n",
              "    (() => {\n",
              "      let quickchartButtonEl =\n",
              "        document.querySelector('#df-d52d57b3-35ee-4c4f-8f5a-1c3644326f4f button');\n",
              "      quickchartButtonEl.style.display =\n",
              "        google.colab.kernel.accessAllowed ? 'block' : 'none';\n",
              "    })();\n",
              "  </script>\n",
              "</div>\n",
              "\n",
              "    </div>\n",
              "  </div>\n"
            ],
            "application/vnd.google.colaboratory.intrinsic+json": {
              "type": "dataframe"
            }
          },
          "metadata": {},
          "execution_count": 5
        }
      ],
      "source": [
        "data.tail(10)"
      ]
    },
    {
      "cell_type": "code",
      "execution_count": null,
      "metadata": {
        "id": "8dee0657",
        "scrolled": false,
        "colab": {
          "base_uri": "https://localhost:8080/",
          "height": 300
        },
        "outputId": "4089da10-ca80-4852-e5a9-7a59dcdebb2e"
      },
      "outputs": [
        {
          "output_type": "execute_result",
          "data": {
            "text/plain": [
              "       Birth Rate  Calling Code  Fertility Rate  Infant mortality  \\\n",
              "count  189.000000    194.000000      188.000000        189.000000   \n",
              "mean    20.214974    360.546392        2.698138         21.332804   \n",
              "std      9.945774    323.236419        1.282267         19.548058   \n",
              "min      5.900000      1.000000        0.980000          1.400000   \n",
              "25%     11.300000     82.500000        1.705000          6.000000   \n",
              "50%     17.950000    255.500000        2.245000         14.000000   \n",
              "75%     28.750000    506.750000        3.597500         32.700000   \n",
              "max     46.080000   1876.000000        6.910000         84.500000   \n",
              "\n",
              "       Life expectancy  Maternal mortality ratio  Physicians per thousand  \\\n",
              "count       187.000000                181.000000               188.000000   \n",
              "mean         72.279679                160.392265                 1.839840   \n",
              "std           7.483661                233.502024                 1.684261   \n",
              "min          52.800000                  2.000000                 0.010000   \n",
              "25%          67.000000                 13.000000                 0.332500   \n",
              "50%          73.200000                 53.000000                 1.460000   \n",
              "75%          77.500000                186.000000                 2.935000   \n",
              "max          85.400000               1150.000000                 8.420000   \n",
              "\n",
              "         Latitude   Longitude  \n",
              "count  194.000000  194.000000  \n",
              "mean    19.092351   20.232434  \n",
              "std     23.961779   66.716110  \n",
              "min    -40.900557 -175.198242  \n",
              "25%      4.544175   -7.941496  \n",
              "50%     17.273849   20.972652  \n",
              "75%     40.124603   48.281523  \n",
              "max     64.963051  178.065032  "
            ],
            "text/html": [
              "\n",
              "  <div id=\"df-091dfb72-097b-47e2-89bb-8f8af2c8b00c\" class=\"colab-df-container\">\n",
              "    <div>\n",
              "<style scoped>\n",
              "    .dataframe tbody tr th:only-of-type {\n",
              "        vertical-align: middle;\n",
              "    }\n",
              "\n",
              "    .dataframe tbody tr th {\n",
              "        vertical-align: top;\n",
              "    }\n",
              "\n",
              "    .dataframe thead th {\n",
              "        text-align: right;\n",
              "    }\n",
              "</style>\n",
              "<table border=\"1\" class=\"dataframe\">\n",
              "  <thead>\n",
              "    <tr style=\"text-align: right;\">\n",
              "      <th></th>\n",
              "      <th>Birth Rate</th>\n",
              "      <th>Calling Code</th>\n",
              "      <th>Fertility Rate</th>\n",
              "      <th>Infant mortality</th>\n",
              "      <th>Life expectancy</th>\n",
              "      <th>Maternal mortality ratio</th>\n",
              "      <th>Physicians per thousand</th>\n",
              "      <th>Latitude</th>\n",
              "      <th>Longitude</th>\n",
              "    </tr>\n",
              "  </thead>\n",
              "  <tbody>\n",
              "    <tr>\n",
              "      <th>count</th>\n",
              "      <td>189.000000</td>\n",
              "      <td>194.000000</td>\n",
              "      <td>188.000000</td>\n",
              "      <td>189.000000</td>\n",
              "      <td>187.000000</td>\n",
              "      <td>181.000000</td>\n",
              "      <td>188.000000</td>\n",
              "      <td>194.000000</td>\n",
              "      <td>194.000000</td>\n",
              "    </tr>\n",
              "    <tr>\n",
              "      <th>mean</th>\n",
              "      <td>20.214974</td>\n",
              "      <td>360.546392</td>\n",
              "      <td>2.698138</td>\n",
              "      <td>21.332804</td>\n",
              "      <td>72.279679</td>\n",
              "      <td>160.392265</td>\n",
              "      <td>1.839840</td>\n",
              "      <td>19.092351</td>\n",
              "      <td>20.232434</td>\n",
              "    </tr>\n",
              "    <tr>\n",
              "      <th>std</th>\n",
              "      <td>9.945774</td>\n",
              "      <td>323.236419</td>\n",
              "      <td>1.282267</td>\n",
              "      <td>19.548058</td>\n",
              "      <td>7.483661</td>\n",
              "      <td>233.502024</td>\n",
              "      <td>1.684261</td>\n",
              "      <td>23.961779</td>\n",
              "      <td>66.716110</td>\n",
              "    </tr>\n",
              "    <tr>\n",
              "      <th>min</th>\n",
              "      <td>5.900000</td>\n",
              "      <td>1.000000</td>\n",
              "      <td>0.980000</td>\n",
              "      <td>1.400000</td>\n",
              "      <td>52.800000</td>\n",
              "      <td>2.000000</td>\n",
              "      <td>0.010000</td>\n",
              "      <td>-40.900557</td>\n",
              "      <td>-175.198242</td>\n",
              "    </tr>\n",
              "    <tr>\n",
              "      <th>25%</th>\n",
              "      <td>11.300000</td>\n",
              "      <td>82.500000</td>\n",
              "      <td>1.705000</td>\n",
              "      <td>6.000000</td>\n",
              "      <td>67.000000</td>\n",
              "      <td>13.000000</td>\n",
              "      <td>0.332500</td>\n",
              "      <td>4.544175</td>\n",
              "      <td>-7.941496</td>\n",
              "    </tr>\n",
              "    <tr>\n",
              "      <th>50%</th>\n",
              "      <td>17.950000</td>\n",
              "      <td>255.500000</td>\n",
              "      <td>2.245000</td>\n",
              "      <td>14.000000</td>\n",
              "      <td>73.200000</td>\n",
              "      <td>53.000000</td>\n",
              "      <td>1.460000</td>\n",
              "      <td>17.273849</td>\n",
              "      <td>20.972652</td>\n",
              "    </tr>\n",
              "    <tr>\n",
              "      <th>75%</th>\n",
              "      <td>28.750000</td>\n",
              "      <td>506.750000</td>\n",
              "      <td>3.597500</td>\n",
              "      <td>32.700000</td>\n",
              "      <td>77.500000</td>\n",
              "      <td>186.000000</td>\n",
              "      <td>2.935000</td>\n",
              "      <td>40.124603</td>\n",
              "      <td>48.281523</td>\n",
              "    </tr>\n",
              "    <tr>\n",
              "      <th>max</th>\n",
              "      <td>46.080000</td>\n",
              "      <td>1876.000000</td>\n",
              "      <td>6.910000</td>\n",
              "      <td>84.500000</td>\n",
              "      <td>85.400000</td>\n",
              "      <td>1150.000000</td>\n",
              "      <td>8.420000</td>\n",
              "      <td>64.963051</td>\n",
              "      <td>178.065032</td>\n",
              "    </tr>\n",
              "  </tbody>\n",
              "</table>\n",
              "</div>\n",
              "    <div class=\"colab-df-buttons\">\n",
              "\n",
              "  <div class=\"colab-df-container\">\n",
              "    <button class=\"colab-df-convert\" onclick=\"convertToInteractive('df-091dfb72-097b-47e2-89bb-8f8af2c8b00c')\"\n",
              "            title=\"Convert this dataframe to an interactive table.\"\n",
              "            style=\"display:none;\">\n",
              "\n",
              "  <svg xmlns=\"http://www.w3.org/2000/svg\" height=\"24px\" viewBox=\"0 -960 960 960\">\n",
              "    <path d=\"M120-120v-720h720v720H120Zm60-500h600v-160H180v160Zm220 220h160v-160H400v160Zm0 220h160v-160H400v160ZM180-400h160v-160H180v160Zm440 0h160v-160H620v160ZM180-180h160v-160H180v160Zm440 0h160v-160H620v160Z\"/>\n",
              "  </svg>\n",
              "    </button>\n",
              "\n",
              "  <style>\n",
              "    .colab-df-container {\n",
              "      display:flex;\n",
              "      gap: 12px;\n",
              "    }\n",
              "\n",
              "    .colab-df-convert {\n",
              "      background-color: #E8F0FE;\n",
              "      border: none;\n",
              "      border-radius: 50%;\n",
              "      cursor: pointer;\n",
              "      display: none;\n",
              "      fill: #1967D2;\n",
              "      height: 32px;\n",
              "      padding: 0 0 0 0;\n",
              "      width: 32px;\n",
              "    }\n",
              "\n",
              "    .colab-df-convert:hover {\n",
              "      background-color: #E2EBFA;\n",
              "      box-shadow: 0px 1px 2px rgba(60, 64, 67, 0.3), 0px 1px 3px 1px rgba(60, 64, 67, 0.15);\n",
              "      fill: #174EA6;\n",
              "    }\n",
              "\n",
              "    .colab-df-buttons div {\n",
              "      margin-bottom: 4px;\n",
              "    }\n",
              "\n",
              "    [theme=dark] .colab-df-convert {\n",
              "      background-color: #3B4455;\n",
              "      fill: #D2E3FC;\n",
              "    }\n",
              "\n",
              "    [theme=dark] .colab-df-convert:hover {\n",
              "      background-color: #434B5C;\n",
              "      box-shadow: 0px 1px 3px 1px rgba(0, 0, 0, 0.15);\n",
              "      filter: drop-shadow(0px 1px 2px rgba(0, 0, 0, 0.3));\n",
              "      fill: #FFFFFF;\n",
              "    }\n",
              "  </style>\n",
              "\n",
              "    <script>\n",
              "      const buttonEl =\n",
              "        document.querySelector('#df-091dfb72-097b-47e2-89bb-8f8af2c8b00c button.colab-df-convert');\n",
              "      buttonEl.style.display =\n",
              "        google.colab.kernel.accessAllowed ? 'block' : 'none';\n",
              "\n",
              "      async function convertToInteractive(key) {\n",
              "        const element = document.querySelector('#df-091dfb72-097b-47e2-89bb-8f8af2c8b00c');\n",
              "        const dataTable =\n",
              "          await google.colab.kernel.invokeFunction('convertToInteractive',\n",
              "                                                    [key], {});\n",
              "        if (!dataTable) return;\n",
              "\n",
              "        const docLinkHtml = 'Like what you see? Visit the ' +\n",
              "          '<a target=\"_blank\" href=https://colab.research.google.com/notebooks/data_table.ipynb>data table notebook</a>'\n",
              "          + ' to learn more about interactive tables.';\n",
              "        element.innerHTML = '';\n",
              "        dataTable['output_type'] = 'display_data';\n",
              "        await google.colab.output.renderOutput(dataTable, element);\n",
              "        const docLink = document.createElement('div');\n",
              "        docLink.innerHTML = docLinkHtml;\n",
              "        element.appendChild(docLink);\n",
              "      }\n",
              "    </script>\n",
              "  </div>\n",
              "\n",
              "\n",
              "<div id=\"df-cd0898fc-f6fe-4135-99b7-be24083c2e77\">\n",
              "  <button class=\"colab-df-quickchart\" onclick=\"quickchart('df-cd0898fc-f6fe-4135-99b7-be24083c2e77')\"\n",
              "            title=\"Suggest charts\"\n",
              "            style=\"display:none;\">\n",
              "\n",
              "<svg xmlns=\"http://www.w3.org/2000/svg\" height=\"24px\"viewBox=\"0 0 24 24\"\n",
              "     width=\"24px\">\n",
              "    <g>\n",
              "        <path d=\"M19 3H5c-1.1 0-2 .9-2 2v14c0 1.1.9 2 2 2h14c1.1 0 2-.9 2-2V5c0-1.1-.9-2-2-2zM9 17H7v-7h2v7zm4 0h-2V7h2v10zm4 0h-2v-4h2v4z\"/>\n",
              "    </g>\n",
              "</svg>\n",
              "  </button>\n",
              "\n",
              "<style>\n",
              "  .colab-df-quickchart {\n",
              "      --bg-color: #E8F0FE;\n",
              "      --fill-color: #1967D2;\n",
              "      --hover-bg-color: #E2EBFA;\n",
              "      --hover-fill-color: #174EA6;\n",
              "      --disabled-fill-color: #AAA;\n",
              "      --disabled-bg-color: #DDD;\n",
              "  }\n",
              "\n",
              "  [theme=dark] .colab-df-quickchart {\n",
              "      --bg-color: #3B4455;\n",
              "      --fill-color: #D2E3FC;\n",
              "      --hover-bg-color: #434B5C;\n",
              "      --hover-fill-color: #FFFFFF;\n",
              "      --disabled-bg-color: #3B4455;\n",
              "      --disabled-fill-color: #666;\n",
              "  }\n",
              "\n",
              "  .colab-df-quickchart {\n",
              "    background-color: var(--bg-color);\n",
              "    border: none;\n",
              "    border-radius: 50%;\n",
              "    cursor: pointer;\n",
              "    display: none;\n",
              "    fill: var(--fill-color);\n",
              "    height: 32px;\n",
              "    padding: 0;\n",
              "    width: 32px;\n",
              "  }\n",
              "\n",
              "  .colab-df-quickchart:hover {\n",
              "    background-color: var(--hover-bg-color);\n",
              "    box-shadow: 0 1px 2px rgba(60, 64, 67, 0.3), 0 1px 3px 1px rgba(60, 64, 67, 0.15);\n",
              "    fill: var(--button-hover-fill-color);\n",
              "  }\n",
              "\n",
              "  .colab-df-quickchart-complete:disabled,\n",
              "  .colab-df-quickchart-complete:disabled:hover {\n",
              "    background-color: var(--disabled-bg-color);\n",
              "    fill: var(--disabled-fill-color);\n",
              "    box-shadow: none;\n",
              "  }\n",
              "\n",
              "  .colab-df-spinner {\n",
              "    border: 2px solid var(--fill-color);\n",
              "    border-color: transparent;\n",
              "    border-bottom-color: var(--fill-color);\n",
              "    animation:\n",
              "      spin 1s steps(1) infinite;\n",
              "  }\n",
              "\n",
              "  @keyframes spin {\n",
              "    0% {\n",
              "      border-color: transparent;\n",
              "      border-bottom-color: var(--fill-color);\n",
              "      border-left-color: var(--fill-color);\n",
              "    }\n",
              "    20% {\n",
              "      border-color: transparent;\n",
              "      border-left-color: var(--fill-color);\n",
              "      border-top-color: var(--fill-color);\n",
              "    }\n",
              "    30% {\n",
              "      border-color: transparent;\n",
              "      border-left-color: var(--fill-color);\n",
              "      border-top-color: var(--fill-color);\n",
              "      border-right-color: var(--fill-color);\n",
              "    }\n",
              "    40% {\n",
              "      border-color: transparent;\n",
              "      border-right-color: var(--fill-color);\n",
              "      border-top-color: var(--fill-color);\n",
              "    }\n",
              "    60% {\n",
              "      border-color: transparent;\n",
              "      border-right-color: var(--fill-color);\n",
              "    }\n",
              "    80% {\n",
              "      border-color: transparent;\n",
              "      border-right-color: var(--fill-color);\n",
              "      border-bottom-color: var(--fill-color);\n",
              "    }\n",
              "    90% {\n",
              "      border-color: transparent;\n",
              "      border-bottom-color: var(--fill-color);\n",
              "    }\n",
              "  }\n",
              "</style>\n",
              "\n",
              "  <script>\n",
              "    async function quickchart(key) {\n",
              "      const quickchartButtonEl =\n",
              "        document.querySelector('#' + key + ' button');\n",
              "      quickchartButtonEl.disabled = true;  // To prevent multiple clicks.\n",
              "      quickchartButtonEl.classList.add('colab-df-spinner');\n",
              "      try {\n",
              "        const charts = await google.colab.kernel.invokeFunction(\n",
              "            'suggestCharts', [key], {});\n",
              "      } catch (error) {\n",
              "        console.error('Error during call to suggestCharts:', error);\n",
              "      }\n",
              "      quickchartButtonEl.classList.remove('colab-df-spinner');\n",
              "      quickchartButtonEl.classList.add('colab-df-quickchart-complete');\n",
              "    }\n",
              "    (() => {\n",
              "      let quickchartButtonEl =\n",
              "        document.querySelector('#df-cd0898fc-f6fe-4135-99b7-be24083c2e77 button');\n",
              "      quickchartButtonEl.style.display =\n",
              "        google.colab.kernel.accessAllowed ? 'block' : 'none';\n",
              "    })();\n",
              "  </script>\n",
              "</div>\n",
              "\n",
              "    </div>\n",
              "  </div>\n"
            ],
            "application/vnd.google.colaboratory.intrinsic+json": {
              "type": "dataframe",
              "summary": "{\n  \"name\": \"data\",\n  \"rows\": 8,\n  \"fields\": [\n    {\n      \"column\": \"Birth Rate\",\n      \"properties\": {\n        \"dtype\": \"number\",\n        \"std\": 61.08716375504388,\n        \"min\": 5.9,\n        \"max\": 189.0,\n        \"num_unique_values\": 8,\n        \"samples\": [\n          20.214973544973546,\n          17.95,\n          189.0\n        ],\n        \"semantic_type\": \"\",\n        \"description\": \"\"\n      }\n    },\n    {\n      \"column\": \"Calling Code\",\n      \"properties\": {\n        \"dtype\": \"number\",\n        \"std\": 597.7088384128688,\n        \"min\": 1.0,\n        \"max\": 1876.0,\n        \"num_unique_values\": 8,\n        \"samples\": [\n          360.54639175257734,\n          255.5,\n          194.0\n        ],\n        \"semantic_type\": \"\",\n        \"description\": \"\"\n      }\n    },\n    {\n      \"column\": \"Fertility Rate\",\n      \"properties\": {\n        \"dtype\": \"number\",\n        \"std\": 65.51417323413467,\n        \"min\": 0.98,\n        \"max\": 188.0,\n        \"num_unique_values\": 8,\n        \"samples\": [\n          2.6981382978723403,\n          2.245,\n          188.0\n        ],\n        \"semantic_type\": \"\",\n        \"description\": \"\"\n      }\n    },\n    {\n      \"column\": \"Infant mortality\",\n      \"properties\": {\n        \"dtype\": \"number\",\n        \"std\": 63.278801314580726,\n        \"min\": 1.4,\n        \"max\": 189.0,\n        \"num_unique_values\": 8,\n        \"samples\": [\n          21.332804232804236,\n          14.0,\n          189.0\n        ],\n        \"semantic_type\": \"\",\n        \"description\": \"\"\n      }\n    },\n    {\n      \"column\": \"Life expectancy\",\n      \"properties\": {\n        \"dtype\": \"number\",\n        \"std\": 50.313506931183916,\n        \"min\": 7.483660617677969,\n        \"max\": 187.0,\n        \"num_unique_values\": 8,\n        \"samples\": [\n          72.27967914438503,\n          73.2,\n          187.0\n        ],\n        \"semantic_type\": \"\",\n        \"description\": \"\"\n      }\n    },\n    {\n      \"column\": \"Maternal mortality ratio\",\n      \"properties\": {\n        \"dtype\": \"number\",\n        \"std\": 374.8495027468767,\n        \"min\": 2.0,\n        \"max\": 1150.0,\n        \"num_unique_values\": 8,\n        \"samples\": [\n          160.39226519337018,\n          53.0,\n          181.0\n        ],\n        \"semantic_type\": \"\",\n        \"description\": \"\"\n      }\n    },\n    {\n      \"column\": \"Physicians per thousand\",\n      \"properties\": {\n        \"dtype\": \"number\",\n        \"std\": 65.67795333696719,\n        \"min\": 0.01,\n        \"max\": 188.0,\n        \"num_unique_values\": 8,\n        \"samples\": [\n          1.8398404255319147,\n          1.46,\n          188.0\n        ],\n        \"semantic_type\": \"\",\n        \"description\": \"\"\n      }\n    },\n    {\n      \"column\": \"Latitude\",\n      \"properties\": {\n        \"dtype\": \"number\",\n        \"std\": 69.02468236723436,\n        \"min\": -40.900557,\n        \"max\": 194.0,\n        \"num_unique_values\": 8,\n        \"samples\": [\n          19.092351475257733,\n          17.273849499999997,\n          194.0\n        ],\n        \"semantic_type\": \"\",\n        \"description\": \"\"\n      }\n    },\n    {\n      \"column\": \"Longitude\",\n      \"properties\": {\n        \"dtype\": \"number\",\n        \"std\": 115.16623207899038,\n        \"min\": -175.198242,\n        \"max\": 194.0,\n        \"num_unique_values\": 8,\n        \"samples\": [\n          20.232434489175255,\n          20.9726515,\n          194.0\n        ],\n        \"semantic_type\": \"\",\n        \"description\": \"\"\n      }\n    }\n  ]\n}"
            }
          },
          "metadata": {},
          "execution_count": 6
        }
      ],
      "source": [
        "data.describe()"
      ]
    },
    {
      "cell_type": "markdown",
      "metadata": {
        "id": "49a62479"
      },
      "source": [
        "dataset dtypes:"
      ]
    },
    {
      "cell_type": "code",
      "execution_count": null,
      "metadata": {
        "id": "0fd4906b",
        "scrolled": true,
        "colab": {
          "base_uri": "https://localhost:8080/"
        },
        "outputId": "1790ce37-2d03-4ed8-fba5-805aa5d14fb5"
      },
      "outputs": [
        {
          "output_type": "stream",
          "name": "stdout",
          "text": [
            "<class 'pandas.core.frame.DataFrame'>\n",
            "RangeIndex: 195 entries, 0 to 194\n",
            "Data columns (total 35 columns):\n",
            " #   Column                                     Non-Null Count  Dtype  \n",
            "---  ------                                     --------------  -----  \n",
            " 0   Country                                    195 non-null    object \n",
            " 1   Density (P/Km2)                            195 non-null    object \n",
            " 2   Abbreviation                               188 non-null    object \n",
            " 3   Agricultural Land( %)                      188 non-null    object \n",
            " 4   Land Area(Km2)                             194 non-null    object \n",
            " 5   Armed Forces size                          171 non-null    object \n",
            " 6   Birth Rate                                 189 non-null    float64\n",
            " 7   Calling Code                               194 non-null    float64\n",
            " 8   Capital/Major City                         192 non-null    object \n",
            " 9   Co2-Emissions                              188 non-null    object \n",
            " 10  CPI                                        178 non-null    object \n",
            " 11  CPI Change (%)                             179 non-null    object \n",
            " 12  Currency-Code                              180 non-null    object \n",
            " 13  Fertility Rate                             188 non-null    float64\n",
            " 14  Forested Area (%)                          188 non-null    object \n",
            " 15  Gasoline Price                             175 non-null    object \n",
            " 16  GDP                                        193 non-null    object \n",
            " 17  Gross primary education enrollment (%)     188 non-null    object \n",
            " 18  Gross tertiary education enrollment (%)    183 non-null    object \n",
            " 19  Infant mortality                           189 non-null    float64\n",
            " 20  Largest city                               189 non-null    object \n",
            " 21  Life expectancy                            187 non-null    float64\n",
            " 22  Maternal mortality ratio                   181 non-null    float64\n",
            " 23  Minimum wage                               150 non-null    object \n",
            " 24  Official language                          190 non-null    object \n",
            " 25  Out of pocket health expenditure           188 non-null    object \n",
            " 26  Physicians per thousand                    188 non-null    float64\n",
            " 27  Population                                 194 non-null    object \n",
            " 28  Population: Labor force participation (%)  176 non-null    object \n",
            " 29  Tax revenue (%)                            169 non-null    object \n",
            " 30  Total tax rate                             183 non-null    object \n",
            " 31  Unemployment rate                          176 non-null    object \n",
            " 32  Urban_population                           190 non-null    object \n",
            " 33  Latitude                                   194 non-null    float64\n",
            " 34  Longitude                                  194 non-null    float64\n",
            "dtypes: float64(9), object(26)\n",
            "memory usage: 53.4+ KB\n"
          ]
        }
      ],
      "source": [
        "data.info()"
      ]
    },
    {
      "cell_type": "markdown",
      "metadata": {
        "id": "051b2568"
      },
      "source": [
        "how many rows the dataset has:"
      ]
    },
    {
      "cell_type": "code",
      "execution_count": null,
      "metadata": {
        "id": "04109310",
        "colab": {
          "base_uri": "https://localhost:8080/"
        },
        "outputId": "88a5d414-a149-4905-e1a0-35c3ec74fb26"
      },
      "outputs": [
        {
          "output_type": "execute_result",
          "data": {
            "text/plain": [
              "195"
            ]
          },
          "metadata": {},
          "execution_count": 8
        }
      ],
      "source": [
        "data.shape[0]"
      ]
    },
    {
      "cell_type": "markdown",
      "metadata": {
        "id": "08bc7ff2"
      },
      "source": [
        "The file contains data on countries with the following fields:\n",
        "\n",
        "Country: String\n",
        "Density (P/Km2): Number\n",
        "Abbreviation: String\n",
        "Agricultural Land (%): Number\n",
        "Land Area (Km2): Number\n",
        "Armed Forces size: Number\n",
        "Birth Rate: Number\n",
        "Calling Code: Number\n",
        "Capital/Major City: String\n",
        "CO2-Emissions: Number\n",
        "CPI: Number\n",
        "CPI Change (%): Number\n",
        "Currency-Code: String\n",
        "Fertility Rate: Number\n",
        "Forested Area (%): Number\n",
        "Gasoline Price: Number\n",
        "GDP: String\n",
        "Gross primary education enrollment (%): Number\n",
        "Gross tertiary education enrollment (%): Number\n",
        "Infant mortality: Number\n",
        "Largest city: String\n",
        "Life expectancy: Number\n",
        "Maternal mortality ratio: Number\n",
        "Minimum wage: Number\n",
        "Official language: String\n",
        "Out of pocket health expenditure: Number\n",
        "Physicians per thousand: Number\n",
        "Population: Number\n",
        "Population: Labor force participation (%): Number\n",
        "Tax revenue (%): Number\n",
        "Total tax rate: Number\n",
        "Unemployment rate: Number\n",
        "Urban_population: Number\n",
        "Latitude: Number\n",
        "Longitude: Number\n",
        "The file contains 194 rows, one for each country."
      ]
    },
    {
      "cell_type": "markdown",
      "metadata": {
        "id": "f50c377a"
      },
      "source": [
        "Data cleaning:"
      ]
    },
    {
      "cell_type": "markdown",
      "metadata": {
        "id": "4f6dac66"
      },
      "source": [
        "Remove unrelevant columns:<br>\n",
        "* Capital city, Official language, Abbreviation, Currency Code, Calling code - aren't relevant for analysis.\n",
        "*   Largest city population - Size of largest city is not a key indicator for our research purposes.\n",
        "*   Armed forces personnel - Military size doesn't determine aid requirements.\n",
        "*   Gasoline prices - Fuel prices in different countries depend on many factors which aren't necessarily relevant to the developement status of the country.\n",
        "* Foersted area (%), Latitude, Longitude- don't indicate anything about a country's developement status.  \n",
        "\n",
        "\n",
        "\n",
        "\n",
        "\n",
        "\n",
        "\n",
        "\n"
      ]
    },
    {
      "cell_type": "code",
      "execution_count": null,
      "metadata": {
        "id": "5ccfbec1",
        "colab": {
          "base_uri": "https://localhost:8080/"
        },
        "outputId": "82161eb5-1b09-4930-d68b-e1103ba767a5"
      },
      "outputs": [
        {
          "output_type": "stream",
          "name": "stdout",
          "text": [
            "Index(['Country', 'Density (P/Km2)', 'Agricultural Land( %)', 'Land Area(Km2)',\n",
            "       'Birth Rate', 'Co2-Emissions', 'CPI', 'CPI Change (%)',\n",
            "       'Fertility Rate', 'GDP', 'Gross primary education enrollment (%)',\n",
            "       'Gross tertiary education enrollment (%)', 'Infant mortality',\n",
            "       'Life expectancy', 'Maternal mortality ratio', 'Minimum wage',\n",
            "       'Out of pocket health expenditure', 'Physicians per thousand',\n",
            "       'Population', 'Population: Labor force participation (%)',\n",
            "       'Tax revenue (%)', 'Total tax rate', 'Unemployment rate',\n",
            "       'Urban_population'],\n",
            "      dtype='object')\n"
          ]
        }
      ],
      "source": [
        "remove_cols = [ 'Currency-Code', 'Capital/Major City',\n",
        "               'Official language', 'Abbreviation',\n",
        "               'Largest city', 'Armed Forces size','Gasoline Price',\n",
        "               'Calling Code','Forested Area (%)',\"Latitude\",\"Longitude\"]\n",
        "\n",
        "data.drop(columns=remove_cols, inplace=True)\n",
        "print(data.columns)"
      ]
    },
    {
      "cell_type": "markdown",
      "metadata": {
        "id": "S1GAl3089GUq"
      },
      "source": [
        "converting data to float"
      ]
    },
    {
      "cell_type": "code",
      "execution_count": null,
      "metadata": {
        "id": "Dw9MREjuaOYv",
        "colab": {
          "base_uri": "https://localhost:8080/"
        },
        "outputId": "2b851b7f-1c1e-4f21-e629-83d0f54f2087"
      },
      "outputs": [
        {
          "output_type": "stream",
          "name": "stdout",
          "text": [
            "0         149.9\n",
            "1        119.05\n",
            "2        151.36\n",
            "3           NaN\n",
            "4        261.73\n",
            "         ...   \n",
            "190    2,740.27\n",
            "191      163.52\n",
            "192      157.58\n",
            "193      212.31\n",
            "194      105.51\n",
            "Name: CPI, Length: 195, dtype: object\n"
          ]
        }
      ],
      "source": [
        "print(data['CPI'])"
      ]
    },
    {
      "cell_type": "code",
      "execution_count": null,
      "metadata": {
        "id": "tZY4DeGr84HO",
        "colab": {
          "base_uri": "https://localhost:8080/"
        },
        "outputId": "cf33093a-89ae-4fc1-d41c-6ed5d225ba00"
      },
      "outputs": [
        {
          "output_type": "stream",
          "name": "stdout",
          "text": [
            "<class 'pandas.core.frame.DataFrame'>\n",
            "RangeIndex: 195 entries, 0 to 194\n",
            "Data columns (total 24 columns):\n",
            " #   Column                                     Non-Null Count  Dtype  \n",
            "---  ------                                     --------------  -----  \n",
            " 0   Country                                    195 non-null    object \n",
            " 1   Density (P/Km2)                            195 non-null    float64\n",
            " 2   Agricultural Land( %)                      188 non-null    float64\n",
            " 3   Land Area(Km2)                             194 non-null    float64\n",
            " 4   Birth Rate                                 189 non-null    float64\n",
            " 5   Co2-Emissions                              188 non-null    float64\n",
            " 6   CPI                                        178 non-null    float64\n",
            " 7   CPI Change (%)                             179 non-null    float64\n",
            " 8   Fertility Rate                             188 non-null    float64\n",
            " 9   GDP                                        193 non-null    float64\n",
            " 10  Gross primary education enrollment (%)     188 non-null    float64\n",
            " 11  Gross tertiary education enrollment (%)    183 non-null    float64\n",
            " 12  Infant mortality                           189 non-null    float64\n",
            " 13  Life expectancy                            187 non-null    float64\n",
            " 14  Maternal mortality ratio                   181 non-null    float64\n",
            " 15  Minimum wage                               150 non-null    float64\n",
            " 16  Out of pocket health expenditure           188 non-null    float64\n",
            " 17  Physicians per thousand                    188 non-null    float64\n",
            " 18  Population                                 194 non-null    float64\n",
            " 19  Population: Labor force participation (%)  176 non-null    float64\n",
            " 20  Tax revenue (%)                            169 non-null    float64\n",
            " 21  Total tax rate                             183 non-null    float64\n",
            " 22  Unemployment rate                          176 non-null    float64\n",
            " 23  Urban_population                           190 non-null    float64\n",
            "dtypes: float64(23), object(1)\n",
            "memory usage: 36.7+ KB\n"
          ]
        }
      ],
      "source": [
        "\n",
        "for col in data.columns[1:]:\n",
        "    #if data[col].dtype == 'object':  # Check if column type is 'object' (string)\n",
        "        for i, val in enumerate(data[col]):\n",
        "            val=str(val).strip()\n",
        "            if re.fullmatch(r'-?\\$?[\\d,.]+%?\\$?\\s*$', str(val)):\n",
        "                val = str(val).replace(',', '')\n",
        "                if '%' in val:\n",
        "                    data.at[i, col] = float(val.replace('%', '')) / 100\n",
        "                elif '$' in val:\n",
        "                    data.at[i, col] = float(val.replace('$', ''))\n",
        "                else:\n",
        "                    data.at[i, col] = float(val)\n",
        "        data[col]=data[col].astype(float)\n",
        "data.info()\n"
      ]
    },
    {
      "cell_type": "code",
      "execution_count": null,
      "metadata": {
        "id": "yDxkMSTVaYAl",
        "colab": {
          "base_uri": "https://localhost:8080/"
        },
        "outputId": "a0885129-196e-4103-8ac5-f309c1349f6b"
      },
      "outputs": [
        {
          "output_type": "stream",
          "name": "stdout",
          "text": [
            "0       149.90\n",
            "1       119.05\n",
            "2       151.36\n",
            "3          NaN\n",
            "4       261.73\n",
            "        ...   \n",
            "190    2740.27\n",
            "191     163.52\n",
            "192     157.58\n",
            "193     212.31\n",
            "194     105.51\n",
            "Name: CPI, Length: 195, dtype: float64\n"
          ]
        }
      ],
      "source": [
        "print(data['CPI'])"
      ]
    },
    {
      "cell_type": "markdown",
      "metadata": {
        "id": "9c19c616"
      },
      "source": [
        "cheacking for missing data:"
      ]
    },
    {
      "cell_type": "markdown",
      "metadata": {
        "id": "SRv2CDHxSalk"
      },
      "source": [
        "droping countries that dont have at list 20 none nan values"
      ]
    },
    {
      "cell_type": "code",
      "execution_count": null,
      "metadata": {
        "id": "nCI5eYFPRuDp"
      },
      "outputs": [],
      "source": [
        "data=data.dropna(thresh=20)"
      ]
    },
    {
      "cell_type": "code",
      "execution_count": null,
      "metadata": {
        "id": "ebe408b8",
        "colab": {
          "base_uri": "https://localhost:8080/",
          "height": 836
        },
        "outputId": "dfe45981-cbf6-4cbb-9362-2c4d33e02da5"
      },
      "outputs": [
        {
          "output_type": "execute_result",
          "data": {
            "text/plain": [
              "Country                                      False\n",
              "Density (P/Km2)                              False\n",
              "Agricultural Land( %)                        False\n",
              "Land Area(Km2)                               False\n",
              "Birth Rate                                   False\n",
              "Co2-Emissions                                False\n",
              "CPI                                           True\n",
              "CPI Change (%)                                True\n",
              "Fertility Rate                               False\n",
              "GDP                                          False\n",
              "Gross primary education enrollment (%)        True\n",
              "Gross tertiary education enrollment (%)       True\n",
              "Infant mortality                             False\n",
              "Life expectancy                              False\n",
              "Maternal mortality ratio                      True\n",
              "Minimum wage                                  True\n",
              "Out of pocket health expenditure             False\n",
              "Physicians per thousand                      False\n",
              "Population                                   False\n",
              "Population: Labor force participation (%)     True\n",
              "Tax revenue (%)                               True\n",
              "Total tax rate                                True\n",
              "Unemployment rate                             True\n",
              "Urban_population                             False\n",
              "dtype: bool"
            ],
            "text/html": [
              "<div>\n",
              "<style scoped>\n",
              "    .dataframe tbody tr th:only-of-type {\n",
              "        vertical-align: middle;\n",
              "    }\n",
              "\n",
              "    .dataframe tbody tr th {\n",
              "        vertical-align: top;\n",
              "    }\n",
              "\n",
              "    .dataframe thead th {\n",
              "        text-align: right;\n",
              "    }\n",
              "</style>\n",
              "<table border=\"1\" class=\"dataframe\">\n",
              "  <thead>\n",
              "    <tr style=\"text-align: right;\">\n",
              "      <th></th>\n",
              "      <th>0</th>\n",
              "    </tr>\n",
              "  </thead>\n",
              "  <tbody>\n",
              "    <tr>\n",
              "      <th>Country</th>\n",
              "      <td>False</td>\n",
              "    </tr>\n",
              "    <tr>\n",
              "      <th>Density (P/Km2)</th>\n",
              "      <td>False</td>\n",
              "    </tr>\n",
              "    <tr>\n",
              "      <th>Agricultural Land( %)</th>\n",
              "      <td>False</td>\n",
              "    </tr>\n",
              "    <tr>\n",
              "      <th>Land Area(Km2)</th>\n",
              "      <td>False</td>\n",
              "    </tr>\n",
              "    <tr>\n",
              "      <th>Birth Rate</th>\n",
              "      <td>False</td>\n",
              "    </tr>\n",
              "    <tr>\n",
              "      <th>Co2-Emissions</th>\n",
              "      <td>False</td>\n",
              "    </tr>\n",
              "    <tr>\n",
              "      <th>CPI</th>\n",
              "      <td>True</td>\n",
              "    </tr>\n",
              "    <tr>\n",
              "      <th>CPI Change (%)</th>\n",
              "      <td>True</td>\n",
              "    </tr>\n",
              "    <tr>\n",
              "      <th>Fertility Rate</th>\n",
              "      <td>False</td>\n",
              "    </tr>\n",
              "    <tr>\n",
              "      <th>GDP</th>\n",
              "      <td>False</td>\n",
              "    </tr>\n",
              "    <tr>\n",
              "      <th>Gross primary education enrollment (%)</th>\n",
              "      <td>True</td>\n",
              "    </tr>\n",
              "    <tr>\n",
              "      <th>Gross tertiary education enrollment (%)</th>\n",
              "      <td>True</td>\n",
              "    </tr>\n",
              "    <tr>\n",
              "      <th>Infant mortality</th>\n",
              "      <td>False</td>\n",
              "    </tr>\n",
              "    <tr>\n",
              "      <th>Life expectancy</th>\n",
              "      <td>False</td>\n",
              "    </tr>\n",
              "    <tr>\n",
              "      <th>Maternal mortality ratio</th>\n",
              "      <td>True</td>\n",
              "    </tr>\n",
              "    <tr>\n",
              "      <th>Minimum wage</th>\n",
              "      <td>True</td>\n",
              "    </tr>\n",
              "    <tr>\n",
              "      <th>Out of pocket health expenditure</th>\n",
              "      <td>False</td>\n",
              "    </tr>\n",
              "    <tr>\n",
              "      <th>Physicians per thousand</th>\n",
              "      <td>False</td>\n",
              "    </tr>\n",
              "    <tr>\n",
              "      <th>Population</th>\n",
              "      <td>False</td>\n",
              "    </tr>\n",
              "    <tr>\n",
              "      <th>Population: Labor force participation (%)</th>\n",
              "      <td>True</td>\n",
              "    </tr>\n",
              "    <tr>\n",
              "      <th>Tax revenue (%)</th>\n",
              "      <td>True</td>\n",
              "    </tr>\n",
              "    <tr>\n",
              "      <th>Total tax rate</th>\n",
              "      <td>True</td>\n",
              "    </tr>\n",
              "    <tr>\n",
              "      <th>Unemployment rate</th>\n",
              "      <td>True</td>\n",
              "    </tr>\n",
              "    <tr>\n",
              "      <th>Urban_population</th>\n",
              "      <td>False</td>\n",
              "    </tr>\n",
              "  </tbody>\n",
              "</table>\n",
              "</div><br><label><b>dtype:</b> bool</label>"
            ]
          },
          "metadata": {},
          "execution_count": 14
        }
      ],
      "source": [
        "data.isna().any()"
      ]
    },
    {
      "cell_type": "code",
      "execution_count": null,
      "metadata": {
        "id": "0d479424",
        "scrolled": true,
        "colab": {
          "base_uri": "https://localhost:8080/"
        },
        "outputId": "aee3946b-af57-4c11-d334-1385773a20d4"
      },
      "outputs": [
        {
          "output_type": "execute_result",
          "data": {
            "text/plain": [
              "10"
            ]
          },
          "metadata": {},
          "execution_count": 15
        }
      ],
      "source": [
        "data.isna().any().sum()"
      ]
    },
    {
      "cell_type": "code",
      "execution_count": null,
      "metadata": {
        "id": "p6XNYiIWQi5z",
        "colab": {
          "base_uri": "https://localhost:8080/",
          "height": 1000
        },
        "outputId": "a62c9a74-205f-4e40-b17e-d2f9ab66bf56"
      },
      "outputs": [
        {
          "output_type": "execute_result",
          "data": {
            "text/plain": [
              "                            Country  Density (P/Km2)  Agricultural Land( %)  \\\n",
              "5               Antigua and Barbuda            223.0                  0.205   \n",
              "9                           Austria            109.0                  0.324   \n",
              "12                          Bahrain           2239.0                  0.111   \n",
              "15                          Belarus             47.0                  0.420   \n",
              "20                          Bolivia             11.0                  0.348   \n",
              "21           Bosnia and Herzegovina             64.0                  0.431   \n",
              "24                           Brunei             83.0                  0.027   \n",
              "27                          Burundi            463.0                  0.792   \n",
              "30                         Cambodia             95.0                  0.309   \n",
              "34                             Chad             13.0                  0.397   \n",
              "38                          Comoros            467.0                  0.715   \n",
              "43                           Cyprus            131.0                  0.122   \n",
              "46                          Denmark            137.0                  0.620   \n",
              "47                         Djibouti             43.0                  0.734   \n",
              "48                         Dominica             96.0                  0.333   \n",
              "50                          Ecuador             71.0                  0.222   \n",
              "51                            Egypt            103.0                  0.038   \n",
              "54                          Eritrea             35.0                  0.752   \n",
              "57                         Ethiopia            115.0                  0.363   \n",
              "59                          Finland             18.0                  0.075   \n",
              "67                          Grenada            331.0                  0.235   \n",
              "69                           Guinea             53.0                  0.590   \n",
              "71                           Guyana              4.0                  0.086   \n",
              "72                            Haiti            414.0                  0.668   \n",
              "76                          Iceland              3.0                  0.187   \n",
              "83                            Italy            206.0                  0.432   \n",
              "89                         Kiribati            147.0                  0.420   \n",
              "97                            Libya              4.0                  0.087   \n",
              "104                        Maldives           1802.0                  0.263   \n",
              "108                      Mauritania              5.0                  0.385   \n",
              "111  Federated States of Micronesia            784.0                  0.314   \n",
              "115                      Montenegro             47.0                  0.190   \n",
              "119                         Namibia              3.0                  0.471   \n",
              "129                          Norway             15.0                  0.027   \n",
              "132                           Palau             39.0                  0.109   \n",
              "134                          Panama             58.0                  0.304   \n",
              "141                           Qatar            248.0                  0.058   \n",
              "144                          Rwanda            525.0                  0.734   \n",
              "145           Saint Kitts and Nevis            205.0                  0.231   \n",
              "146                     Saint Lucia            301.0                  0.174   \n",
              "150                    S�����������            228.0                  0.507   \n",
              "154                      Seychelles            214.0                  0.034   \n",
              "156                       Singapore           8358.0                  0.009   \n",
              "159                 Solomon Islands             25.0                  0.039   \n",
              "161                    South Africa             49.0                  0.798   \n",
              "167                        Suriname              4.0                  0.006   \n",
              "168                          Sweden             25.0                  0.074   \n",
              "169                     Switzerland            219.0                  0.384   \n",
              "176                           Tonga            147.0                  0.458   \n",
              "180                    Turkmenistan             13.0                  0.720   \n",
              "184            United Arab Emirates            118.0                  0.055   \n",
              "188                      Uzbekistan             79.0                  0.629   \n",
              "190                       Venezuela             32.0                  0.245   \n",
              "192                           Yemen             56.0                  0.446   \n",
              "194                        Zimbabwe             38.0                  0.419   \n",
              "\n",
              "     Land Area(Km2)  Birth Rate  Co2-Emissions      CPI  CPI Change (%)  \\\n",
              "5             443.0       15.33          557.0   113.81           0.012   \n",
              "9           83871.0        9.70        61448.0   118.06           0.015   \n",
              "12            765.0       13.99        31694.0   117.59           0.021   \n",
              "15         207600.0        9.90        58280.0      NaN           0.056   \n",
              "20        1098581.0       21.75        21606.0   148.32           0.018   \n",
              "21          51197.0        8.11        21848.0   104.90           0.006   \n",
              "24           5765.0       14.90         7664.0    99.03          -0.004   \n",
              "27          27830.0       39.01          495.0   182.11          -0.007   \n",
              "30         181035.0       22.46         9919.0   127.63           0.025   \n",
              "34        1284000.0       42.17         1016.0   117.70          -0.010   \n",
              "38           2235.0       31.88          202.0   103.62          -0.043   \n",
              "43           9251.0       10.46         6626.0   102.51           0.003   \n",
              "46          43094.0       10.60        31786.0   110.35           0.008   \n",
              "47          23200.0       21.47          620.0   120.25           0.033   \n",
              "48            751.0       12.00          180.0   103.87           0.010   \n",
              "50         283561.0       19.72        41155.0   124.14           0.003   \n",
              "51        1001450.0       26.38       238560.0   288.57           0.092   \n",
              "54         117600.0       30.30          711.0      NaN             NaN   \n",
              "57        1104300.0       32.34        14870.0   143.86           0.158   \n",
              "59         338145.0        8.60        45871.0   112.33           0.010   \n",
              "67            349.0       16.47          268.0   107.43           0.008   \n",
              "69         245857.0       36.36         2996.0   262.95           0.095   \n",
              "71         214969.0       19.97         2384.0   116.19           0.021   \n",
              "72          27750.0       24.35         2978.0   179.29           0.125   \n",
              "76         103000.0       12.00         2065.0   129.00           0.030   \n",
              "83         301340.0        7.30       320411.0   110.62           0.006   \n",
              "89            811.0       27.89           66.0    99.55           0.006   \n",
              "97        1759540.0       18.83        50564.0   125.71           0.026   \n",
              "104           298.0       14.20         1445.0    99.70           0.002   \n",
              "108       1030700.0       33.69         2739.0   135.02           0.023   \n",
              "111           702.0       22.82          143.0   112.10           0.005   \n",
              "115         13812.0       11.73         2017.0   116.32           0.026   \n",
              "119        824292.0       28.64         4228.0   157.97           0.037   \n",
              "129        323802.0       10.40        41023.0   120.27           0.022   \n",
              "132           459.0       14.00          224.0   118.17           0.013   \n",
              "134         75420.0       18.98        10715.0   122.07          -0.004   \n",
              "141         11586.0        9.54       103259.0   115.38          -0.007   \n",
              "144         26338.0       31.70         1115.0   151.09           0.034   \n",
              "145           261.0       12.60          238.0   104.57          -0.010   \n",
              "146           616.0       12.00          414.0   110.13           0.019   \n",
              "150           964.0       31.54          121.0   185.09           0.079   \n",
              "154           455.0       17.10          605.0   129.96           0.018   \n",
              "156           716.0        8.80        37535.0   114.41           0.006   \n",
              "159         28896.0       32.44          169.0   133.06           0.016   \n",
              "161       1219090.0       20.51       476644.0   158.93           0.041   \n",
              "167        163820.0       18.54         1738.0   294.66           0.220   \n",
              "168        450295.0       11.40        43252.0   110.51           0.018   \n",
              "169         41277.0       10.00        34477.0    99.55           0.004   \n",
              "176           747.0       24.30          128.0   121.09           0.074   \n",
              "180        488100.0       23.83        70630.0      NaN             NaN   \n",
              "184         83600.0       10.33       206324.0   114.52          -0.019   \n",
              "188        447400.0       23.30        91811.0      NaN             NaN   \n",
              "190        912050.0       17.88       164175.0  2740.27           2.549   \n",
              "192        527968.0       30.45        10609.0   157.58           0.081   \n",
              "194        390757.0       30.68        10983.0   105.51           0.009   \n",
              "\n",
              "     Fertility Rate           GDP  ...  Maternal mortality ratio  \\\n",
              "5              1.99  1.727759e+09  ...                      42.0   \n",
              "9              1.47  4.463147e+11  ...                       5.0   \n",
              "12             1.99  3.857407e+10  ...                      14.0   \n",
              "15             1.45  6.308046e+10  ...                       2.0   \n",
              "20             2.73  4.089532e+10  ...                     155.0   \n",
              "21             1.27  2.004785e+10  ...                      10.0   \n",
              "24             1.85  1.346942e+10  ...                      31.0   \n",
              "27             5.41  3.012335e+09  ...                     548.0   \n",
              "30             2.50  2.708939e+10  ...                     160.0   \n",
              "34             5.75  1.131495e+10  ...                    1140.0   \n",
              "38             4.21  1.185729e+09  ...                     273.0   \n",
              "43             1.33  2.456465e+10  ...                       6.0   \n",
              "46             1.73  3.480780e+11  ...                       4.0   \n",
              "47             2.73  3.318716e+09  ...                     248.0   \n",
              "48             1.90  5.960333e+08  ...                       NaN   \n",
              "50             2.43  1.074357e+11  ...                      59.0   \n",
              "51             3.33  3.031751e+11  ...                      37.0   \n",
              "54             4.06  2.065002e+09  ...                     480.0   \n",
              "57             4.25  9.610766e+10  ...                     401.0   \n",
              "59             1.41  2.687612e+11  ...                       3.0   \n",
              "67             2.06  1.228170e+09  ...                      25.0   \n",
              "69             4.70  1.359028e+10  ...                     576.0   \n",
              "71             2.46  4.280444e+09  ...                     169.0   \n",
              "72             2.94  8.498982e+09  ...                     480.0   \n",
              "76             1.71  2.418804e+10  ...                       4.0   \n",
              "83             1.29  2.001244e+12  ...                       2.0   \n",
              "89             3.57  1.946472e+08  ...                      92.0   \n",
              "97             2.24  5.207625e+10  ...                      72.0   \n",
              "104            1.87  5.729248e+09  ...                      53.0   \n",
              "108            4.56  7.593752e+09  ...                     766.0   \n",
              "111            3.05  4.019323e+08  ...                      88.0   \n",
              "115            1.75  5.494737e+09  ...                       6.0   \n",
              "119            3.40  1.236653e+10  ...                     195.0   \n",
              "129            1.56  4.033364e+11  ...                       2.0   \n",
              "132            2.21  2.839949e+08  ...                       NaN   \n",
              "134            2.46  6.680080e+10  ...                      52.0   \n",
              "141            1.87  1.834662e+11  ...                       9.0   \n",
              "144            4.04  1.012247e+10  ...                     248.0   \n",
              "145            2.11  1.050993e+09  ...                       NaN   \n",
              "146            1.44  2.122451e+09  ...                     117.0   \n",
              "150            4.32  4.290166e+08  ...                     130.0   \n",
              "154            2.41  1.698843e+09  ...                      53.0   \n",
              "156            1.14  3.720625e+11  ...                       8.0   \n",
              "159            4.40  1.425074e+09  ...                     104.0   \n",
              "161            2.41  3.514316e+11  ...                     119.0   \n",
              "167            2.42  3.985251e+09  ...                     120.0   \n",
              "168            1.76  5.308329e+11  ...                       4.0   \n",
              "169            1.52  7.030824e+11  ...                       5.0   \n",
              "176            3.56  4.503533e+08  ...                      52.0   \n",
              "180            2.79  4.076114e+10  ...                       7.0   \n",
              "184            1.41  4.211423e+11  ...                       3.0   \n",
              "188            2.42  5.792129e+10  ...                      29.0   \n",
              "190            2.27  4.823593e+11  ...                     125.0   \n",
              "192            3.79  2.691440e+10  ...                     164.0   \n",
              "194            3.62  2.144076e+10  ...                     458.0   \n",
              "\n",
              "     Minimum wage  Out of pocket health expenditure  Physicians per thousand  \\\n",
              "5            3.04                             0.243                     2.76   \n",
              "9             NaN                             0.179                     5.17   \n",
              "12            NaN                             0.251                     0.93   \n",
              "15           1.49                             0.345                     5.19   \n",
              "20           1.36                             0.259                     1.59   \n",
              "21           1.04                             0.286                     2.16   \n",
              "24            NaN                             0.060                     1.61   \n",
              "27            NaN                             0.191                     0.10   \n",
              "30            NaN                             0.594                     0.17   \n",
              "34           0.60                             0.564                     0.04   \n",
              "38           0.71                             0.748                     0.27   \n",
              "43            NaN                             0.439                     1.95   \n",
              "46            NaN                             0.137                     4.01   \n",
              "47            NaN                             0.204                     0.22   \n",
              "48           1.48                             0.284                     1.08   \n",
              "50           2.46                             0.437                     2.04   \n",
              "51            NaN                             0.620                     0.45   \n",
              "54            NaN                             0.524                     0.06   \n",
              "57            NaN                             0.378                     0.08   \n",
              "59            NaN                             0.199                     3.81   \n",
              "67            NaN                             0.570                     1.41   \n",
              "69            NaN                             0.545                     0.08   \n",
              "71           0.98                             0.405                     0.80   \n",
              "72           0.25                             0.363                     0.23   \n",
              "76            NaN                             0.170                     4.08   \n",
              "83            NaN                             0.228                     3.98   \n",
              "89            NaN                             0.002                     0.20   \n",
              "97           1.88                             0.367                     2.09   \n",
              "104           NaN                             0.164                     4.56   \n",
              "108          0.53                             0.482                     0.19   \n",
              "111           NaN                             0.025                     0.18   \n",
              "115          1.23                             0.318                     2.76   \n",
              "119           NaN                             0.083                     0.42   \n",
              "129           NaN                             0.143                     2.92   \n",
              "132          3.00                             0.218                     1.18   \n",
              "134          1.53                             0.305                     1.57   \n",
              "141           NaN                             0.062                     2.49   \n",
              "144           NaN                             0.260                     0.13   \n",
              "145          3.33                             0.566                     2.52   \n",
              "146           NaN                             0.484                     0.64   \n",
              "150           NaN                             0.117                     0.05   \n",
              "154          2.00                             0.025                     0.95   \n",
              "156           NaN                             0.367                     2.29   \n",
              "159          0.40                             0.033                     0.19   \n",
              "161           NaN                             0.077                     0.91   \n",
              "167           NaN                             0.101                     1.21   \n",
              "168           NaN                             0.152                     3.98   \n",
              "169           NaN                             0.283                     4.30   \n",
              "176           NaN                             0.102                     0.52   \n",
              "180          0.88                             0.711                     2.22   \n",
              "184           NaN                             0.178                     2.53   \n",
              "188          0.24                             0.427                     2.37   \n",
              "190          0.01                             0.458                     1.92   \n",
              "192           NaN                             0.810                     0.31   \n",
              "194           NaN                             0.258                     0.21   \n",
              "\n",
              "      Population  Population: Labor force participation (%)  Tax revenue (%)  \\\n",
              "5        97118.0                                        NaN            0.165   \n",
              "9      8877067.0                                      0.607            0.254   \n",
              "12     1501635.0                                      0.734            0.042   \n",
              "15     9466856.0                                      0.641            0.147   \n",
              "20    11513100.0                                      0.718            0.170   \n",
              "21     3301000.0                                      0.464            0.204   \n",
              "24      433285.0                                      0.647              NaN   \n",
              "27    11530580.0                                      0.792            0.136   \n",
              "30    16486542.0                                      0.823            0.171   \n",
              "34    15946876.0                                      0.707              NaN   \n",
              "38      850886.0                                      0.433              NaN   \n",
              "43     1198575.0                                      0.631            0.245   \n",
              "46     5818553.0                                      0.622            0.324   \n",
              "47      973560.0                                      0.602              NaN   \n",
              "48       71808.0                                        NaN            0.221   \n",
              "50    17373662.0                                      0.680              NaN   \n",
              "51   100388073.0                                      0.464            0.125   \n",
              "54     6333135.0                                      0.784              NaN   \n",
              "57   112078730.0                                      0.796            0.075   \n",
              "59     5520314.0                                      0.591            0.208   \n",
              "67      112003.0                                        NaN            0.194   \n",
              "69    12771246.0                                      0.615            0.108   \n",
              "71      782766.0                                      0.562              NaN   \n",
              "72    11263077.0                                      0.672              NaN   \n",
              "76      361313.0                                      0.750            0.233   \n",
              "83    60297396.0                                      0.496            0.243   \n",
              "89      117606.0                                        NaN            0.220   \n",
              "97     6777452.0                                      0.497              NaN   \n",
              "104     530953.0                                      0.698            0.195   \n",
              "108    4525696.0                                      0.459              NaN   \n",
              "111     113815.0                                        NaN            0.252   \n",
              "115     622137.0                                      0.544              NaN   \n",
              "119    2494530.0                                      0.595            0.271   \n",
              "129    5347896.0                                      0.638            0.239   \n",
              "132      18233.0                                        NaN            0.213   \n",
              "134    4246439.0                                      0.666              NaN   \n",
              "141    2832067.0                                      0.868            0.147   \n",
              "144   12626950.0                                      0.837            0.143   \n",
              "145      52823.0                                        NaN            0.185   \n",
              "146     182790.0                                      0.671            0.182   \n",
              "150     215056.0                                      0.578            0.146   \n",
              "154      97625.0                                        NaN            0.341   \n",
              "156    5703569.0                                      0.705            0.131   \n",
              "159     669823.0                                      0.838            0.295   \n",
              "161   58558270.0                                      0.560            0.275   \n",
              "167     581372.0                                      0.511            0.195   \n",
              "168   10285453.0                                      0.646            0.279   \n",
              "169    8574832.0                                      0.683            0.101   \n",
              "176     100209.0                                      0.598            0.223   \n",
              "180    5942089.0                                      0.645              NaN   \n",
              "184    9770529.0                                      0.821            0.001   \n",
              "188   33580650.0                                      0.651            0.148   \n",
              "190   28515829.0                                      0.597              NaN   \n",
              "192   29161922.0                                      0.380              NaN   \n",
              "194   14645468.0                                      0.831            0.207   \n",
              "\n",
              "     Total tax rate  Unemployment rate  Urban_population  \n",
              "5             0.430                NaN           23800.0  \n",
              "9             0.514             0.0467         5194416.0  \n",
              "12            0.138             0.0071         1467109.0  \n",
              "15            0.533             0.0459         7482982.0  \n",
              "20            0.837             0.0350         8033035.0  \n",
              "21            0.237             0.1842         1605144.0  \n",
              "24            0.080             0.0912          337711.0  \n",
              "27            0.412             0.0143         1541177.0  \n",
              "30            0.231             0.0068         3924621.0  \n",
              "34            0.635             0.0189         3712273.0  \n",
              "38            2.196             0.0434          248152.0  \n",
              "43            0.224             0.0727          800708.0  \n",
              "46            0.238             0.0491         5119978.0  \n",
              "47            0.379             0.1030          758549.0  \n",
              "48            0.326                NaN           50830.0  \n",
              "50            0.344             0.0397        11116711.0  \n",
              "51            0.444             0.1076        42895824.0  \n",
              "54            0.837             0.0514         1149670.0  \n",
              "57            0.377             0.0208        23788710.0  \n",
              "59            0.366             0.0659         4716888.0  \n",
              "67            0.478                NaN           40765.0  \n",
              "69            0.693             0.0430         4661505.0  \n",
              "71            0.306             0.1185          208912.0  \n",
              "72            0.427             0.1378         6328948.0  \n",
              "76            0.319             0.0284          339110.0  \n",
              "83            0.591             0.0989        42651966.0  \n",
              "89            0.327                NaN           64489.0  \n",
              "97            0.326             0.1856         5448597.0  \n",
              "104           0.302             0.0614          213645.0  \n",
              "108           0.670             0.0955         2466821.0  \n",
              "111           0.605                NaN           25963.0  \n",
              "115           0.222             0.1488          417765.0  \n",
              "119           0.207             0.2027         1273258.0  \n",
              "129           0.362             0.0335         4418218.0  \n",
              "132           0.766                NaN           14491.0  \n",
              "134           0.372             0.0390         2890084.0  \n",
              "141           0.113             0.0009         2809071.0  \n",
              "144           0.332             0.0103         2186104.0  \n",
              "145           0.497                NaN           16269.0  \n",
              "146           0.347             0.2071           34280.0  \n",
              "150           0.370             0.1337          158277.0  \n",
              "154           0.301                NaN           55762.0  \n",
              "156           0.210             0.0411         5703569.0  \n",
              "159           0.320             0.0058          162164.0  \n",
              "161           0.292             0.2818        39149717.0  \n",
              "167           0.279             0.0733          384258.0  \n",
              "168           0.491             0.0648         9021165.0  \n",
              "169           0.288             0.0458         6332428.0  \n",
              "176           0.275             0.0112           24145.0  \n",
              "180             NaN             0.0391         3092738.0  \n",
              "184           0.159             0.0235         8479744.0  \n",
              "188           0.316             0.0592        16935729.0  \n",
              "190           0.733             0.0880        25162368.0  \n",
              "192           0.266             0.1291        10869523.0  \n",
              "194           0.316             0.0495         4717305.0  \n",
              "\n",
              "[55 rows x 24 columns]"
            ],
            "text/html": [
              "\n",
              "  <div id=\"df-6a466b5b-55f1-48f1-933b-ca3b13ae4cb4\" class=\"colab-df-container\">\n",
              "    <div>\n",
              "<style scoped>\n",
              "    .dataframe tbody tr th:only-of-type {\n",
              "        vertical-align: middle;\n",
              "    }\n",
              "\n",
              "    .dataframe tbody tr th {\n",
              "        vertical-align: top;\n",
              "    }\n",
              "\n",
              "    .dataframe thead th {\n",
              "        text-align: right;\n",
              "    }\n",
              "</style>\n",
              "<table border=\"1\" class=\"dataframe\">\n",
              "  <thead>\n",
              "    <tr style=\"text-align: right;\">\n",
              "      <th></th>\n",
              "      <th>Country</th>\n",
              "      <th>Density (P/Km2)</th>\n",
              "      <th>Agricultural Land( %)</th>\n",
              "      <th>Land Area(Km2)</th>\n",
              "      <th>Birth Rate</th>\n",
              "      <th>Co2-Emissions</th>\n",
              "      <th>CPI</th>\n",
              "      <th>CPI Change (%)</th>\n",
              "      <th>Fertility Rate</th>\n",
              "      <th>GDP</th>\n",
              "      <th>...</th>\n",
              "      <th>Maternal mortality ratio</th>\n",
              "      <th>Minimum wage</th>\n",
              "      <th>Out of pocket health expenditure</th>\n",
              "      <th>Physicians per thousand</th>\n",
              "      <th>Population</th>\n",
              "      <th>Population: Labor force participation (%)</th>\n",
              "      <th>Tax revenue (%)</th>\n",
              "      <th>Total tax rate</th>\n",
              "      <th>Unemployment rate</th>\n",
              "      <th>Urban_population</th>\n",
              "    </tr>\n",
              "  </thead>\n",
              "  <tbody>\n",
              "    <tr>\n",
              "      <th>5</th>\n",
              "      <td>Antigua and Barbuda</td>\n",
              "      <td>223.0</td>\n",
              "      <td>0.205</td>\n",
              "      <td>443.0</td>\n",
              "      <td>15.33</td>\n",
              "      <td>557.0</td>\n",
              "      <td>113.81</td>\n",
              "      <td>0.012</td>\n",
              "      <td>1.99</td>\n",
              "      <td>1.727759e+09</td>\n",
              "      <td>...</td>\n",
              "      <td>42.0</td>\n",
              "      <td>3.04</td>\n",
              "      <td>0.243</td>\n",
              "      <td>2.76</td>\n",
              "      <td>97118.0</td>\n",
              "      <td>NaN</td>\n",
              "      <td>0.165</td>\n",
              "      <td>0.430</td>\n",
              "      <td>NaN</td>\n",
              "      <td>23800.0</td>\n",
              "    </tr>\n",
              "    <tr>\n",
              "      <th>9</th>\n",
              "      <td>Austria</td>\n",
              "      <td>109.0</td>\n",
              "      <td>0.324</td>\n",
              "      <td>83871.0</td>\n",
              "      <td>9.70</td>\n",
              "      <td>61448.0</td>\n",
              "      <td>118.06</td>\n",
              "      <td>0.015</td>\n",
              "      <td>1.47</td>\n",
              "      <td>4.463147e+11</td>\n",
              "      <td>...</td>\n",
              "      <td>5.0</td>\n",
              "      <td>NaN</td>\n",
              "      <td>0.179</td>\n",
              "      <td>5.17</td>\n",
              "      <td>8877067.0</td>\n",
              "      <td>0.607</td>\n",
              "      <td>0.254</td>\n",
              "      <td>0.514</td>\n",
              "      <td>0.0467</td>\n",
              "      <td>5194416.0</td>\n",
              "    </tr>\n",
              "    <tr>\n",
              "      <th>12</th>\n",
              "      <td>Bahrain</td>\n",
              "      <td>2239.0</td>\n",
              "      <td>0.111</td>\n",
              "      <td>765.0</td>\n",
              "      <td>13.99</td>\n",
              "      <td>31694.0</td>\n",
              "      <td>117.59</td>\n",
              "      <td>0.021</td>\n",
              "      <td>1.99</td>\n",
              "      <td>3.857407e+10</td>\n",
              "      <td>...</td>\n",
              "      <td>14.0</td>\n",
              "      <td>NaN</td>\n",
              "      <td>0.251</td>\n",
              "      <td>0.93</td>\n",
              "      <td>1501635.0</td>\n",
              "      <td>0.734</td>\n",
              "      <td>0.042</td>\n",
              "      <td>0.138</td>\n",
              "      <td>0.0071</td>\n",
              "      <td>1467109.0</td>\n",
              "    </tr>\n",
              "    <tr>\n",
              "      <th>15</th>\n",
              "      <td>Belarus</td>\n",
              "      <td>47.0</td>\n",
              "      <td>0.420</td>\n",
              "      <td>207600.0</td>\n",
              "      <td>9.90</td>\n",
              "      <td>58280.0</td>\n",
              "      <td>NaN</td>\n",
              "      <td>0.056</td>\n",
              "      <td>1.45</td>\n",
              "      <td>6.308046e+10</td>\n",
              "      <td>...</td>\n",
              "      <td>2.0</td>\n",
              "      <td>1.49</td>\n",
              "      <td>0.345</td>\n",
              "      <td>5.19</td>\n",
              "      <td>9466856.0</td>\n",
              "      <td>0.641</td>\n",
              "      <td>0.147</td>\n",
              "      <td>0.533</td>\n",
              "      <td>0.0459</td>\n",
              "      <td>7482982.0</td>\n",
              "    </tr>\n",
              "    <tr>\n",
              "      <th>20</th>\n",
              "      <td>Bolivia</td>\n",
              "      <td>11.0</td>\n",
              "      <td>0.348</td>\n",
              "      <td>1098581.0</td>\n",
              "      <td>21.75</td>\n",
              "      <td>21606.0</td>\n",
              "      <td>148.32</td>\n",
              "      <td>0.018</td>\n",
              "      <td>2.73</td>\n",
              "      <td>4.089532e+10</td>\n",
              "      <td>...</td>\n",
              "      <td>155.0</td>\n",
              "      <td>1.36</td>\n",
              "      <td>0.259</td>\n",
              "      <td>1.59</td>\n",
              "      <td>11513100.0</td>\n",
              "      <td>0.718</td>\n",
              "      <td>0.170</td>\n",
              "      <td>0.837</td>\n",
              "      <td>0.0350</td>\n",
              "      <td>8033035.0</td>\n",
              "    </tr>\n",
              "    <tr>\n",
              "      <th>21</th>\n",
              "      <td>Bosnia and Herzegovina</td>\n",
              "      <td>64.0</td>\n",
              "      <td>0.431</td>\n",
              "      <td>51197.0</td>\n",
              "      <td>8.11</td>\n",
              "      <td>21848.0</td>\n",
              "      <td>104.90</td>\n",
              "      <td>0.006</td>\n",
              "      <td>1.27</td>\n",
              "      <td>2.004785e+10</td>\n",
              "      <td>...</td>\n",
              "      <td>10.0</td>\n",
              "      <td>1.04</td>\n",
              "      <td>0.286</td>\n",
              "      <td>2.16</td>\n",
              "      <td>3301000.0</td>\n",
              "      <td>0.464</td>\n",
              "      <td>0.204</td>\n",
              "      <td>0.237</td>\n",
              "      <td>0.1842</td>\n",
              "      <td>1605144.0</td>\n",
              "    </tr>\n",
              "    <tr>\n",
              "      <th>24</th>\n",
              "      <td>Brunei</td>\n",
              "      <td>83.0</td>\n",
              "      <td>0.027</td>\n",
              "      <td>5765.0</td>\n",
              "      <td>14.90</td>\n",
              "      <td>7664.0</td>\n",
              "      <td>99.03</td>\n",
              "      <td>-0.004</td>\n",
              "      <td>1.85</td>\n",
              "      <td>1.346942e+10</td>\n",
              "      <td>...</td>\n",
              "      <td>31.0</td>\n",
              "      <td>NaN</td>\n",
              "      <td>0.060</td>\n",
              "      <td>1.61</td>\n",
              "      <td>433285.0</td>\n",
              "      <td>0.647</td>\n",
              "      <td>NaN</td>\n",
              "      <td>0.080</td>\n",
              "      <td>0.0912</td>\n",
              "      <td>337711.0</td>\n",
              "    </tr>\n",
              "    <tr>\n",
              "      <th>27</th>\n",
              "      <td>Burundi</td>\n",
              "      <td>463.0</td>\n",
              "      <td>0.792</td>\n",
              "      <td>27830.0</td>\n",
              "      <td>39.01</td>\n",
              "      <td>495.0</td>\n",
              "      <td>182.11</td>\n",
              "      <td>-0.007</td>\n",
              "      <td>5.41</td>\n",
              "      <td>3.012335e+09</td>\n",
              "      <td>...</td>\n",
              "      <td>548.0</td>\n",
              "      <td>NaN</td>\n",
              "      <td>0.191</td>\n",
              "      <td>0.10</td>\n",
              "      <td>11530580.0</td>\n",
              "      <td>0.792</td>\n",
              "      <td>0.136</td>\n",
              "      <td>0.412</td>\n",
              "      <td>0.0143</td>\n",
              "      <td>1541177.0</td>\n",
              "    </tr>\n",
              "    <tr>\n",
              "      <th>30</th>\n",
              "      <td>Cambodia</td>\n",
              "      <td>95.0</td>\n",
              "      <td>0.309</td>\n",
              "      <td>181035.0</td>\n",
              "      <td>22.46</td>\n",
              "      <td>9919.0</td>\n",
              "      <td>127.63</td>\n",
              "      <td>0.025</td>\n",
              "      <td>2.50</td>\n",
              "      <td>2.708939e+10</td>\n",
              "      <td>...</td>\n",
              "      <td>160.0</td>\n",
              "      <td>NaN</td>\n",
              "      <td>0.594</td>\n",
              "      <td>0.17</td>\n",
              "      <td>16486542.0</td>\n",
              "      <td>0.823</td>\n",
              "      <td>0.171</td>\n",
              "      <td>0.231</td>\n",
              "      <td>0.0068</td>\n",
              "      <td>3924621.0</td>\n",
              "    </tr>\n",
              "    <tr>\n",
              "      <th>34</th>\n",
              "      <td>Chad</td>\n",
              "      <td>13.0</td>\n",
              "      <td>0.397</td>\n",
              "      <td>1284000.0</td>\n",
              "      <td>42.17</td>\n",
              "      <td>1016.0</td>\n",
              "      <td>117.70</td>\n",
              "      <td>-0.010</td>\n",
              "      <td>5.75</td>\n",
              "      <td>1.131495e+10</td>\n",
              "      <td>...</td>\n",
              "      <td>1140.0</td>\n",
              "      <td>0.60</td>\n",
              "      <td>0.564</td>\n",
              "      <td>0.04</td>\n",
              "      <td>15946876.0</td>\n",
              "      <td>0.707</td>\n",
              "      <td>NaN</td>\n",
              "      <td>0.635</td>\n",
              "      <td>0.0189</td>\n",
              "      <td>3712273.0</td>\n",
              "    </tr>\n",
              "    <tr>\n",
              "      <th>38</th>\n",
              "      <td>Comoros</td>\n",
              "      <td>467.0</td>\n",
              "      <td>0.715</td>\n",
              "      <td>2235.0</td>\n",
              "      <td>31.88</td>\n",
              "      <td>202.0</td>\n",
              "      <td>103.62</td>\n",
              "      <td>-0.043</td>\n",
              "      <td>4.21</td>\n",
              "      <td>1.185729e+09</td>\n",
              "      <td>...</td>\n",
              "      <td>273.0</td>\n",
              "      <td>0.71</td>\n",
              "      <td>0.748</td>\n",
              "      <td>0.27</td>\n",
              "      <td>850886.0</td>\n",
              "      <td>0.433</td>\n",
              "      <td>NaN</td>\n",
              "      <td>2.196</td>\n",
              "      <td>0.0434</td>\n",
              "      <td>248152.0</td>\n",
              "    </tr>\n",
              "    <tr>\n",
              "      <th>43</th>\n",
              "      <td>Cyprus</td>\n",
              "      <td>131.0</td>\n",
              "      <td>0.122</td>\n",
              "      <td>9251.0</td>\n",
              "      <td>10.46</td>\n",
              "      <td>6626.0</td>\n",
              "      <td>102.51</td>\n",
              "      <td>0.003</td>\n",
              "      <td>1.33</td>\n",
              "      <td>2.456465e+10</td>\n",
              "      <td>...</td>\n",
              "      <td>6.0</td>\n",
              "      <td>NaN</td>\n",
              "      <td>0.439</td>\n",
              "      <td>1.95</td>\n",
              "      <td>1198575.0</td>\n",
              "      <td>0.631</td>\n",
              "      <td>0.245</td>\n",
              "      <td>0.224</td>\n",
              "      <td>0.0727</td>\n",
              "      <td>800708.0</td>\n",
              "    </tr>\n",
              "    <tr>\n",
              "      <th>46</th>\n",
              "      <td>Denmark</td>\n",
              "      <td>137.0</td>\n",
              "      <td>0.620</td>\n",
              "      <td>43094.0</td>\n",
              "      <td>10.60</td>\n",
              "      <td>31786.0</td>\n",
              "      <td>110.35</td>\n",
              "      <td>0.008</td>\n",
              "      <td>1.73</td>\n",
              "      <td>3.480780e+11</td>\n",
              "      <td>...</td>\n",
              "      <td>4.0</td>\n",
              "      <td>NaN</td>\n",
              "      <td>0.137</td>\n",
              "      <td>4.01</td>\n",
              "      <td>5818553.0</td>\n",
              "      <td>0.622</td>\n",
              "      <td>0.324</td>\n",
              "      <td>0.238</td>\n",
              "      <td>0.0491</td>\n",
              "      <td>5119978.0</td>\n",
              "    </tr>\n",
              "    <tr>\n",
              "      <th>47</th>\n",
              "      <td>Djibouti</td>\n",
              "      <td>43.0</td>\n",
              "      <td>0.734</td>\n",
              "      <td>23200.0</td>\n",
              "      <td>21.47</td>\n",
              "      <td>620.0</td>\n",
              "      <td>120.25</td>\n",
              "      <td>0.033</td>\n",
              "      <td>2.73</td>\n",
              "      <td>3.318716e+09</td>\n",
              "      <td>...</td>\n",
              "      <td>248.0</td>\n",
              "      <td>NaN</td>\n",
              "      <td>0.204</td>\n",
              "      <td>0.22</td>\n",
              "      <td>973560.0</td>\n",
              "      <td>0.602</td>\n",
              "      <td>NaN</td>\n",
              "      <td>0.379</td>\n",
              "      <td>0.1030</td>\n",
              "      <td>758549.0</td>\n",
              "    </tr>\n",
              "    <tr>\n",
              "      <th>48</th>\n",
              "      <td>Dominica</td>\n",
              "      <td>96.0</td>\n",
              "      <td>0.333</td>\n",
              "      <td>751.0</td>\n",
              "      <td>12.00</td>\n",
              "      <td>180.0</td>\n",
              "      <td>103.87</td>\n",
              "      <td>0.010</td>\n",
              "      <td>1.90</td>\n",
              "      <td>5.960333e+08</td>\n",
              "      <td>...</td>\n",
              "      <td>NaN</td>\n",
              "      <td>1.48</td>\n",
              "      <td>0.284</td>\n",
              "      <td>1.08</td>\n",
              "      <td>71808.0</td>\n",
              "      <td>NaN</td>\n",
              "      <td>0.221</td>\n",
              "      <td>0.326</td>\n",
              "      <td>NaN</td>\n",
              "      <td>50830.0</td>\n",
              "    </tr>\n",
              "    <tr>\n",
              "      <th>50</th>\n",
              "      <td>Ecuador</td>\n",
              "      <td>71.0</td>\n",
              "      <td>0.222</td>\n",
              "      <td>283561.0</td>\n",
              "      <td>19.72</td>\n",
              "      <td>41155.0</td>\n",
              "      <td>124.14</td>\n",
              "      <td>0.003</td>\n",
              "      <td>2.43</td>\n",
              "      <td>1.074357e+11</td>\n",
              "      <td>...</td>\n",
              "      <td>59.0</td>\n",
              "      <td>2.46</td>\n",
              "      <td>0.437</td>\n",
              "      <td>2.04</td>\n",
              "      <td>17373662.0</td>\n",
              "      <td>0.680</td>\n",
              "      <td>NaN</td>\n",
              "      <td>0.344</td>\n",
              "      <td>0.0397</td>\n",
              "      <td>11116711.0</td>\n",
              "    </tr>\n",
              "    <tr>\n",
              "      <th>51</th>\n",
              "      <td>Egypt</td>\n",
              "      <td>103.0</td>\n",
              "      <td>0.038</td>\n",
              "      <td>1001450.0</td>\n",
              "      <td>26.38</td>\n",
              "      <td>238560.0</td>\n",
              "      <td>288.57</td>\n",
              "      <td>0.092</td>\n",
              "      <td>3.33</td>\n",
              "      <td>3.031751e+11</td>\n",
              "      <td>...</td>\n",
              "      <td>37.0</td>\n",
              "      <td>NaN</td>\n",
              "      <td>0.620</td>\n",
              "      <td>0.45</td>\n",
              "      <td>100388073.0</td>\n",
              "      <td>0.464</td>\n",
              "      <td>0.125</td>\n",
              "      <td>0.444</td>\n",
              "      <td>0.1076</td>\n",
              "      <td>42895824.0</td>\n",
              "    </tr>\n",
              "    <tr>\n",
              "      <th>54</th>\n",
              "      <td>Eritrea</td>\n",
              "      <td>35.0</td>\n",
              "      <td>0.752</td>\n",
              "      <td>117600.0</td>\n",
              "      <td>30.30</td>\n",
              "      <td>711.0</td>\n",
              "      <td>NaN</td>\n",
              "      <td>NaN</td>\n",
              "      <td>4.06</td>\n",
              "      <td>2.065002e+09</td>\n",
              "      <td>...</td>\n",
              "      <td>480.0</td>\n",
              "      <td>NaN</td>\n",
              "      <td>0.524</td>\n",
              "      <td>0.06</td>\n",
              "      <td>6333135.0</td>\n",
              "      <td>0.784</td>\n",
              "      <td>NaN</td>\n",
              "      <td>0.837</td>\n",
              "      <td>0.0514</td>\n",
              "      <td>1149670.0</td>\n",
              "    </tr>\n",
              "    <tr>\n",
              "      <th>57</th>\n",
              "      <td>Ethiopia</td>\n",
              "      <td>115.0</td>\n",
              "      <td>0.363</td>\n",
              "      <td>1104300.0</td>\n",
              "      <td>32.34</td>\n",
              "      <td>14870.0</td>\n",
              "      <td>143.86</td>\n",
              "      <td>0.158</td>\n",
              "      <td>4.25</td>\n",
              "      <td>9.610766e+10</td>\n",
              "      <td>...</td>\n",
              "      <td>401.0</td>\n",
              "      <td>NaN</td>\n",
              "      <td>0.378</td>\n",
              "      <td>0.08</td>\n",
              "      <td>112078730.0</td>\n",
              "      <td>0.796</td>\n",
              "      <td>0.075</td>\n",
              "      <td>0.377</td>\n",
              "      <td>0.0208</td>\n",
              "      <td>23788710.0</td>\n",
              "    </tr>\n",
              "    <tr>\n",
              "      <th>59</th>\n",
              "      <td>Finland</td>\n",
              "      <td>18.0</td>\n",
              "      <td>0.075</td>\n",
              "      <td>338145.0</td>\n",
              "      <td>8.60</td>\n",
              "      <td>45871.0</td>\n",
              "      <td>112.33</td>\n",
              "      <td>0.010</td>\n",
              "      <td>1.41</td>\n",
              "      <td>2.687612e+11</td>\n",
              "      <td>...</td>\n",
              "      <td>3.0</td>\n",
              "      <td>NaN</td>\n",
              "      <td>0.199</td>\n",
              "      <td>3.81</td>\n",
              "      <td>5520314.0</td>\n",
              "      <td>0.591</td>\n",
              "      <td>0.208</td>\n",
              "      <td>0.366</td>\n",
              "      <td>0.0659</td>\n",
              "      <td>4716888.0</td>\n",
              "    </tr>\n",
              "    <tr>\n",
              "      <th>67</th>\n",
              "      <td>Grenada</td>\n",
              "      <td>331.0</td>\n",
              "      <td>0.235</td>\n",
              "      <td>349.0</td>\n",
              "      <td>16.47</td>\n",
              "      <td>268.0</td>\n",
              "      <td>107.43</td>\n",
              "      <td>0.008</td>\n",
              "      <td>2.06</td>\n",
              "      <td>1.228170e+09</td>\n",
              "      <td>...</td>\n",
              "      <td>25.0</td>\n",
              "      <td>NaN</td>\n",
              "      <td>0.570</td>\n",
              "      <td>1.41</td>\n",
              "      <td>112003.0</td>\n",
              "      <td>NaN</td>\n",
              "      <td>0.194</td>\n",
              "      <td>0.478</td>\n",
              "      <td>NaN</td>\n",
              "      <td>40765.0</td>\n",
              "    </tr>\n",
              "    <tr>\n",
              "      <th>69</th>\n",
              "      <td>Guinea</td>\n",
              "      <td>53.0</td>\n",
              "      <td>0.590</td>\n",
              "      <td>245857.0</td>\n",
              "      <td>36.36</td>\n",
              "      <td>2996.0</td>\n",
              "      <td>262.95</td>\n",
              "      <td>0.095</td>\n",
              "      <td>4.70</td>\n",
              "      <td>1.359028e+10</td>\n",
              "      <td>...</td>\n",
              "      <td>576.0</td>\n",
              "      <td>NaN</td>\n",
              "      <td>0.545</td>\n",
              "      <td>0.08</td>\n",
              "      <td>12771246.0</td>\n",
              "      <td>0.615</td>\n",
              "      <td>0.108</td>\n",
              "      <td>0.693</td>\n",
              "      <td>0.0430</td>\n",
              "      <td>4661505.0</td>\n",
              "    </tr>\n",
              "    <tr>\n",
              "      <th>71</th>\n",
              "      <td>Guyana</td>\n",
              "      <td>4.0</td>\n",
              "      <td>0.086</td>\n",
              "      <td>214969.0</td>\n",
              "      <td>19.97</td>\n",
              "      <td>2384.0</td>\n",
              "      <td>116.19</td>\n",
              "      <td>0.021</td>\n",
              "      <td>2.46</td>\n",
              "      <td>4.280444e+09</td>\n",
              "      <td>...</td>\n",
              "      <td>169.0</td>\n",
              "      <td>0.98</td>\n",
              "      <td>0.405</td>\n",
              "      <td>0.80</td>\n",
              "      <td>782766.0</td>\n",
              "      <td>0.562</td>\n",
              "      <td>NaN</td>\n",
              "      <td>0.306</td>\n",
              "      <td>0.1185</td>\n",
              "      <td>208912.0</td>\n",
              "    </tr>\n",
              "    <tr>\n",
              "      <th>72</th>\n",
              "      <td>Haiti</td>\n",
              "      <td>414.0</td>\n",
              "      <td>0.668</td>\n",
              "      <td>27750.0</td>\n",
              "      <td>24.35</td>\n",
              "      <td>2978.0</td>\n",
              "      <td>179.29</td>\n",
              "      <td>0.125</td>\n",
              "      <td>2.94</td>\n",
              "      <td>8.498982e+09</td>\n",
              "      <td>...</td>\n",
              "      <td>480.0</td>\n",
              "      <td>0.25</td>\n",
              "      <td>0.363</td>\n",
              "      <td>0.23</td>\n",
              "      <td>11263077.0</td>\n",
              "      <td>0.672</td>\n",
              "      <td>NaN</td>\n",
              "      <td>0.427</td>\n",
              "      <td>0.1378</td>\n",
              "      <td>6328948.0</td>\n",
              "    </tr>\n",
              "    <tr>\n",
              "      <th>76</th>\n",
              "      <td>Iceland</td>\n",
              "      <td>3.0</td>\n",
              "      <td>0.187</td>\n",
              "      <td>103000.0</td>\n",
              "      <td>12.00</td>\n",
              "      <td>2065.0</td>\n",
              "      <td>129.00</td>\n",
              "      <td>0.030</td>\n",
              "      <td>1.71</td>\n",
              "      <td>2.418804e+10</td>\n",
              "      <td>...</td>\n",
              "      <td>4.0</td>\n",
              "      <td>NaN</td>\n",
              "      <td>0.170</td>\n",
              "      <td>4.08</td>\n",
              "      <td>361313.0</td>\n",
              "      <td>0.750</td>\n",
              "      <td>0.233</td>\n",
              "      <td>0.319</td>\n",
              "      <td>0.0284</td>\n",
              "      <td>339110.0</td>\n",
              "    </tr>\n",
              "    <tr>\n",
              "      <th>83</th>\n",
              "      <td>Italy</td>\n",
              "      <td>206.0</td>\n",
              "      <td>0.432</td>\n",
              "      <td>301340.0</td>\n",
              "      <td>7.30</td>\n",
              "      <td>320411.0</td>\n",
              "      <td>110.62</td>\n",
              "      <td>0.006</td>\n",
              "      <td>1.29</td>\n",
              "      <td>2.001244e+12</td>\n",
              "      <td>...</td>\n",
              "      <td>2.0</td>\n",
              "      <td>NaN</td>\n",
              "      <td>0.228</td>\n",
              "      <td>3.98</td>\n",
              "      <td>60297396.0</td>\n",
              "      <td>0.496</td>\n",
              "      <td>0.243</td>\n",
              "      <td>0.591</td>\n",
              "      <td>0.0989</td>\n",
              "      <td>42651966.0</td>\n",
              "    </tr>\n",
              "    <tr>\n",
              "      <th>89</th>\n",
              "      <td>Kiribati</td>\n",
              "      <td>147.0</td>\n",
              "      <td>0.420</td>\n",
              "      <td>811.0</td>\n",
              "      <td>27.89</td>\n",
              "      <td>66.0</td>\n",
              "      <td>99.55</td>\n",
              "      <td>0.006</td>\n",
              "      <td>3.57</td>\n",
              "      <td>1.946472e+08</td>\n",
              "      <td>...</td>\n",
              "      <td>92.0</td>\n",
              "      <td>NaN</td>\n",
              "      <td>0.002</td>\n",
              "      <td>0.20</td>\n",
              "      <td>117606.0</td>\n",
              "      <td>NaN</td>\n",
              "      <td>0.220</td>\n",
              "      <td>0.327</td>\n",
              "      <td>NaN</td>\n",
              "      <td>64489.0</td>\n",
              "    </tr>\n",
              "    <tr>\n",
              "      <th>97</th>\n",
              "      <td>Libya</td>\n",
              "      <td>4.0</td>\n",
              "      <td>0.087</td>\n",
              "      <td>1759540.0</td>\n",
              "      <td>18.83</td>\n",
              "      <td>50564.0</td>\n",
              "      <td>125.71</td>\n",
              "      <td>0.026</td>\n",
              "      <td>2.24</td>\n",
              "      <td>5.207625e+10</td>\n",
              "      <td>...</td>\n",
              "      <td>72.0</td>\n",
              "      <td>1.88</td>\n",
              "      <td>0.367</td>\n",
              "      <td>2.09</td>\n",
              "      <td>6777452.0</td>\n",
              "      <td>0.497</td>\n",
              "      <td>NaN</td>\n",
              "      <td>0.326</td>\n",
              "      <td>0.1856</td>\n",
              "      <td>5448597.0</td>\n",
              "    </tr>\n",
              "    <tr>\n",
              "      <th>104</th>\n",
              "      <td>Maldives</td>\n",
              "      <td>1802.0</td>\n",
              "      <td>0.263</td>\n",
              "      <td>298.0</td>\n",
              "      <td>14.20</td>\n",
              "      <td>1445.0</td>\n",
              "      <td>99.70</td>\n",
              "      <td>0.002</td>\n",
              "      <td>1.87</td>\n",
              "      <td>5.729248e+09</td>\n",
              "      <td>...</td>\n",
              "      <td>53.0</td>\n",
              "      <td>NaN</td>\n",
              "      <td>0.164</td>\n",
              "      <td>4.56</td>\n",
              "      <td>530953.0</td>\n",
              "      <td>0.698</td>\n",
              "      <td>0.195</td>\n",
              "      <td>0.302</td>\n",
              "      <td>0.0614</td>\n",
              "      <td>213645.0</td>\n",
              "    </tr>\n",
              "    <tr>\n",
              "      <th>108</th>\n",
              "      <td>Mauritania</td>\n",
              "      <td>5.0</td>\n",
              "      <td>0.385</td>\n",
              "      <td>1030700.0</td>\n",
              "      <td>33.69</td>\n",
              "      <td>2739.0</td>\n",
              "      <td>135.02</td>\n",
              "      <td>0.023</td>\n",
              "      <td>4.56</td>\n",
              "      <td>7.593752e+09</td>\n",
              "      <td>...</td>\n",
              "      <td>766.0</td>\n",
              "      <td>0.53</td>\n",
              "      <td>0.482</td>\n",
              "      <td>0.19</td>\n",
              "      <td>4525696.0</td>\n",
              "      <td>0.459</td>\n",
              "      <td>NaN</td>\n",
              "      <td>0.670</td>\n",
              "      <td>0.0955</td>\n",
              "      <td>2466821.0</td>\n",
              "    </tr>\n",
              "    <tr>\n",
              "      <th>111</th>\n",
              "      <td>Federated States of Micronesia</td>\n",
              "      <td>784.0</td>\n",
              "      <td>0.314</td>\n",
              "      <td>702.0</td>\n",
              "      <td>22.82</td>\n",
              "      <td>143.0</td>\n",
              "      <td>112.10</td>\n",
              "      <td>0.005</td>\n",
              "      <td>3.05</td>\n",
              "      <td>4.019323e+08</td>\n",
              "      <td>...</td>\n",
              "      <td>88.0</td>\n",
              "      <td>NaN</td>\n",
              "      <td>0.025</td>\n",
              "      <td>0.18</td>\n",
              "      <td>113815.0</td>\n",
              "      <td>NaN</td>\n",
              "      <td>0.252</td>\n",
              "      <td>0.605</td>\n",
              "      <td>NaN</td>\n",
              "      <td>25963.0</td>\n",
              "    </tr>\n",
              "    <tr>\n",
              "      <th>115</th>\n",
              "      <td>Montenegro</td>\n",
              "      <td>47.0</td>\n",
              "      <td>0.190</td>\n",
              "      <td>13812.0</td>\n",
              "      <td>11.73</td>\n",
              "      <td>2017.0</td>\n",
              "      <td>116.32</td>\n",
              "      <td>0.026</td>\n",
              "      <td>1.75</td>\n",
              "      <td>5.494737e+09</td>\n",
              "      <td>...</td>\n",
              "      <td>6.0</td>\n",
              "      <td>1.23</td>\n",
              "      <td>0.318</td>\n",
              "      <td>2.76</td>\n",
              "      <td>622137.0</td>\n",
              "      <td>0.544</td>\n",
              "      <td>NaN</td>\n",
              "      <td>0.222</td>\n",
              "      <td>0.1488</td>\n",
              "      <td>417765.0</td>\n",
              "    </tr>\n",
              "    <tr>\n",
              "      <th>119</th>\n",
              "      <td>Namibia</td>\n",
              "      <td>3.0</td>\n",
              "      <td>0.471</td>\n",
              "      <td>824292.0</td>\n",
              "      <td>28.64</td>\n",
              "      <td>4228.0</td>\n",
              "      <td>157.97</td>\n",
              "      <td>0.037</td>\n",
              "      <td>3.40</td>\n",
              "      <td>1.236653e+10</td>\n",
              "      <td>...</td>\n",
              "      <td>195.0</td>\n",
              "      <td>NaN</td>\n",
              "      <td>0.083</td>\n",
              "      <td>0.42</td>\n",
              "      <td>2494530.0</td>\n",
              "      <td>0.595</td>\n",
              "      <td>0.271</td>\n",
              "      <td>0.207</td>\n",
              "      <td>0.2027</td>\n",
              "      <td>1273258.0</td>\n",
              "    </tr>\n",
              "    <tr>\n",
              "      <th>129</th>\n",
              "      <td>Norway</td>\n",
              "      <td>15.0</td>\n",
              "      <td>0.027</td>\n",
              "      <td>323802.0</td>\n",
              "      <td>10.40</td>\n",
              "      <td>41023.0</td>\n",
              "      <td>120.27</td>\n",
              "      <td>0.022</td>\n",
              "      <td>1.56</td>\n",
              "      <td>4.033364e+11</td>\n",
              "      <td>...</td>\n",
              "      <td>2.0</td>\n",
              "      <td>NaN</td>\n",
              "      <td>0.143</td>\n",
              "      <td>2.92</td>\n",
              "      <td>5347896.0</td>\n",
              "      <td>0.638</td>\n",
              "      <td>0.239</td>\n",
              "      <td>0.362</td>\n",
              "      <td>0.0335</td>\n",
              "      <td>4418218.0</td>\n",
              "    </tr>\n",
              "    <tr>\n",
              "      <th>132</th>\n",
              "      <td>Palau</td>\n",
              "      <td>39.0</td>\n",
              "      <td>0.109</td>\n",
              "      <td>459.0</td>\n",
              "      <td>14.00</td>\n",
              "      <td>224.0</td>\n",
              "      <td>118.17</td>\n",
              "      <td>0.013</td>\n",
              "      <td>2.21</td>\n",
              "      <td>2.839949e+08</td>\n",
              "      <td>...</td>\n",
              "      <td>NaN</td>\n",
              "      <td>3.00</td>\n",
              "      <td>0.218</td>\n",
              "      <td>1.18</td>\n",
              "      <td>18233.0</td>\n",
              "      <td>NaN</td>\n",
              "      <td>0.213</td>\n",
              "      <td>0.766</td>\n",
              "      <td>NaN</td>\n",
              "      <td>14491.0</td>\n",
              "    </tr>\n",
              "    <tr>\n",
              "      <th>134</th>\n",
              "      <td>Panama</td>\n",
              "      <td>58.0</td>\n",
              "      <td>0.304</td>\n",
              "      <td>75420.0</td>\n",
              "      <td>18.98</td>\n",
              "      <td>10715.0</td>\n",
              "      <td>122.07</td>\n",
              "      <td>-0.004</td>\n",
              "      <td>2.46</td>\n",
              "      <td>6.680080e+10</td>\n",
              "      <td>...</td>\n",
              "      <td>52.0</td>\n",
              "      <td>1.53</td>\n",
              "      <td>0.305</td>\n",
              "      <td>1.57</td>\n",
              "      <td>4246439.0</td>\n",
              "      <td>0.666</td>\n",
              "      <td>NaN</td>\n",
              "      <td>0.372</td>\n",
              "      <td>0.0390</td>\n",
              "      <td>2890084.0</td>\n",
              "    </tr>\n",
              "    <tr>\n",
              "      <th>141</th>\n",
              "      <td>Qatar</td>\n",
              "      <td>248.0</td>\n",
              "      <td>0.058</td>\n",
              "      <td>11586.0</td>\n",
              "      <td>9.54</td>\n",
              "      <td>103259.0</td>\n",
              "      <td>115.38</td>\n",
              "      <td>-0.007</td>\n",
              "      <td>1.87</td>\n",
              "      <td>1.834662e+11</td>\n",
              "      <td>...</td>\n",
              "      <td>9.0</td>\n",
              "      <td>NaN</td>\n",
              "      <td>0.062</td>\n",
              "      <td>2.49</td>\n",
              "      <td>2832067.0</td>\n",
              "      <td>0.868</td>\n",
              "      <td>0.147</td>\n",
              "      <td>0.113</td>\n",
              "      <td>0.0009</td>\n",
              "      <td>2809071.0</td>\n",
              "    </tr>\n",
              "    <tr>\n",
              "      <th>144</th>\n",
              "      <td>Rwanda</td>\n",
              "      <td>525.0</td>\n",
              "      <td>0.734</td>\n",
              "      <td>26338.0</td>\n",
              "      <td>31.70</td>\n",
              "      <td>1115.0</td>\n",
              "      <td>151.09</td>\n",
              "      <td>0.034</td>\n",
              "      <td>4.04</td>\n",
              "      <td>1.012247e+10</td>\n",
              "      <td>...</td>\n",
              "      <td>248.0</td>\n",
              "      <td>NaN</td>\n",
              "      <td>0.260</td>\n",
              "      <td>0.13</td>\n",
              "      <td>12626950.0</td>\n",
              "      <td>0.837</td>\n",
              "      <td>0.143</td>\n",
              "      <td>0.332</td>\n",
              "      <td>0.0103</td>\n",
              "      <td>2186104.0</td>\n",
              "    </tr>\n",
              "    <tr>\n",
              "      <th>145</th>\n",
              "      <td>Saint Kitts and Nevis</td>\n",
              "      <td>205.0</td>\n",
              "      <td>0.231</td>\n",
              "      <td>261.0</td>\n",
              "      <td>12.60</td>\n",
              "      <td>238.0</td>\n",
              "      <td>104.57</td>\n",
              "      <td>-0.010</td>\n",
              "      <td>2.11</td>\n",
              "      <td>1.050993e+09</td>\n",
              "      <td>...</td>\n",
              "      <td>NaN</td>\n",
              "      <td>3.33</td>\n",
              "      <td>0.566</td>\n",
              "      <td>2.52</td>\n",
              "      <td>52823.0</td>\n",
              "      <td>NaN</td>\n",
              "      <td>0.185</td>\n",
              "      <td>0.497</td>\n",
              "      <td>NaN</td>\n",
              "      <td>16269.0</td>\n",
              "    </tr>\n",
              "    <tr>\n",
              "      <th>146</th>\n",
              "      <td>Saint Lucia</td>\n",
              "      <td>301.0</td>\n",
              "      <td>0.174</td>\n",
              "      <td>616.0</td>\n",
              "      <td>12.00</td>\n",
              "      <td>414.0</td>\n",
              "      <td>110.13</td>\n",
              "      <td>0.019</td>\n",
              "      <td>1.44</td>\n",
              "      <td>2.122451e+09</td>\n",
              "      <td>...</td>\n",
              "      <td>117.0</td>\n",
              "      <td>NaN</td>\n",
              "      <td>0.484</td>\n",
              "      <td>0.64</td>\n",
              "      <td>182790.0</td>\n",
              "      <td>0.671</td>\n",
              "      <td>0.182</td>\n",
              "      <td>0.347</td>\n",
              "      <td>0.2071</td>\n",
              "      <td>34280.0</td>\n",
              "    </tr>\n",
              "    <tr>\n",
              "      <th>150</th>\n",
              "      <td>S�����������</td>\n",
              "      <td>228.0</td>\n",
              "      <td>0.507</td>\n",
              "      <td>964.0</td>\n",
              "      <td>31.54</td>\n",
              "      <td>121.0</td>\n",
              "      <td>185.09</td>\n",
              "      <td>0.079</td>\n",
              "      <td>4.32</td>\n",
              "      <td>4.290166e+08</td>\n",
              "      <td>...</td>\n",
              "      <td>130.0</td>\n",
              "      <td>NaN</td>\n",
              "      <td>0.117</td>\n",
              "      <td>0.05</td>\n",
              "      <td>215056.0</td>\n",
              "      <td>0.578</td>\n",
              "      <td>0.146</td>\n",
              "      <td>0.370</td>\n",
              "      <td>0.1337</td>\n",
              "      <td>158277.0</td>\n",
              "    </tr>\n",
              "    <tr>\n",
              "      <th>154</th>\n",
              "      <td>Seychelles</td>\n",
              "      <td>214.0</td>\n",
              "      <td>0.034</td>\n",
              "      <td>455.0</td>\n",
              "      <td>17.10</td>\n",
              "      <td>605.0</td>\n",
              "      <td>129.96</td>\n",
              "      <td>0.018</td>\n",
              "      <td>2.41</td>\n",
              "      <td>1.698843e+09</td>\n",
              "      <td>...</td>\n",
              "      <td>53.0</td>\n",
              "      <td>2.00</td>\n",
              "      <td>0.025</td>\n",
              "      <td>0.95</td>\n",
              "      <td>97625.0</td>\n",
              "      <td>NaN</td>\n",
              "      <td>0.341</td>\n",
              "      <td>0.301</td>\n",
              "      <td>NaN</td>\n",
              "      <td>55762.0</td>\n",
              "    </tr>\n",
              "    <tr>\n",
              "      <th>156</th>\n",
              "      <td>Singapore</td>\n",
              "      <td>8358.0</td>\n",
              "      <td>0.009</td>\n",
              "      <td>716.0</td>\n",
              "      <td>8.80</td>\n",
              "      <td>37535.0</td>\n",
              "      <td>114.41</td>\n",
              "      <td>0.006</td>\n",
              "      <td>1.14</td>\n",
              "      <td>3.720625e+11</td>\n",
              "      <td>...</td>\n",
              "      <td>8.0</td>\n",
              "      <td>NaN</td>\n",
              "      <td>0.367</td>\n",
              "      <td>2.29</td>\n",
              "      <td>5703569.0</td>\n",
              "      <td>0.705</td>\n",
              "      <td>0.131</td>\n",
              "      <td>0.210</td>\n",
              "      <td>0.0411</td>\n",
              "      <td>5703569.0</td>\n",
              "    </tr>\n",
              "    <tr>\n",
              "      <th>159</th>\n",
              "      <td>Solomon Islands</td>\n",
              "      <td>25.0</td>\n",
              "      <td>0.039</td>\n",
              "      <td>28896.0</td>\n",
              "      <td>32.44</td>\n",
              "      <td>169.0</td>\n",
              "      <td>133.06</td>\n",
              "      <td>0.016</td>\n",
              "      <td>4.40</td>\n",
              "      <td>1.425074e+09</td>\n",
              "      <td>...</td>\n",
              "      <td>104.0</td>\n",
              "      <td>0.40</td>\n",
              "      <td>0.033</td>\n",
              "      <td>0.19</td>\n",
              "      <td>669823.0</td>\n",
              "      <td>0.838</td>\n",
              "      <td>0.295</td>\n",
              "      <td>0.320</td>\n",
              "      <td>0.0058</td>\n",
              "      <td>162164.0</td>\n",
              "    </tr>\n",
              "    <tr>\n",
              "      <th>161</th>\n",
              "      <td>South Africa</td>\n",
              "      <td>49.0</td>\n",
              "      <td>0.798</td>\n",
              "      <td>1219090.0</td>\n",
              "      <td>20.51</td>\n",
              "      <td>476644.0</td>\n",
              "      <td>158.93</td>\n",
              "      <td>0.041</td>\n",
              "      <td>2.41</td>\n",
              "      <td>3.514316e+11</td>\n",
              "      <td>...</td>\n",
              "      <td>119.0</td>\n",
              "      <td>NaN</td>\n",
              "      <td>0.077</td>\n",
              "      <td>0.91</td>\n",
              "      <td>58558270.0</td>\n",
              "      <td>0.560</td>\n",
              "      <td>0.275</td>\n",
              "      <td>0.292</td>\n",
              "      <td>0.2818</td>\n",
              "      <td>39149717.0</td>\n",
              "    </tr>\n",
              "    <tr>\n",
              "      <th>167</th>\n",
              "      <td>Suriname</td>\n",
              "      <td>4.0</td>\n",
              "      <td>0.006</td>\n",
              "      <td>163820.0</td>\n",
              "      <td>18.54</td>\n",
              "      <td>1738.0</td>\n",
              "      <td>294.66</td>\n",
              "      <td>0.220</td>\n",
              "      <td>2.42</td>\n",
              "      <td>3.985251e+09</td>\n",
              "      <td>...</td>\n",
              "      <td>120.0</td>\n",
              "      <td>NaN</td>\n",
              "      <td>0.101</td>\n",
              "      <td>1.21</td>\n",
              "      <td>581372.0</td>\n",
              "      <td>0.511</td>\n",
              "      <td>0.195</td>\n",
              "      <td>0.279</td>\n",
              "      <td>0.0733</td>\n",
              "      <td>384258.0</td>\n",
              "    </tr>\n",
              "    <tr>\n",
              "      <th>168</th>\n",
              "      <td>Sweden</td>\n",
              "      <td>25.0</td>\n",
              "      <td>0.074</td>\n",
              "      <td>450295.0</td>\n",
              "      <td>11.40</td>\n",
              "      <td>43252.0</td>\n",
              "      <td>110.51</td>\n",
              "      <td>0.018</td>\n",
              "      <td>1.76</td>\n",
              "      <td>5.308329e+11</td>\n",
              "      <td>...</td>\n",
              "      <td>4.0</td>\n",
              "      <td>NaN</td>\n",
              "      <td>0.152</td>\n",
              "      <td>3.98</td>\n",
              "      <td>10285453.0</td>\n",
              "      <td>0.646</td>\n",
              "      <td>0.279</td>\n",
              "      <td>0.491</td>\n",
              "      <td>0.0648</td>\n",
              "      <td>9021165.0</td>\n",
              "    </tr>\n",
              "    <tr>\n",
              "      <th>169</th>\n",
              "      <td>Switzerland</td>\n",
              "      <td>219.0</td>\n",
              "      <td>0.384</td>\n",
              "      <td>41277.0</td>\n",
              "      <td>10.00</td>\n",
              "      <td>34477.0</td>\n",
              "      <td>99.55</td>\n",
              "      <td>0.004</td>\n",
              "      <td>1.52</td>\n",
              "      <td>7.030824e+11</td>\n",
              "      <td>...</td>\n",
              "      <td>5.0</td>\n",
              "      <td>NaN</td>\n",
              "      <td>0.283</td>\n",
              "      <td>4.30</td>\n",
              "      <td>8574832.0</td>\n",
              "      <td>0.683</td>\n",
              "      <td>0.101</td>\n",
              "      <td>0.288</td>\n",
              "      <td>0.0458</td>\n",
              "      <td>6332428.0</td>\n",
              "    </tr>\n",
              "    <tr>\n",
              "      <th>176</th>\n",
              "      <td>Tonga</td>\n",
              "      <td>147.0</td>\n",
              "      <td>0.458</td>\n",
              "      <td>747.0</td>\n",
              "      <td>24.30</td>\n",
              "      <td>128.0</td>\n",
              "      <td>121.09</td>\n",
              "      <td>0.074</td>\n",
              "      <td>3.56</td>\n",
              "      <td>4.503533e+08</td>\n",
              "      <td>...</td>\n",
              "      <td>52.0</td>\n",
              "      <td>NaN</td>\n",
              "      <td>0.102</td>\n",
              "      <td>0.52</td>\n",
              "      <td>100209.0</td>\n",
              "      <td>0.598</td>\n",
              "      <td>0.223</td>\n",
              "      <td>0.275</td>\n",
              "      <td>0.0112</td>\n",
              "      <td>24145.0</td>\n",
              "    </tr>\n",
              "    <tr>\n",
              "      <th>180</th>\n",
              "      <td>Turkmenistan</td>\n",
              "      <td>13.0</td>\n",
              "      <td>0.720</td>\n",
              "      <td>488100.0</td>\n",
              "      <td>23.83</td>\n",
              "      <td>70630.0</td>\n",
              "      <td>NaN</td>\n",
              "      <td>NaN</td>\n",
              "      <td>2.79</td>\n",
              "      <td>4.076114e+10</td>\n",
              "      <td>...</td>\n",
              "      <td>7.0</td>\n",
              "      <td>0.88</td>\n",
              "      <td>0.711</td>\n",
              "      <td>2.22</td>\n",
              "      <td>5942089.0</td>\n",
              "      <td>0.645</td>\n",
              "      <td>NaN</td>\n",
              "      <td>NaN</td>\n",
              "      <td>0.0391</td>\n",
              "      <td>3092738.0</td>\n",
              "    </tr>\n",
              "    <tr>\n",
              "      <th>184</th>\n",
              "      <td>United Arab Emirates</td>\n",
              "      <td>118.0</td>\n",
              "      <td>0.055</td>\n",
              "      <td>83600.0</td>\n",
              "      <td>10.33</td>\n",
              "      <td>206324.0</td>\n",
              "      <td>114.52</td>\n",
              "      <td>-0.019</td>\n",
              "      <td>1.41</td>\n",
              "      <td>4.211423e+11</td>\n",
              "      <td>...</td>\n",
              "      <td>3.0</td>\n",
              "      <td>NaN</td>\n",
              "      <td>0.178</td>\n",
              "      <td>2.53</td>\n",
              "      <td>9770529.0</td>\n",
              "      <td>0.821</td>\n",
              "      <td>0.001</td>\n",
              "      <td>0.159</td>\n",
              "      <td>0.0235</td>\n",
              "      <td>8479744.0</td>\n",
              "    </tr>\n",
              "    <tr>\n",
              "      <th>188</th>\n",
              "      <td>Uzbekistan</td>\n",
              "      <td>79.0</td>\n",
              "      <td>0.629</td>\n",
              "      <td>447400.0</td>\n",
              "      <td>23.30</td>\n",
              "      <td>91811.0</td>\n",
              "      <td>NaN</td>\n",
              "      <td>NaN</td>\n",
              "      <td>2.42</td>\n",
              "      <td>5.792129e+10</td>\n",
              "      <td>...</td>\n",
              "      <td>29.0</td>\n",
              "      <td>0.24</td>\n",
              "      <td>0.427</td>\n",
              "      <td>2.37</td>\n",
              "      <td>33580650.0</td>\n",
              "      <td>0.651</td>\n",
              "      <td>0.148</td>\n",
              "      <td>0.316</td>\n",
              "      <td>0.0592</td>\n",
              "      <td>16935729.0</td>\n",
              "    </tr>\n",
              "    <tr>\n",
              "      <th>190</th>\n",
              "      <td>Venezuela</td>\n",
              "      <td>32.0</td>\n",
              "      <td>0.245</td>\n",
              "      <td>912050.0</td>\n",
              "      <td>17.88</td>\n",
              "      <td>164175.0</td>\n",
              "      <td>2740.27</td>\n",
              "      <td>2.549</td>\n",
              "      <td>2.27</td>\n",
              "      <td>4.823593e+11</td>\n",
              "      <td>...</td>\n",
              "      <td>125.0</td>\n",
              "      <td>0.01</td>\n",
              "      <td>0.458</td>\n",
              "      <td>1.92</td>\n",
              "      <td>28515829.0</td>\n",
              "      <td>0.597</td>\n",
              "      <td>NaN</td>\n",
              "      <td>0.733</td>\n",
              "      <td>0.0880</td>\n",
              "      <td>25162368.0</td>\n",
              "    </tr>\n",
              "    <tr>\n",
              "      <th>192</th>\n",
              "      <td>Yemen</td>\n",
              "      <td>56.0</td>\n",
              "      <td>0.446</td>\n",
              "      <td>527968.0</td>\n",
              "      <td>30.45</td>\n",
              "      <td>10609.0</td>\n",
              "      <td>157.58</td>\n",
              "      <td>0.081</td>\n",
              "      <td>3.79</td>\n",
              "      <td>2.691440e+10</td>\n",
              "      <td>...</td>\n",
              "      <td>164.0</td>\n",
              "      <td>NaN</td>\n",
              "      <td>0.810</td>\n",
              "      <td>0.31</td>\n",
              "      <td>29161922.0</td>\n",
              "      <td>0.380</td>\n",
              "      <td>NaN</td>\n",
              "      <td>0.266</td>\n",
              "      <td>0.1291</td>\n",
              "      <td>10869523.0</td>\n",
              "    </tr>\n",
              "    <tr>\n",
              "      <th>194</th>\n",
              "      <td>Zimbabwe</td>\n",
              "      <td>38.0</td>\n",
              "      <td>0.419</td>\n",
              "      <td>390757.0</td>\n",
              "      <td>30.68</td>\n",
              "      <td>10983.0</td>\n",
              "      <td>105.51</td>\n",
              "      <td>0.009</td>\n",
              "      <td>3.62</td>\n",
              "      <td>2.144076e+10</td>\n",
              "      <td>...</td>\n",
              "      <td>458.0</td>\n",
              "      <td>NaN</td>\n",
              "      <td>0.258</td>\n",
              "      <td>0.21</td>\n",
              "      <td>14645468.0</td>\n",
              "      <td>0.831</td>\n",
              "      <td>0.207</td>\n",
              "      <td>0.316</td>\n",
              "      <td>0.0495</td>\n",
              "      <td>4717305.0</td>\n",
              "    </tr>\n",
              "  </tbody>\n",
              "</table>\n",
              "<p>55 rows × 24 columns</p>\n",
              "</div>\n",
              "    <div class=\"colab-df-buttons\">\n",
              "\n",
              "  <div class=\"colab-df-container\">\n",
              "    <button class=\"colab-df-convert\" onclick=\"convertToInteractive('df-6a466b5b-55f1-48f1-933b-ca3b13ae4cb4')\"\n",
              "            title=\"Convert this dataframe to an interactive table.\"\n",
              "            style=\"display:none;\">\n",
              "\n",
              "  <svg xmlns=\"http://www.w3.org/2000/svg\" height=\"24px\" viewBox=\"0 -960 960 960\">\n",
              "    <path d=\"M120-120v-720h720v720H120Zm60-500h600v-160H180v160Zm220 220h160v-160H400v160Zm0 220h160v-160H400v160ZM180-400h160v-160H180v160Zm440 0h160v-160H620v160ZM180-180h160v-160H180v160Zm440 0h160v-160H620v160Z\"/>\n",
              "  </svg>\n",
              "    </button>\n",
              "\n",
              "  <style>\n",
              "    .colab-df-container {\n",
              "      display:flex;\n",
              "      gap: 12px;\n",
              "    }\n",
              "\n",
              "    .colab-df-convert {\n",
              "      background-color: #E8F0FE;\n",
              "      border: none;\n",
              "      border-radius: 50%;\n",
              "      cursor: pointer;\n",
              "      display: none;\n",
              "      fill: #1967D2;\n",
              "      height: 32px;\n",
              "      padding: 0 0 0 0;\n",
              "      width: 32px;\n",
              "    }\n",
              "\n",
              "    .colab-df-convert:hover {\n",
              "      background-color: #E2EBFA;\n",
              "      box-shadow: 0px 1px 2px rgba(60, 64, 67, 0.3), 0px 1px 3px 1px rgba(60, 64, 67, 0.15);\n",
              "      fill: #174EA6;\n",
              "    }\n",
              "\n",
              "    .colab-df-buttons div {\n",
              "      margin-bottom: 4px;\n",
              "    }\n",
              "\n",
              "    [theme=dark] .colab-df-convert {\n",
              "      background-color: #3B4455;\n",
              "      fill: #D2E3FC;\n",
              "    }\n",
              "\n",
              "    [theme=dark] .colab-df-convert:hover {\n",
              "      background-color: #434B5C;\n",
              "      box-shadow: 0px 1px 3px 1px rgba(0, 0, 0, 0.15);\n",
              "      filter: drop-shadow(0px 1px 2px rgba(0, 0, 0, 0.3));\n",
              "      fill: #FFFFFF;\n",
              "    }\n",
              "  </style>\n",
              "\n",
              "    <script>\n",
              "      const buttonEl =\n",
              "        document.querySelector('#df-6a466b5b-55f1-48f1-933b-ca3b13ae4cb4 button.colab-df-convert');\n",
              "      buttonEl.style.display =\n",
              "        google.colab.kernel.accessAllowed ? 'block' : 'none';\n",
              "\n",
              "      async function convertToInteractive(key) {\n",
              "        const element = document.querySelector('#df-6a466b5b-55f1-48f1-933b-ca3b13ae4cb4');\n",
              "        const dataTable =\n",
              "          await google.colab.kernel.invokeFunction('convertToInteractive',\n",
              "                                                    [key], {});\n",
              "        if (!dataTable) return;\n",
              "\n",
              "        const docLinkHtml = 'Like what you see? Visit the ' +\n",
              "          '<a target=\"_blank\" href=https://colab.research.google.com/notebooks/data_table.ipynb>data table notebook</a>'\n",
              "          + ' to learn more about interactive tables.';\n",
              "        element.innerHTML = '';\n",
              "        dataTable['output_type'] = 'display_data';\n",
              "        await google.colab.output.renderOutput(dataTable, element);\n",
              "        const docLink = document.createElement('div');\n",
              "        docLink.innerHTML = docLinkHtml;\n",
              "        element.appendChild(docLink);\n",
              "      }\n",
              "    </script>\n",
              "  </div>\n",
              "\n",
              "\n",
              "<div id=\"df-7248eb9a-4a5d-408c-a179-cef0c070b6eb\">\n",
              "  <button class=\"colab-df-quickchart\" onclick=\"quickchart('df-7248eb9a-4a5d-408c-a179-cef0c070b6eb')\"\n",
              "            title=\"Suggest charts\"\n",
              "            style=\"display:none;\">\n",
              "\n",
              "<svg xmlns=\"http://www.w3.org/2000/svg\" height=\"24px\"viewBox=\"0 0 24 24\"\n",
              "     width=\"24px\">\n",
              "    <g>\n",
              "        <path d=\"M19 3H5c-1.1 0-2 .9-2 2v14c0 1.1.9 2 2 2h14c1.1 0 2-.9 2-2V5c0-1.1-.9-2-2-2zM9 17H7v-7h2v7zm4 0h-2V7h2v10zm4 0h-2v-4h2v4z\"/>\n",
              "    </g>\n",
              "</svg>\n",
              "  </button>\n",
              "\n",
              "<style>\n",
              "  .colab-df-quickchart {\n",
              "      --bg-color: #E8F0FE;\n",
              "      --fill-color: #1967D2;\n",
              "      --hover-bg-color: #E2EBFA;\n",
              "      --hover-fill-color: #174EA6;\n",
              "      --disabled-fill-color: #AAA;\n",
              "      --disabled-bg-color: #DDD;\n",
              "  }\n",
              "\n",
              "  [theme=dark] .colab-df-quickchart {\n",
              "      --bg-color: #3B4455;\n",
              "      --fill-color: #D2E3FC;\n",
              "      --hover-bg-color: #434B5C;\n",
              "      --hover-fill-color: #FFFFFF;\n",
              "      --disabled-bg-color: #3B4455;\n",
              "      --disabled-fill-color: #666;\n",
              "  }\n",
              "\n",
              "  .colab-df-quickchart {\n",
              "    background-color: var(--bg-color);\n",
              "    border: none;\n",
              "    border-radius: 50%;\n",
              "    cursor: pointer;\n",
              "    display: none;\n",
              "    fill: var(--fill-color);\n",
              "    height: 32px;\n",
              "    padding: 0;\n",
              "    width: 32px;\n",
              "  }\n",
              "\n",
              "  .colab-df-quickchart:hover {\n",
              "    background-color: var(--hover-bg-color);\n",
              "    box-shadow: 0 1px 2px rgba(60, 64, 67, 0.3), 0 1px 3px 1px rgba(60, 64, 67, 0.15);\n",
              "    fill: var(--button-hover-fill-color);\n",
              "  }\n",
              "\n",
              "  .colab-df-quickchart-complete:disabled,\n",
              "  .colab-df-quickchart-complete:disabled:hover {\n",
              "    background-color: var(--disabled-bg-color);\n",
              "    fill: var(--disabled-fill-color);\n",
              "    box-shadow: none;\n",
              "  }\n",
              "\n",
              "  .colab-df-spinner {\n",
              "    border: 2px solid var(--fill-color);\n",
              "    border-color: transparent;\n",
              "    border-bottom-color: var(--fill-color);\n",
              "    animation:\n",
              "      spin 1s steps(1) infinite;\n",
              "  }\n",
              "\n",
              "  @keyframes spin {\n",
              "    0% {\n",
              "      border-color: transparent;\n",
              "      border-bottom-color: var(--fill-color);\n",
              "      border-left-color: var(--fill-color);\n",
              "    }\n",
              "    20% {\n",
              "      border-color: transparent;\n",
              "      border-left-color: var(--fill-color);\n",
              "      border-top-color: var(--fill-color);\n",
              "    }\n",
              "    30% {\n",
              "      border-color: transparent;\n",
              "      border-left-color: var(--fill-color);\n",
              "      border-top-color: var(--fill-color);\n",
              "      border-right-color: var(--fill-color);\n",
              "    }\n",
              "    40% {\n",
              "      border-color: transparent;\n",
              "      border-right-color: var(--fill-color);\n",
              "      border-top-color: var(--fill-color);\n",
              "    }\n",
              "    60% {\n",
              "      border-color: transparent;\n",
              "      border-right-color: var(--fill-color);\n",
              "    }\n",
              "    80% {\n",
              "      border-color: transparent;\n",
              "      border-right-color: var(--fill-color);\n",
              "      border-bottom-color: var(--fill-color);\n",
              "    }\n",
              "    90% {\n",
              "      border-color: transparent;\n",
              "      border-bottom-color: var(--fill-color);\n",
              "    }\n",
              "  }\n",
              "</style>\n",
              "\n",
              "  <script>\n",
              "    async function quickchart(key) {\n",
              "      const quickchartButtonEl =\n",
              "        document.querySelector('#' + key + ' button');\n",
              "      quickchartButtonEl.disabled = true;  // To prevent multiple clicks.\n",
              "      quickchartButtonEl.classList.add('colab-df-spinner');\n",
              "      try {\n",
              "        const charts = await google.colab.kernel.invokeFunction(\n",
              "            'suggestCharts', [key], {});\n",
              "      } catch (error) {\n",
              "        console.error('Error during call to suggestCharts:', error);\n",
              "      }\n",
              "      quickchartButtonEl.classList.remove('colab-df-spinner');\n",
              "      quickchartButtonEl.classList.add('colab-df-quickchart-complete');\n",
              "    }\n",
              "    (() => {\n",
              "      let quickchartButtonEl =\n",
              "        document.querySelector('#df-7248eb9a-4a5d-408c-a179-cef0c070b6eb button');\n",
              "      quickchartButtonEl.style.display =\n",
              "        google.colab.kernel.accessAllowed ? 'block' : 'none';\n",
              "    })();\n",
              "  </script>\n",
              "</div>\n",
              "\n",
              "  <div id=\"id_5ff27037-05cf-4f67-9e7a-ff7f8e7abb27\">\n",
              "    <style>\n",
              "      .colab-df-generate {\n",
              "        background-color: #E8F0FE;\n",
              "        border: none;\n",
              "        border-radius: 50%;\n",
              "        cursor: pointer;\n",
              "        display: none;\n",
              "        fill: #1967D2;\n",
              "        height: 32px;\n",
              "        padding: 0 0 0 0;\n",
              "        width: 32px;\n",
              "      }\n",
              "\n",
              "      .colab-df-generate:hover {\n",
              "        background-color: #E2EBFA;\n",
              "        box-shadow: 0px 1px 2px rgba(60, 64, 67, 0.3), 0px 1px 3px 1px rgba(60, 64, 67, 0.15);\n",
              "        fill: #174EA6;\n",
              "      }\n",
              "\n",
              "      [theme=dark] .colab-df-generate {\n",
              "        background-color: #3B4455;\n",
              "        fill: #D2E3FC;\n",
              "      }\n",
              "\n",
              "      [theme=dark] .colab-df-generate:hover {\n",
              "        background-color: #434B5C;\n",
              "        box-shadow: 0px 1px 3px 1px rgba(0, 0, 0, 0.15);\n",
              "        filter: drop-shadow(0px 1px 2px rgba(0, 0, 0, 0.3));\n",
              "        fill: #FFFFFF;\n",
              "      }\n",
              "    </style>\n",
              "    <button class=\"colab-df-generate\" onclick=\"generateWithVariable('result')\"\n",
              "            title=\"Generate code using this dataframe.\"\n",
              "            style=\"display:none;\">\n",
              "\n",
              "  <svg xmlns=\"http://www.w3.org/2000/svg\" height=\"24px\"viewBox=\"0 0 24 24\"\n",
              "       width=\"24px\">\n",
              "    <path d=\"M7,19H8.4L18.45,9,17,7.55,7,17.6ZM5,21V16.75L18.45,3.32a2,2,0,0,1,2.83,0l1.4,1.43a1.91,1.91,0,0,1,.58,1.4,1.91,1.91,0,0,1-.58,1.4L9.25,21ZM18.45,9,17,7.55Zm-12,3A5.31,5.31,0,0,0,4.9,8.1,5.31,5.31,0,0,0,1,6.5,5.31,5.31,0,0,0,4.9,4.9,5.31,5.31,0,0,0,6.5,1,5.31,5.31,0,0,0,8.1,4.9,5.31,5.31,0,0,0,12,6.5,5.46,5.46,0,0,0,6.5,12Z\"/>\n",
              "  </svg>\n",
              "    </button>\n",
              "    <script>\n",
              "      (() => {\n",
              "      const buttonEl =\n",
              "        document.querySelector('#id_5ff27037-05cf-4f67-9e7a-ff7f8e7abb27 button.colab-df-generate');\n",
              "      buttonEl.style.display =\n",
              "        google.colab.kernel.accessAllowed ? 'block' : 'none';\n",
              "\n",
              "      buttonEl.onclick = () => {\n",
              "        google.colab.notebook.generateWithVariable('result');\n",
              "      }\n",
              "      })();\n",
              "    </script>\n",
              "  </div>\n",
              "\n",
              "    </div>\n",
              "  </div>\n"
            ],
            "application/vnd.google.colaboratory.intrinsic+json": {
              "type": "dataframe",
              "variable_name": "result"
            }
          },
          "metadata": {},
          "execution_count": 16
        }
      ],
      "source": [
        "nan_df = data.isna()\n",
        "has_nan = nan_df.any(axis=1)\n",
        "result = data[has_nan]\n",
        "result"
      ]
    },
    {
      "cell_type": "markdown",
      "metadata": {
        "id": "0d12e2ff"
      },
      "source": [
        "**GDP per capita**: Estimate GDP per capita by dividing GDP by population size to measure average income."
      ]
    },
    {
      "cell_type": "code",
      "execution_count": null,
      "metadata": {
        "id": "70ecbc87"
      },
      "outputs": [],
      "source": [
        "data['GDP per Capita'] = data['GDP'] / data['Population']"
      ]
    },
    {
      "cell_type": "markdown",
      "metadata": {
        "id": "6FUABx3mTARY"
      },
      "source": [
        "filing up the missing values using gdp per capita"
      ]
    },
    {
      "cell_type": "code",
      "execution_count": null,
      "metadata": {
        "id": "ZOueR1uqTIbn",
        "colab": {
          "base_uri": "https://localhost:8080/",
          "height": 335
        },
        "outputId": "69488dea-7a06-4022-887a-818aeb7cb9fe"
      },
      "outputs": [
        {
          "output_type": "execute_result",
          "data": {
            "text/plain": [
              "count       180.000000\n",
              "mean      14115.631779\n",
              "std       19230.089691\n",
              "min         261.247473\n",
              "25%        1912.386766\n",
              "50%        5978.254912\n",
              "75%       17307.779464\n",
              "max      110172.373141\n",
              "Name: GDP per Capita, dtype: float64"
            ],
            "text/html": [
              "<div>\n",
              "<style scoped>\n",
              "    .dataframe tbody tr th:only-of-type {\n",
              "        vertical-align: middle;\n",
              "    }\n",
              "\n",
              "    .dataframe tbody tr th {\n",
              "        vertical-align: top;\n",
              "    }\n",
              "\n",
              "    .dataframe thead th {\n",
              "        text-align: right;\n",
              "    }\n",
              "</style>\n",
              "<table border=\"1\" class=\"dataframe\">\n",
              "  <thead>\n",
              "    <tr style=\"text-align: right;\">\n",
              "      <th></th>\n",
              "      <th>GDP per Capita</th>\n",
              "    </tr>\n",
              "  </thead>\n",
              "  <tbody>\n",
              "    <tr>\n",
              "      <th>count</th>\n",
              "      <td>180.000000</td>\n",
              "    </tr>\n",
              "    <tr>\n",
              "      <th>mean</th>\n",
              "      <td>14115.631779</td>\n",
              "    </tr>\n",
              "    <tr>\n",
              "      <th>std</th>\n",
              "      <td>19230.089691</td>\n",
              "    </tr>\n",
              "    <tr>\n",
              "      <th>min</th>\n",
              "      <td>261.247473</td>\n",
              "    </tr>\n",
              "    <tr>\n",
              "      <th>25%</th>\n",
              "      <td>1912.386766</td>\n",
              "    </tr>\n",
              "    <tr>\n",
              "      <th>50%</th>\n",
              "      <td>5978.254912</td>\n",
              "    </tr>\n",
              "    <tr>\n",
              "      <th>75%</th>\n",
              "      <td>17307.779464</td>\n",
              "    </tr>\n",
              "    <tr>\n",
              "      <th>max</th>\n",
              "      <td>110172.373141</td>\n",
              "    </tr>\n",
              "  </tbody>\n",
              "</table>\n",
              "</div><br><label><b>dtype:</b> float64</label>"
            ]
          },
          "metadata": {},
          "execution_count": 18
        }
      ],
      "source": [
        "data['GDP per Capita'].describe()"
      ]
    },
    {
      "cell_type": "markdown",
      "metadata": {
        "id": "84d63962"
      },
      "source": [
        "**Education gap:** Calculate difference between primary and tertiary enrollment\n",
        "\n",
        "\n"
      ]
    },
    {
      "cell_type": "code",
      "execution_count": null,
      "metadata": {
        "id": "312ddae0",
        "colab": {
          "base_uri": "https://localhost:8080/",
          "height": 335
        },
        "outputId": "16f88dd8-6434-430b-e5d2-046c80eebab8"
      },
      "outputs": [
        {
          "output_type": "execute_result",
          "data": {
            "text/plain": [
              "count    176.000000\n",
              "mean       0.653750\n",
              "std        0.314096\n",
              "min        0.023000\n",
              "25%        0.383250\n",
              "50%        0.685000\n",
              "75%        0.903500\n",
              "max        1.417000\n",
              "Name: Education Gap, dtype: float64"
            ],
            "text/html": [
              "<div>\n",
              "<style scoped>\n",
              "    .dataframe tbody tr th:only-of-type {\n",
              "        vertical-align: middle;\n",
              "    }\n",
              "\n",
              "    .dataframe tbody tr th {\n",
              "        vertical-align: top;\n",
              "    }\n",
              "\n",
              "    .dataframe thead th {\n",
              "        text-align: right;\n",
              "    }\n",
              "</style>\n",
              "<table border=\"1\" class=\"dataframe\">\n",
              "  <thead>\n",
              "    <tr style=\"text-align: right;\">\n",
              "      <th></th>\n",
              "      <th>Education Gap</th>\n",
              "    </tr>\n",
              "  </thead>\n",
              "  <tbody>\n",
              "    <tr>\n",
              "      <th>count</th>\n",
              "      <td>176.000000</td>\n",
              "    </tr>\n",
              "    <tr>\n",
              "      <th>mean</th>\n",
              "      <td>0.653750</td>\n",
              "    </tr>\n",
              "    <tr>\n",
              "      <th>std</th>\n",
              "      <td>0.314096</td>\n",
              "    </tr>\n",
              "    <tr>\n",
              "      <th>min</th>\n",
              "      <td>0.023000</td>\n",
              "    </tr>\n",
              "    <tr>\n",
              "      <th>25%</th>\n",
              "      <td>0.383250</td>\n",
              "    </tr>\n",
              "    <tr>\n",
              "      <th>50%</th>\n",
              "      <td>0.685000</td>\n",
              "    </tr>\n",
              "    <tr>\n",
              "      <th>75%</th>\n",
              "      <td>0.903500</td>\n",
              "    </tr>\n",
              "    <tr>\n",
              "      <th>max</th>\n",
              "      <td>1.417000</td>\n",
              "    </tr>\n",
              "  </tbody>\n",
              "</table>\n",
              "</div><br><label><b>dtype:</b> float64</label>"
            ]
          },
          "metadata": {},
          "execution_count": 19
        }
      ],
      "source": [
        "data['Education Gap'] = abs(data['Gross primary education enrollment (%)'] - data['Gross tertiary education enrollment (%)'])\n",
        "data['Education Gap'].describe()"
      ]
    },
    {
      "cell_type": "markdown",
      "metadata": {
        "id": "b4912835"
      },
      "source": [
        "**Public health spending**: Calculate using out-of-pocket health expenditure percentage"
      ]
    },
    {
      "cell_type": "code",
      "execution_count": null,
      "metadata": {
        "id": "8a3f2294",
        "colab": {
          "base_uri": "https://localhost:8080/",
          "height": 115
        },
        "outputId": "19c3d963-1029-4926-eab0-4ad39e497a4e"
      },
      "outputs": [
        {
          "output_type": "execute_result",
          "data": {
            "text/plain": [
              "187    0.162\n",
              "Name: Out of pocket health expenditure, dtype: float64"
            ],
            "text/html": [
              "<div>\n",
              "<style scoped>\n",
              "    .dataframe tbody tr th:only-of-type {\n",
              "        vertical-align: middle;\n",
              "    }\n",
              "\n",
              "    .dataframe tbody tr th {\n",
              "        vertical-align: top;\n",
              "    }\n",
              "\n",
              "    .dataframe thead th {\n",
              "        text-align: right;\n",
              "    }\n",
              "</style>\n",
              "<table border=\"1\" class=\"dataframe\">\n",
              "  <thead>\n",
              "    <tr style=\"text-align: right;\">\n",
              "      <th></th>\n",
              "      <th>Out of pocket health expenditure</th>\n",
              "    </tr>\n",
              "  </thead>\n",
              "  <tbody>\n",
              "    <tr>\n",
              "      <th>187</th>\n",
              "      <td>0.162</td>\n",
              "    </tr>\n",
              "  </tbody>\n",
              "</table>\n",
              "</div><br><label><b>dtype:</b> float64</label>"
            ]
          },
          "metadata": {},
          "execution_count": 28
        }
      ],
      "source": [
        "\n",
        "data['Public Health Spending'] = 100 - data['Out of pocket health expenditure']\n",
        "data['Public Health Spending'].describe()\n",
        "data.query(\"Country=='Uruguay'\")[\"Out of pocket health expenditure\"]\n"
      ]
    },
    {
      "cell_type": "markdown",
      "metadata": {
        "id": "rrHdw-D0_DUn"
      },
      "source": [
        "**Health rating**:"
      ]
    },
    {
      "cell_type": "markdown",
      "source": [
        "calculating a 'Health Rating' for each country based on 4 key health metrics - Infant Mortality, Life Expectancy, Maternal Mortality Ratio and Physicians per Thousand.We didn't use out of pocket health expenditure in calculating health rating, because the univariant exploration reveald that it's not a differentiating factor between developing countries health systems and developed countries.\n",
        "it is a systematic process to assign a health rating to each country based on weighted aggregation of key health indicators. The rating simplifies comparison of overall healthcare access and quality between countries."
      ],
      "metadata": {
        "id": "sJDhAXNFOTr3"
      }
    },
    {
      "cell_type": "code",
      "execution_count": null,
      "metadata": {
        "id": "YEfd5Z8g_JGI",
        "colab": {
          "base_uri": "https://localhost:8080/"
        },
        "outputId": "40c8487e-1d18-4504-9d4e-095f1a22378d"
      },
      "outputs": [
        {
          "output_type": "stream",
          "name": "stdout",
          "text": [
            "                 Country Health Rating\n",
            "0            Afghanistan           NaN\n",
            "1                Albania             3\n",
            "2                Algeria             3\n",
            "4                 Angola             1\n",
            "5    Antigua and Barbuda           NaN\n",
            "..                   ...           ...\n",
            "190            Venezuela             2\n",
            "191              Vietnam             3\n",
            "192                Yemen           NaN\n",
            "193               Zambia             1\n",
            "194             Zimbabwe             1\n",
            "\n",
            "[180 rows x 2 columns]\n"
          ]
        }
      ],
      "source": [
        "\n",
        "# Define health columns\n",
        "health_cols = ['Infant mortality', 'Life expectancy', 'Maternal mortality ratio',\n",
        "                'Physicians per thousand','Public Health Spending']\n",
        "data_with_health = data.copy()\n",
        "\n",
        "# Fill NaN values with a default value\n",
        "default_value = 0.5  # Replace NaN values with a default value between 0 and 1\n",
        "data_with_health[health_cols] = data_with_health[health_cols].fillna(default_value)\n",
        "normalized_health = (data_with_health[health_cols] - data_with_health[health_cols].min()) / (data_with_health[health_cols].max() - data_with_health[health_cols].min())\n",
        "\n",
        "weights = np.array([-1, 1, -1,  -1, 1])\n",
        "\n",
        "data_with_health['Health Score'] = (normalized_health * weights).sum(axis=1)\n",
        "\n",
        "cutoffs = [0, 0.4, 0.7, 1]\n",
        "labels = [1, 2, 3]\n",
        "data_with_health['Health Rating'] = pd.cut(data_with_health['Health Score'], cutoffs, labels=labels)\n",
        "\n",
        "data_with_health = data_with_health.drop(['Health Score'], axis=1)\n",
        "data['Health Rating'] = data_with_health['Health Rating']\n",
        "\n",
        "print(data_with_health[['Country', 'Health Rating']])"
      ]
    },
    {
      "cell_type": "code",
      "execution_count": null,
      "metadata": {
        "id": "vmPFsWO-IxoI",
        "colab": {
          "base_uri": "https://localhost:8080/",
          "height": 209
        },
        "outputId": "35c5851a-04a5-4922-9022-e3f26da78384"
      },
      "outputs": [
        {
          "output_type": "execute_result",
          "data": {
            "text/plain": [
              "count     90\n",
              "unique     3\n",
              "top        3\n",
              "freq      40\n",
              "Name: Health Rating, dtype: int64"
            ],
            "text/html": [
              "<div>\n",
              "<style scoped>\n",
              "    .dataframe tbody tr th:only-of-type {\n",
              "        vertical-align: middle;\n",
              "    }\n",
              "\n",
              "    .dataframe tbody tr th {\n",
              "        vertical-align: top;\n",
              "    }\n",
              "\n",
              "    .dataframe thead th {\n",
              "        text-align: right;\n",
              "    }\n",
              "</style>\n",
              "<table border=\"1\" class=\"dataframe\">\n",
              "  <thead>\n",
              "    <tr style=\"text-align: right;\">\n",
              "      <th></th>\n",
              "      <th>Health Rating</th>\n",
              "    </tr>\n",
              "  </thead>\n",
              "  <tbody>\n",
              "    <tr>\n",
              "      <th>count</th>\n",
              "      <td>90</td>\n",
              "    </tr>\n",
              "    <tr>\n",
              "      <th>unique</th>\n",
              "      <td>3</td>\n",
              "    </tr>\n",
              "    <tr>\n",
              "      <th>top</th>\n",
              "      <td>3</td>\n",
              "    </tr>\n",
              "    <tr>\n",
              "      <th>freq</th>\n",
              "      <td>40</td>\n",
              "    </tr>\n",
              "  </tbody>\n",
              "</table>\n",
              "</div><br><label><b>dtype:</b> int64</label>"
            ]
          },
          "metadata": {},
          "execution_count": 22
        }
      ],
      "source": [
        "data['Health Rating'].describe()"
      ]
    },
    {
      "cell_type": "markdown",
      "metadata": {
        "id": "9zptC3tq_PTz"
      },
      "source": [
        "**Economic rating**"
      ]
    },
    {
      "cell_type": "markdown",
      "source": [
        "This code calculates an 'Economy Rating' for each country based on 9 key economic indicators. It follows a similar methodology as the health rating.this aggregates various economic indicators into a simplified 1-5 economy rating for each country. The rating enables easy comparison, benchmarking and ranking of countries based on overall economic performance. The weighting assigns more influence to certain indicators over others in the final rating."
      ],
      "metadata": {
        "id": "j-QBpwJXWz_-"
      }
    },
    {
      "cell_type": "code",
      "execution_count": null,
      "metadata": {
        "id": "tWWKpb7__S38",
        "colab": {
          "base_uri": "https://localhost:8080/"
        },
        "outputId": "3de8aa17-ba6f-4632-d0ad-ab9f8a2774bf"
      },
      "outputs": [
        {
          "output_type": "stream",
          "name": "stdout",
          "text": [
            "               Country  Density (P/Km2)  Agricultural Land( %)  \\\n",
            "0          Afghanistan             60.0                  0.581   \n",
            "1              Albania            105.0                  0.431   \n",
            "2              Algeria             18.0                  0.174   \n",
            "4               Angola             26.0                  0.475   \n",
            "5  Antigua and Barbuda            223.0                  0.205   \n",
            "\n",
            "   Land Area(Km2)  Birth Rate  Co2-Emissions     CPI  CPI Change (%)  \\\n",
            "0        652230.0       32.49         8672.0  149.90           0.023   \n",
            "1         28748.0       11.78         4536.0  119.05           0.014   \n",
            "2       2381741.0       24.28       150006.0  151.36           0.020   \n",
            "4       1246700.0       40.73        34693.0  261.73           0.171   \n",
            "5           443.0       15.33          557.0  113.81           0.012   \n",
            "\n",
            "   Fertility Rate           GDP  ...  \\\n",
            "0            4.47  1.910135e+10  ...   \n",
            "1            1.62  1.527808e+10  ...   \n",
            "2            3.02  1.699882e+11  ...   \n",
            "4            5.52  9.463542e+10  ...   \n",
            "5            1.99  1.727759e+09  ...   \n",
            "\n",
            "   Population: Labor force participation (%)  Tax revenue (%)  Total tax rate  \\\n",
            "0                                      0.489            0.093           0.714   \n",
            "1                                      0.557            0.186           0.366   \n",
            "2                                      0.412            0.372           0.661   \n",
            "4                                      0.775            0.092           0.491   \n",
            "5                                      0.500            0.165           0.430   \n",
            "\n",
            "   Unemployment rate  Urban_population  GDP per Capita  Education Gap  \\\n",
            "0             0.1112         9797273.0      502.115487          0.943   \n",
            "1             0.1233         1747593.0     5352.857411          0.520   \n",
            "2             0.1170        31510100.0     3948.343279          0.585   \n",
            "4             0.0689        21061025.0     2973.591160          1.042   \n",
            "5             0.5000           23800.0    17790.309304          0.802   \n",
            "\n",
            "   Public Health Spending  Health Rating  Economy Rating  \n",
            "0                  99.216            NaN             NaN  \n",
            "1                  99.431              3               3  \n",
            "2                  99.719              3               2  \n",
            "4                  99.666              1               3  \n",
            "5                  99.757            NaN             NaN  \n",
            "\n",
            "[5 rows x 29 columns]\n"
          ]
        }
      ],
      "source": [
        "econ_cols = ['CPI', 'CPI Change (%)', 'GDP', 'Minimum wage', 'Tax revenue (%)', 'GDP per Capita',\n",
        "             'Population: Labor force participation (%)', 'Total tax rate', 'Unemployment rate']\n",
        "data_with_economy = data.copy()\n",
        "\n",
        "# Fill NaN values with a default value\n",
        "default_value = 0.5  # Replace NaN values with a default value between 0 and 1\n",
        "data_with_economy[econ_cols] = data_with_economy[econ_cols].fillna(default_value)\n",
        "\n",
        "normalized_economy = (data_with_economy[econ_cols] - data_with_economy[econ_cols].min()) / (data_with_economy[econ_cols].max() - data_with_economy[econ_cols].min())\n",
        "\n",
        "weights = [-1, -1, 1, 1, 1, 1, 1, -1, -1]\n",
        "\n",
        "data_with_economy['Economy Score'] = (normalized_economy * weights).sum(axis=1)\n",
        "\n",
        "cutoffs = [0, 0.2, 0.4, 0.6, 0.8, 1]\n",
        "labels = [1, 2, 3, 4, 5]\n",
        "data_with_economy['Economy Rating'] = pd.cut(data_with_economy['Economy Score'], cutoffs, labels=labels)\n",
        "\n",
        "data_with_economy = data_with_economy.drop(['Economy Score'], axis=1)\n",
        "data['Economy Rating'] = data_with_economy['Economy Rating']\n",
        "print(data_with_economy.head())"
      ]
    },
    {
      "cell_type": "code",
      "execution_count": null,
      "metadata": {
        "id": "-4Wzn3J2Is2e",
        "colab": {
          "base_uri": "https://localhost:8080/",
          "height": 209
        },
        "outputId": "60c7f022-4e70-4928-e423-e9db9f139e7b"
      },
      "outputs": [
        {
          "output_type": "execute_result",
          "data": {
            "text/plain": [
              "count     114\n",
              "unique      5\n",
              "top         4\n",
              "freq       31\n",
              "Name: Economy Rating, dtype: int64"
            ],
            "text/html": [
              "<div>\n",
              "<style scoped>\n",
              "    .dataframe tbody tr th:only-of-type {\n",
              "        vertical-align: middle;\n",
              "    }\n",
              "\n",
              "    .dataframe tbody tr th {\n",
              "        vertical-align: top;\n",
              "    }\n",
              "\n",
              "    .dataframe thead th {\n",
              "        text-align: right;\n",
              "    }\n",
              "</style>\n",
              "<table border=\"1\" class=\"dataframe\">\n",
              "  <thead>\n",
              "    <tr style=\"text-align: right;\">\n",
              "      <th></th>\n",
              "      <th>Economy Rating</th>\n",
              "    </tr>\n",
              "  </thead>\n",
              "  <tbody>\n",
              "    <tr>\n",
              "      <th>count</th>\n",
              "      <td>114</td>\n",
              "    </tr>\n",
              "    <tr>\n",
              "      <th>unique</th>\n",
              "      <td>5</td>\n",
              "    </tr>\n",
              "    <tr>\n",
              "      <th>top</th>\n",
              "      <td>4</td>\n",
              "    </tr>\n",
              "    <tr>\n",
              "      <th>freq</th>\n",
              "      <td>31</td>\n",
              "    </tr>\n",
              "  </tbody>\n",
              "</table>\n",
              "</div><br><label><b>dtype:</b> int64</label>"
            ]
          },
          "metadata": {},
          "execution_count": 24
        }
      ],
      "source": [
        "data['Economy Rating'].describe()"
      ]
    },
    {
      "cell_type": "markdown",
      "metadata": {
        "id": "eI4Iik0S_6DQ"
      },
      "source": [
        "imputing missing values in numeric columns by binning the columns into quantiles, calculating the median value within each bin, and then filling the missing values with the median from the corresponding bin based on the GDP per capita value."
      ]
    },
    {
      "cell_type": "code",
      "execution_count": null,
      "metadata": {
        "id": "edOdu6sBTe7N",
        "colab": {
          "base_uri": "https://localhost:8080/",
          "height": 356
        },
        "outputId": "5bc84aaf-13f9-4e55-abee-075998e1ebfb"
      },
      "outputs": [
        {
          "output_type": "error",
          "ename": "TypeError",
          "evalue": "putmask: first argument must be an array",
          "traceback": [
            "\u001b[0;31m---------------------------------------------------------------------------\u001b[0m",
            "\u001b[0;31mTypeError\u001b[0m                                 Traceback (most recent call last)",
            "\u001b[0;32m<ipython-input-25-aecdb1c823c0>\u001b[0m in \u001b[0;36m<cell line: 13>\u001b[0;34m()\u001b[0m\n\u001b[1;32m     13\u001b[0m \u001b[0;32mfor\u001b[0m \u001b[0mcol\u001b[0m \u001b[0;32min\u001b[0m \u001b[0mnumeric_columns\u001b[0m\u001b[0;34m:\u001b[0m\u001b[0;34m\u001b[0m\u001b[0;34m\u001b[0m\u001b[0m\n\u001b[1;32m     14\u001b[0m     \u001b[0mbin_col_name\u001b[0m \u001b[0;34m=\u001b[0m \u001b[0;34mf'{col}_bins'\u001b[0m\u001b[0;34m\u001b[0m\u001b[0;34m\u001b[0m\u001b[0m\n\u001b[0;32m---> 15\u001b[0;31m     \u001b[0mdata\u001b[0m\u001b[0;34m[\u001b[0m\u001b[0mbin_col_name\u001b[0m\u001b[0;34m]\u001b[0m\u001b[0;34m,\u001b[0m \u001b[0mbin_edges\u001b[0m \u001b[0;34m=\u001b[0m \u001b[0mpd\u001b[0m\u001b[0;34m.\u001b[0m\u001b[0mcut\u001b[0m\u001b[0;34m(\u001b[0m\u001b[0mdata\u001b[0m\u001b[0;34m[\u001b[0m\u001b[0mcol\u001b[0m\u001b[0;34m]\u001b[0m\u001b[0;34m,\u001b[0m \u001b[0mbins\u001b[0m\u001b[0;34m=\u001b[0m\u001b[0mnum_bins\u001b[0m\u001b[0;34m,\u001b[0m \u001b[0mlabels\u001b[0m\u001b[0;34m=\u001b[0m\u001b[0;32mFalse\u001b[0m\u001b[0;34m,\u001b[0m \u001b[0mretbins\u001b[0m\u001b[0;34m=\u001b[0m\u001b[0;32mTrue\u001b[0m\u001b[0;34m)\u001b[0m\u001b[0;34m\u001b[0m\u001b[0;34m\u001b[0m\u001b[0m\n\u001b[0m\u001b[1;32m     16\u001b[0m     \u001b[0mbin_medians\u001b[0m\u001b[0;34m[\u001b[0m\u001b[0mcol\u001b[0m\u001b[0;34m]\u001b[0m \u001b[0;34m=\u001b[0m \u001b[0mdata\u001b[0m\u001b[0;34m.\u001b[0m\u001b[0mgroupby\u001b[0m\u001b[0;34m(\u001b[0m\u001b[0mbin_col_name\u001b[0m\u001b[0;34m)\u001b[0m\u001b[0;34m[\u001b[0m\u001b[0mcol\u001b[0m\u001b[0;34m]\u001b[0m\u001b[0;34m.\u001b[0m\u001b[0mtransform\u001b[0m\u001b[0;34m(\u001b[0m\u001b[0;34m'median'\u001b[0m\u001b[0;34m)\u001b[0m\u001b[0;34m\u001b[0m\u001b[0;34m\u001b[0m\u001b[0m\n\u001b[1;32m     17\u001b[0m     \u001b[0mdata\u001b[0m\u001b[0;34m.\u001b[0m\u001b[0mdrop\u001b[0m\u001b[0;34m(\u001b[0m\u001b[0mcolumns\u001b[0m\u001b[0;34m=\u001b[0m\u001b[0;34m[\u001b[0m\u001b[0mbin_col_name\u001b[0m\u001b[0;34m]\u001b[0m\u001b[0;34m,\u001b[0m \u001b[0minplace\u001b[0m\u001b[0;34m=\u001b[0m\u001b[0;32mTrue\u001b[0m\u001b[0;34m)\u001b[0m\u001b[0;34m\u001b[0m\u001b[0;34m\u001b[0m\u001b[0m\n",
            "\u001b[0;32m/usr/local/lib/python3.10/dist-packages/pandas/core/reshape/tile.py\u001b[0m in \u001b[0;36mcut\u001b[0;34m(x, bins, right, labels, retbins, precision, include_lowest, duplicates, ordered)\u001b[0m\n\u001b[1;32m    256\u001b[0m             \u001b[0;32mraise\u001b[0m \u001b[0mValueError\u001b[0m\u001b[0;34m(\u001b[0m\u001b[0;34m\"Cannot cut empty array\"\u001b[0m\u001b[0;34m)\u001b[0m\u001b[0;34m\u001b[0m\u001b[0;34m\u001b[0m\u001b[0m\n\u001b[1;32m    257\u001b[0m \u001b[0;34m\u001b[0m\u001b[0m\n\u001b[0;32m--> 258\u001b[0;31m         \u001b[0mrng\u001b[0m \u001b[0;34m=\u001b[0m \u001b[0;34m(\u001b[0m\u001b[0mnanops\u001b[0m\u001b[0;34m.\u001b[0m\u001b[0mnanmin\u001b[0m\u001b[0;34m(\u001b[0m\u001b[0mx\u001b[0m\u001b[0;34m)\u001b[0m\u001b[0;34m,\u001b[0m \u001b[0mnanops\u001b[0m\u001b[0;34m.\u001b[0m\u001b[0mnanmax\u001b[0m\u001b[0;34m(\u001b[0m\u001b[0mx\u001b[0m\u001b[0;34m)\u001b[0m\u001b[0;34m)\u001b[0m\u001b[0;34m\u001b[0m\u001b[0;34m\u001b[0m\u001b[0m\n\u001b[0m\u001b[1;32m    259\u001b[0m         \u001b[0mmn\u001b[0m\u001b[0;34m,\u001b[0m \u001b[0mmx\u001b[0m \u001b[0;34m=\u001b[0m \u001b[0;34m(\u001b[0m\u001b[0mmi\u001b[0m \u001b[0;34m+\u001b[0m \u001b[0;36m0.0\u001b[0m \u001b[0;32mfor\u001b[0m \u001b[0mmi\u001b[0m \u001b[0;32min\u001b[0m \u001b[0mrng\u001b[0m\u001b[0;34m)\u001b[0m\u001b[0;34m\u001b[0m\u001b[0;34m\u001b[0m\u001b[0m\n\u001b[1;32m    260\u001b[0m \u001b[0;34m\u001b[0m\u001b[0m\n",
            "\u001b[0;32m/usr/local/lib/python3.10/dist-packages/pandas/core/nanops.py\u001b[0m in \u001b[0;36mf\u001b[0;34m(values, axis, skipna, **kwds)\u001b[0m\n\u001b[1;32m    145\u001b[0m                     \u001b[0mresult\u001b[0m \u001b[0;34m=\u001b[0m \u001b[0malt\u001b[0m\u001b[0;34m(\u001b[0m\u001b[0mvalues\u001b[0m\u001b[0;34m,\u001b[0m \u001b[0maxis\u001b[0m\u001b[0;34m=\u001b[0m\u001b[0maxis\u001b[0m\u001b[0;34m,\u001b[0m \u001b[0mskipna\u001b[0m\u001b[0;34m=\u001b[0m\u001b[0mskipna\u001b[0m\u001b[0;34m,\u001b[0m \u001b[0;34m**\u001b[0m\u001b[0mkwds\u001b[0m\u001b[0;34m)\u001b[0m\u001b[0;34m\u001b[0m\u001b[0;34m\u001b[0m\u001b[0m\n\u001b[1;32m    146\u001b[0m             \u001b[0;32melse\u001b[0m\u001b[0;34m:\u001b[0m\u001b[0;34m\u001b[0m\u001b[0;34m\u001b[0m\u001b[0m\n\u001b[0;32m--> 147\u001b[0;31m                 \u001b[0mresult\u001b[0m \u001b[0;34m=\u001b[0m \u001b[0malt\u001b[0m\u001b[0;34m(\u001b[0m\u001b[0mvalues\u001b[0m\u001b[0;34m,\u001b[0m \u001b[0maxis\u001b[0m\u001b[0;34m=\u001b[0m\u001b[0maxis\u001b[0m\u001b[0;34m,\u001b[0m \u001b[0mskipna\u001b[0m\u001b[0;34m=\u001b[0m\u001b[0mskipna\u001b[0m\u001b[0;34m,\u001b[0m \u001b[0;34m**\u001b[0m\u001b[0mkwds\u001b[0m\u001b[0;34m)\u001b[0m\u001b[0;34m\u001b[0m\u001b[0;34m\u001b[0m\u001b[0m\n\u001b[0m\u001b[1;32m    148\u001b[0m \u001b[0;34m\u001b[0m\u001b[0m\n\u001b[1;32m    149\u001b[0m             \u001b[0;32mreturn\u001b[0m \u001b[0mresult\u001b[0m\u001b[0;34m\u001b[0m\u001b[0;34m\u001b[0m\u001b[0m\n",
            "\u001b[0;32m/usr/local/lib/python3.10/dist-packages/pandas/core/nanops.py\u001b[0m in \u001b[0;36mnew_func\u001b[0;34m(values, axis, skipna, mask, **kwargs)\u001b[0m\n\u001b[1;32m    402\u001b[0m             \u001b[0mmask\u001b[0m \u001b[0;34m=\u001b[0m \u001b[0misna\u001b[0m\u001b[0;34m(\u001b[0m\u001b[0mvalues\u001b[0m\u001b[0;34m)\u001b[0m\u001b[0;34m\u001b[0m\u001b[0;34m\u001b[0m\u001b[0m\n\u001b[1;32m    403\u001b[0m \u001b[0;34m\u001b[0m\u001b[0m\n\u001b[0;32m--> 404\u001b[0;31m         \u001b[0mresult\u001b[0m \u001b[0;34m=\u001b[0m \u001b[0mfunc\u001b[0m\u001b[0;34m(\u001b[0m\u001b[0mvalues\u001b[0m\u001b[0;34m,\u001b[0m \u001b[0maxis\u001b[0m\u001b[0;34m=\u001b[0m\u001b[0maxis\u001b[0m\u001b[0;34m,\u001b[0m \u001b[0mskipna\u001b[0m\u001b[0;34m=\u001b[0m\u001b[0mskipna\u001b[0m\u001b[0;34m,\u001b[0m \u001b[0mmask\u001b[0m\u001b[0;34m=\u001b[0m\u001b[0mmask\u001b[0m\u001b[0;34m,\u001b[0m \u001b[0;34m**\u001b[0m\u001b[0mkwargs\u001b[0m\u001b[0;34m)\u001b[0m\u001b[0;34m\u001b[0m\u001b[0;34m\u001b[0m\u001b[0m\n\u001b[0m\u001b[1;32m    405\u001b[0m \u001b[0;34m\u001b[0m\u001b[0m\n\u001b[1;32m    406\u001b[0m         \u001b[0;32mif\u001b[0m \u001b[0mdatetimelike\u001b[0m\u001b[0;34m:\u001b[0m\u001b[0;34m\u001b[0m\u001b[0;34m\u001b[0m\u001b[0m\n",
            "\u001b[0;32m/usr/local/lib/python3.10/dist-packages/pandas/core/nanops.py\u001b[0m in \u001b[0;36mreduction\u001b[0;34m(values, axis, skipna, mask)\u001b[0m\n\u001b[1;32m   1087\u001b[0m             \u001b[0;32mreturn\u001b[0m \u001b[0m_na_for_min_count\u001b[0m\u001b[0;34m(\u001b[0m\u001b[0mvalues\u001b[0m\u001b[0;34m,\u001b[0m \u001b[0maxis\u001b[0m\u001b[0;34m)\u001b[0m\u001b[0;34m\u001b[0m\u001b[0;34m\u001b[0m\u001b[0m\n\u001b[1;32m   1088\u001b[0m \u001b[0;34m\u001b[0m\u001b[0m\n\u001b[0;32m-> 1089\u001b[0;31m         values, mask = _get_values(\n\u001b[0m\u001b[1;32m   1090\u001b[0m             \u001b[0mvalues\u001b[0m\u001b[0;34m,\u001b[0m \u001b[0mskipna\u001b[0m\u001b[0;34m,\u001b[0m \u001b[0mfill_value_typ\u001b[0m\u001b[0;34m=\u001b[0m\u001b[0mfill_value_typ\u001b[0m\u001b[0;34m,\u001b[0m \u001b[0mmask\u001b[0m\u001b[0;34m=\u001b[0m\u001b[0mmask\u001b[0m\u001b[0;34m\u001b[0m\u001b[0;34m\u001b[0m\u001b[0m\n\u001b[1;32m   1091\u001b[0m         )\n",
            "\u001b[0;32m/usr/local/lib/python3.10/dist-packages/pandas/core/nanops.py\u001b[0m in \u001b[0;36m_get_values\u001b[0;34m(values, skipna, fill_value, fill_value_typ, mask)\u001b[0m\n\u001b[1;32m    314\u001b[0m                 \u001b[0;32mif\u001b[0m \u001b[0mdatetimelike\u001b[0m \u001b[0;32mor\u001b[0m \u001b[0m_na_ok_dtype\u001b[0m\u001b[0;34m(\u001b[0m\u001b[0mdtype\u001b[0m\u001b[0;34m)\u001b[0m\u001b[0;34m:\u001b[0m\u001b[0;34m\u001b[0m\u001b[0;34m\u001b[0m\u001b[0m\n\u001b[1;32m    315\u001b[0m                     \u001b[0mvalues\u001b[0m \u001b[0;34m=\u001b[0m \u001b[0mvalues\u001b[0m\u001b[0;34m.\u001b[0m\u001b[0mcopy\u001b[0m\u001b[0;34m(\u001b[0m\u001b[0;34m)\u001b[0m\u001b[0;34m\u001b[0m\u001b[0;34m\u001b[0m\u001b[0m\n\u001b[0;32m--> 316\u001b[0;31m                     \u001b[0mnp\u001b[0m\u001b[0;34m.\u001b[0m\u001b[0mputmask\u001b[0m\u001b[0;34m(\u001b[0m\u001b[0mvalues\u001b[0m\u001b[0;34m,\u001b[0m \u001b[0mmask\u001b[0m\u001b[0;34m,\u001b[0m \u001b[0mfill_value\u001b[0m\u001b[0;34m)\u001b[0m\u001b[0;34m\u001b[0m\u001b[0;34m\u001b[0m\u001b[0m\n\u001b[0m\u001b[1;32m    317\u001b[0m                 \u001b[0;32melse\u001b[0m\u001b[0;34m:\u001b[0m\u001b[0;34m\u001b[0m\u001b[0;34m\u001b[0m\u001b[0m\n\u001b[1;32m    318\u001b[0m                     \u001b[0;31m# np.where will promote if needed\u001b[0m\u001b[0;34m\u001b[0m\u001b[0;34m\u001b[0m\u001b[0m\n",
            "\u001b[0;31mTypeError\u001b[0m: putmask: first argument must be an array"
          ]
        }
      ],
      "source": [
        "# //*#\n",
        "# # List of columns to process (exclude non-numeric columns)\n",
        "# numeric_columns = [col for col in data.columns if pd.api.types.is_numeric_dtype(data[col])]\n",
        "\n",
        "# # List of categorical columns\n",
        "# categorical_columns = [col for col in data.columns if not pd.api.types.is_numeric_dtype(data[col])]\n",
        "\n",
        "# # Define the number of bins\n",
        "# num_bins = 5\n",
        "\n",
        "# # Bin each column independently and find the median for each bin\n",
        "# bin_medians = {}\n",
        "# for col in numeric_columns:\n",
        "#     bin_col_name = f'{col}_bins'\n",
        "#     data[bin_col_name], bin_edges = pd.cut(data[col], bins=num_bins, labels=False, retbins=True)\n",
        "#     bin_medians[col] = data.groupby(bin_col_name)[col].transform('median')\n",
        "#     data.drop(columns=[bin_col_name], inplace=True)\n",
        "\n",
        "# # Function to find the median value for a given column and GDP per Capita value\n",
        "# def find_median_value(col, gdp_value):\n",
        "#     closest_distance = float('inf')\n",
        "#     closest_median_value = np.nan\n",
        "#     for bin_median, bin_edge in zip(bin_medians[col], bin_edges):\n",
        "#         bin_value_center = (bin_edge + bin_edges[1]) / 2\n",
        "#         distance = abs(bin_value_center - gdp_value)\n",
        "#         if distance < closest_distance:\n",
        "#             closest_distance = distance\n",
        "#             closest_median_value = bin_median\n",
        "#     return closest_median_value\n",
        "\n",
        "# # Loop through each country and column to fill NaN values\n",
        "# for index, row in data.iterrows():\n",
        "#     gdp_per_capita = row['GDP per Capita']\n",
        "\n",
        "#     for col in numeric_columns:\n",
        "#         if pd.isnull(row[col]):\n",
        "#             median_value = find_median_value(col, gdp_per_capita)\n",
        "#             data.at[index, col] = median_value\n",
        "\n",
        "# # Fill NaN values in categorical columns with mode\n",
        "# for col in categorical_columns:\n",
        "#     data[col].fillna(data[col].mode()[0], inplace=True)\n",
        "\n",
        "\n",
        "\n",
        "# print(data.isna().any())\n",
        "# //*"
      ]
    },
    {
      "cell_type": "code",
      "execution_count": null,
      "metadata": {
        "id": "ab574b19",
        "colab": {
          "base_uri": "https://localhost:8080/",
          "height": 499
        },
        "outputId": "27da54d2-0bec-46ad-daf8-2350a1d0daba"
      },
      "outputs": [
        {
          "output_type": "execute_result",
          "data": {
            "text/plain": [
              "                Country  Density (P/Km2)  Agricultural Land( %)  \\\n",
              "0           Afghanistan             60.0                  0.581   \n",
              "1               Albania            105.0                  0.431   \n",
              "2               Algeria             18.0                  0.174   \n",
              "4                Angola             26.0                  0.475   \n",
              "5   Antigua and Barbuda            223.0                  0.205   \n",
              "6             Argentina             17.0                  0.543   \n",
              "7               Armenia            104.0                  0.589   \n",
              "8             Australia              3.0                  0.482   \n",
              "9               Austria            109.0                  0.324   \n",
              "10           Azerbaijan            123.0                  0.577   \n",
              "\n",
              "    Land Area(Km2)  Birth Rate  Co2-Emissions     CPI  CPI Change (%)  \\\n",
              "0         652230.0       32.49         8672.0  149.90           0.023   \n",
              "1          28748.0       11.78         4536.0  119.05           0.014   \n",
              "2        2381741.0       24.28       150006.0  151.36           0.020   \n",
              "4        1246700.0       40.73        34693.0  261.73           0.171   \n",
              "5            443.0       15.33          557.0  113.81           0.012   \n",
              "6        2780400.0       17.02       201348.0  232.75           0.535   \n",
              "7          29743.0       13.99         5156.0  129.18           0.014   \n",
              "8        7741220.0       12.60       375908.0  119.80           0.016   \n",
              "9          83871.0        9.70        61448.0  118.06           0.015   \n",
              "10         86600.0       14.00        37620.0  156.32           0.026   \n",
              "\n",
              "    Fertility Rate           GDP  ...  \\\n",
              "0             4.47  1.910135e+10  ...   \n",
              "1             1.62  1.527808e+10  ...   \n",
              "2             3.02  1.699882e+11  ...   \n",
              "4             5.52  9.463542e+10  ...   \n",
              "5             1.99  1.727759e+09  ...   \n",
              "6             2.26  4.496634e+11  ...   \n",
              "7             1.76  1.367280e+10  ...   \n",
              "8             1.74  1.392681e+12  ...   \n",
              "9             1.47  4.463147e+11  ...   \n",
              "10            1.73  3.920700e+10  ...   \n",
              "\n",
              "    Population: Labor force participation (%)  Tax revenue (%)  \\\n",
              "0                                       0.489            0.093   \n",
              "1                                       0.557            0.186   \n",
              "2                                       0.412            0.372   \n",
              "4                                       0.775            0.092   \n",
              "5                                         NaN            0.165   \n",
              "6                                       0.613            0.101   \n",
              "7                                       0.556            0.209   \n",
              "8                                       0.655            0.230   \n",
              "9                                       0.607            0.254   \n",
              "10                                      0.665            0.130   \n",
              "\n",
              "    Total tax rate  Unemployment rate  Urban_population  GDP per Capita  \\\n",
              "0            0.714             0.1112         9797273.0      502.115487   \n",
              "1            0.366             0.1233         1747593.0     5352.857411   \n",
              "2            0.661             0.1170        31510100.0     3948.343279   \n",
              "4            0.491             0.0689        21061025.0     2973.591160   \n",
              "5            0.430                NaN           23800.0    17790.309304   \n",
              "6            1.063             0.0979        41339571.0    10006.148974   \n",
              "7            0.226             0.1699         1869848.0     4622.733493   \n",
              "8            0.474             0.0527        21844756.0    54049.828812   \n",
              "9            0.514             0.0467         5194416.0    50277.275087   \n",
              "10           0.407             0.0551         5616165.0     3911.578980   \n",
              "\n",
              "    Education Gap  Public Health Spending  Health Rating  Economy Rating  \n",
              "0           0.943                  99.216            NaN             NaN  \n",
              "1           0.520                  99.431              3               3  \n",
              "2           0.585                  99.719              3               2  \n",
              "4           1.042                  99.666              1               3  \n",
              "5           0.802                  99.757            NaN             NaN  \n",
              "6           0.197                  99.824              3               1  \n",
              "7           0.381                  99.184            NaN               2  \n",
              "8           0.128                  99.804            NaN             NaN  \n",
              "9           0.180                  99.821              3             NaN  \n",
              "10          0.720                  99.214            NaN               3  \n",
              "\n",
              "[10 rows x 29 columns]"
            ],
            "text/html": [
              "\n",
              "  <div id=\"df-83c52bb0-c3d3-4d9c-9187-499fff854fa6\" class=\"colab-df-container\">\n",
              "    <div>\n",
              "<style scoped>\n",
              "    .dataframe tbody tr th:only-of-type {\n",
              "        vertical-align: middle;\n",
              "    }\n",
              "\n",
              "    .dataframe tbody tr th {\n",
              "        vertical-align: top;\n",
              "    }\n",
              "\n",
              "    .dataframe thead th {\n",
              "        text-align: right;\n",
              "    }\n",
              "</style>\n",
              "<table border=\"1\" class=\"dataframe\">\n",
              "  <thead>\n",
              "    <tr style=\"text-align: right;\">\n",
              "      <th></th>\n",
              "      <th>Country</th>\n",
              "      <th>Density (P/Km2)</th>\n",
              "      <th>Agricultural Land( %)</th>\n",
              "      <th>Land Area(Km2)</th>\n",
              "      <th>Birth Rate</th>\n",
              "      <th>Co2-Emissions</th>\n",
              "      <th>CPI</th>\n",
              "      <th>CPI Change (%)</th>\n",
              "      <th>Fertility Rate</th>\n",
              "      <th>GDP</th>\n",
              "      <th>...</th>\n",
              "      <th>Population: Labor force participation (%)</th>\n",
              "      <th>Tax revenue (%)</th>\n",
              "      <th>Total tax rate</th>\n",
              "      <th>Unemployment rate</th>\n",
              "      <th>Urban_population</th>\n",
              "      <th>GDP per Capita</th>\n",
              "      <th>Education Gap</th>\n",
              "      <th>Public Health Spending</th>\n",
              "      <th>Health Rating</th>\n",
              "      <th>Economy Rating</th>\n",
              "    </tr>\n",
              "  </thead>\n",
              "  <tbody>\n",
              "    <tr>\n",
              "      <th>0</th>\n",
              "      <td>Afghanistan</td>\n",
              "      <td>60.0</td>\n",
              "      <td>0.581</td>\n",
              "      <td>652230.0</td>\n",
              "      <td>32.49</td>\n",
              "      <td>8672.0</td>\n",
              "      <td>149.90</td>\n",
              "      <td>0.023</td>\n",
              "      <td>4.47</td>\n",
              "      <td>1.910135e+10</td>\n",
              "      <td>...</td>\n",
              "      <td>0.489</td>\n",
              "      <td>0.093</td>\n",
              "      <td>0.714</td>\n",
              "      <td>0.1112</td>\n",
              "      <td>9797273.0</td>\n",
              "      <td>502.115487</td>\n",
              "      <td>0.943</td>\n",
              "      <td>99.216</td>\n",
              "      <td>NaN</td>\n",
              "      <td>NaN</td>\n",
              "    </tr>\n",
              "    <tr>\n",
              "      <th>1</th>\n",
              "      <td>Albania</td>\n",
              "      <td>105.0</td>\n",
              "      <td>0.431</td>\n",
              "      <td>28748.0</td>\n",
              "      <td>11.78</td>\n",
              "      <td>4536.0</td>\n",
              "      <td>119.05</td>\n",
              "      <td>0.014</td>\n",
              "      <td>1.62</td>\n",
              "      <td>1.527808e+10</td>\n",
              "      <td>...</td>\n",
              "      <td>0.557</td>\n",
              "      <td>0.186</td>\n",
              "      <td>0.366</td>\n",
              "      <td>0.1233</td>\n",
              "      <td>1747593.0</td>\n",
              "      <td>5352.857411</td>\n",
              "      <td>0.520</td>\n",
              "      <td>99.431</td>\n",
              "      <td>3</td>\n",
              "      <td>3</td>\n",
              "    </tr>\n",
              "    <tr>\n",
              "      <th>2</th>\n",
              "      <td>Algeria</td>\n",
              "      <td>18.0</td>\n",
              "      <td>0.174</td>\n",
              "      <td>2381741.0</td>\n",
              "      <td>24.28</td>\n",
              "      <td>150006.0</td>\n",
              "      <td>151.36</td>\n",
              "      <td>0.020</td>\n",
              "      <td>3.02</td>\n",
              "      <td>1.699882e+11</td>\n",
              "      <td>...</td>\n",
              "      <td>0.412</td>\n",
              "      <td>0.372</td>\n",
              "      <td>0.661</td>\n",
              "      <td>0.1170</td>\n",
              "      <td>31510100.0</td>\n",
              "      <td>3948.343279</td>\n",
              "      <td>0.585</td>\n",
              "      <td>99.719</td>\n",
              "      <td>3</td>\n",
              "      <td>2</td>\n",
              "    </tr>\n",
              "    <tr>\n",
              "      <th>4</th>\n",
              "      <td>Angola</td>\n",
              "      <td>26.0</td>\n",
              "      <td>0.475</td>\n",
              "      <td>1246700.0</td>\n",
              "      <td>40.73</td>\n",
              "      <td>34693.0</td>\n",
              "      <td>261.73</td>\n",
              "      <td>0.171</td>\n",
              "      <td>5.52</td>\n",
              "      <td>9.463542e+10</td>\n",
              "      <td>...</td>\n",
              "      <td>0.775</td>\n",
              "      <td>0.092</td>\n",
              "      <td>0.491</td>\n",
              "      <td>0.0689</td>\n",
              "      <td>21061025.0</td>\n",
              "      <td>2973.591160</td>\n",
              "      <td>1.042</td>\n",
              "      <td>99.666</td>\n",
              "      <td>1</td>\n",
              "      <td>3</td>\n",
              "    </tr>\n",
              "    <tr>\n",
              "      <th>5</th>\n",
              "      <td>Antigua and Barbuda</td>\n",
              "      <td>223.0</td>\n",
              "      <td>0.205</td>\n",
              "      <td>443.0</td>\n",
              "      <td>15.33</td>\n",
              "      <td>557.0</td>\n",
              "      <td>113.81</td>\n",
              "      <td>0.012</td>\n",
              "      <td>1.99</td>\n",
              "      <td>1.727759e+09</td>\n",
              "      <td>...</td>\n",
              "      <td>NaN</td>\n",
              "      <td>0.165</td>\n",
              "      <td>0.430</td>\n",
              "      <td>NaN</td>\n",
              "      <td>23800.0</td>\n",
              "      <td>17790.309304</td>\n",
              "      <td>0.802</td>\n",
              "      <td>99.757</td>\n",
              "      <td>NaN</td>\n",
              "      <td>NaN</td>\n",
              "    </tr>\n",
              "    <tr>\n",
              "      <th>6</th>\n",
              "      <td>Argentina</td>\n",
              "      <td>17.0</td>\n",
              "      <td>0.543</td>\n",
              "      <td>2780400.0</td>\n",
              "      <td>17.02</td>\n",
              "      <td>201348.0</td>\n",
              "      <td>232.75</td>\n",
              "      <td>0.535</td>\n",
              "      <td>2.26</td>\n",
              "      <td>4.496634e+11</td>\n",
              "      <td>...</td>\n",
              "      <td>0.613</td>\n",
              "      <td>0.101</td>\n",
              "      <td>1.063</td>\n",
              "      <td>0.0979</td>\n",
              "      <td>41339571.0</td>\n",
              "      <td>10006.148974</td>\n",
              "      <td>0.197</td>\n",
              "      <td>99.824</td>\n",
              "      <td>3</td>\n",
              "      <td>1</td>\n",
              "    </tr>\n",
              "    <tr>\n",
              "      <th>7</th>\n",
              "      <td>Armenia</td>\n",
              "      <td>104.0</td>\n",
              "      <td>0.589</td>\n",
              "      <td>29743.0</td>\n",
              "      <td>13.99</td>\n",
              "      <td>5156.0</td>\n",
              "      <td>129.18</td>\n",
              "      <td>0.014</td>\n",
              "      <td>1.76</td>\n",
              "      <td>1.367280e+10</td>\n",
              "      <td>...</td>\n",
              "      <td>0.556</td>\n",
              "      <td>0.209</td>\n",
              "      <td>0.226</td>\n",
              "      <td>0.1699</td>\n",
              "      <td>1869848.0</td>\n",
              "      <td>4622.733493</td>\n",
              "      <td>0.381</td>\n",
              "      <td>99.184</td>\n",
              "      <td>NaN</td>\n",
              "      <td>2</td>\n",
              "    </tr>\n",
              "    <tr>\n",
              "      <th>8</th>\n",
              "      <td>Australia</td>\n",
              "      <td>3.0</td>\n",
              "      <td>0.482</td>\n",
              "      <td>7741220.0</td>\n",
              "      <td>12.60</td>\n",
              "      <td>375908.0</td>\n",
              "      <td>119.80</td>\n",
              "      <td>0.016</td>\n",
              "      <td>1.74</td>\n",
              "      <td>1.392681e+12</td>\n",
              "      <td>...</td>\n",
              "      <td>0.655</td>\n",
              "      <td>0.230</td>\n",
              "      <td>0.474</td>\n",
              "      <td>0.0527</td>\n",
              "      <td>21844756.0</td>\n",
              "      <td>54049.828812</td>\n",
              "      <td>0.128</td>\n",
              "      <td>99.804</td>\n",
              "      <td>NaN</td>\n",
              "      <td>NaN</td>\n",
              "    </tr>\n",
              "    <tr>\n",
              "      <th>9</th>\n",
              "      <td>Austria</td>\n",
              "      <td>109.0</td>\n",
              "      <td>0.324</td>\n",
              "      <td>83871.0</td>\n",
              "      <td>9.70</td>\n",
              "      <td>61448.0</td>\n",
              "      <td>118.06</td>\n",
              "      <td>0.015</td>\n",
              "      <td>1.47</td>\n",
              "      <td>4.463147e+11</td>\n",
              "      <td>...</td>\n",
              "      <td>0.607</td>\n",
              "      <td>0.254</td>\n",
              "      <td>0.514</td>\n",
              "      <td>0.0467</td>\n",
              "      <td>5194416.0</td>\n",
              "      <td>50277.275087</td>\n",
              "      <td>0.180</td>\n",
              "      <td>99.821</td>\n",
              "      <td>3</td>\n",
              "      <td>NaN</td>\n",
              "    </tr>\n",
              "    <tr>\n",
              "      <th>10</th>\n",
              "      <td>Azerbaijan</td>\n",
              "      <td>123.0</td>\n",
              "      <td>0.577</td>\n",
              "      <td>86600.0</td>\n",
              "      <td>14.00</td>\n",
              "      <td>37620.0</td>\n",
              "      <td>156.32</td>\n",
              "      <td>0.026</td>\n",
              "      <td>1.73</td>\n",
              "      <td>3.920700e+10</td>\n",
              "      <td>...</td>\n",
              "      <td>0.665</td>\n",
              "      <td>0.130</td>\n",
              "      <td>0.407</td>\n",
              "      <td>0.0551</td>\n",
              "      <td>5616165.0</td>\n",
              "      <td>3911.578980</td>\n",
              "      <td>0.720</td>\n",
              "      <td>99.214</td>\n",
              "      <td>NaN</td>\n",
              "      <td>3</td>\n",
              "    </tr>\n",
              "  </tbody>\n",
              "</table>\n",
              "<p>10 rows × 29 columns</p>\n",
              "</div>\n",
              "    <div class=\"colab-df-buttons\">\n",
              "\n",
              "  <div class=\"colab-df-container\">\n",
              "    <button class=\"colab-df-convert\" onclick=\"convertToInteractive('df-83c52bb0-c3d3-4d9c-9187-499fff854fa6')\"\n",
              "            title=\"Convert this dataframe to an interactive table.\"\n",
              "            style=\"display:none;\">\n",
              "\n",
              "  <svg xmlns=\"http://www.w3.org/2000/svg\" height=\"24px\" viewBox=\"0 -960 960 960\">\n",
              "    <path d=\"M120-120v-720h720v720H120Zm60-500h600v-160H180v160Zm220 220h160v-160H400v160Zm0 220h160v-160H400v160ZM180-400h160v-160H180v160Zm440 0h160v-160H620v160ZM180-180h160v-160H180v160Zm440 0h160v-160H620v160Z\"/>\n",
              "  </svg>\n",
              "    </button>\n",
              "\n",
              "  <style>\n",
              "    .colab-df-container {\n",
              "      display:flex;\n",
              "      gap: 12px;\n",
              "    }\n",
              "\n",
              "    .colab-df-convert {\n",
              "      background-color: #E8F0FE;\n",
              "      border: none;\n",
              "      border-radius: 50%;\n",
              "      cursor: pointer;\n",
              "      display: none;\n",
              "      fill: #1967D2;\n",
              "      height: 32px;\n",
              "      padding: 0 0 0 0;\n",
              "      width: 32px;\n",
              "    }\n",
              "\n",
              "    .colab-df-convert:hover {\n",
              "      background-color: #E2EBFA;\n",
              "      box-shadow: 0px 1px 2px rgba(60, 64, 67, 0.3), 0px 1px 3px 1px rgba(60, 64, 67, 0.15);\n",
              "      fill: #174EA6;\n",
              "    }\n",
              "\n",
              "    .colab-df-buttons div {\n",
              "      margin-bottom: 4px;\n",
              "    }\n",
              "\n",
              "    [theme=dark] .colab-df-convert {\n",
              "      background-color: #3B4455;\n",
              "      fill: #D2E3FC;\n",
              "    }\n",
              "\n",
              "    [theme=dark] .colab-df-convert:hover {\n",
              "      background-color: #434B5C;\n",
              "      box-shadow: 0px 1px 3px 1px rgba(0, 0, 0, 0.15);\n",
              "      filter: drop-shadow(0px 1px 2px rgba(0, 0, 0, 0.3));\n",
              "      fill: #FFFFFF;\n",
              "    }\n",
              "  </style>\n",
              "\n",
              "    <script>\n",
              "      const buttonEl =\n",
              "        document.querySelector('#df-83c52bb0-c3d3-4d9c-9187-499fff854fa6 button.colab-df-convert');\n",
              "      buttonEl.style.display =\n",
              "        google.colab.kernel.accessAllowed ? 'block' : 'none';\n",
              "\n",
              "      async function convertToInteractive(key) {\n",
              "        const element = document.querySelector('#df-83c52bb0-c3d3-4d9c-9187-499fff854fa6');\n",
              "        const dataTable =\n",
              "          await google.colab.kernel.invokeFunction('convertToInteractive',\n",
              "                                                    [key], {});\n",
              "        if (!dataTable) return;\n",
              "\n",
              "        const docLinkHtml = 'Like what you see? Visit the ' +\n",
              "          '<a target=\"_blank\" href=https://colab.research.google.com/notebooks/data_table.ipynb>data table notebook</a>'\n",
              "          + ' to learn more about interactive tables.';\n",
              "        element.innerHTML = '';\n",
              "        dataTable['output_type'] = 'display_data';\n",
              "        await google.colab.output.renderOutput(dataTable, element);\n",
              "        const docLink = document.createElement('div');\n",
              "        docLink.innerHTML = docLinkHtml;\n",
              "        element.appendChild(docLink);\n",
              "      }\n",
              "    </script>\n",
              "  </div>\n",
              "\n",
              "\n",
              "<div id=\"df-1705d2cc-c710-4e4d-aa3a-2584d57b62e7\">\n",
              "  <button class=\"colab-df-quickchart\" onclick=\"quickchart('df-1705d2cc-c710-4e4d-aa3a-2584d57b62e7')\"\n",
              "            title=\"Suggest charts\"\n",
              "            style=\"display:none;\">\n",
              "\n",
              "<svg xmlns=\"http://www.w3.org/2000/svg\" height=\"24px\"viewBox=\"0 0 24 24\"\n",
              "     width=\"24px\">\n",
              "    <g>\n",
              "        <path d=\"M19 3H5c-1.1 0-2 .9-2 2v14c0 1.1.9 2 2 2h14c1.1 0 2-.9 2-2V5c0-1.1-.9-2-2-2zM9 17H7v-7h2v7zm4 0h-2V7h2v10zm4 0h-2v-4h2v4z\"/>\n",
              "    </g>\n",
              "</svg>\n",
              "  </button>\n",
              "\n",
              "<style>\n",
              "  .colab-df-quickchart {\n",
              "      --bg-color: #E8F0FE;\n",
              "      --fill-color: #1967D2;\n",
              "      --hover-bg-color: #E2EBFA;\n",
              "      --hover-fill-color: #174EA6;\n",
              "      --disabled-fill-color: #AAA;\n",
              "      --disabled-bg-color: #DDD;\n",
              "  }\n",
              "\n",
              "  [theme=dark] .colab-df-quickchart {\n",
              "      --bg-color: #3B4455;\n",
              "      --fill-color: #D2E3FC;\n",
              "      --hover-bg-color: #434B5C;\n",
              "      --hover-fill-color: #FFFFFF;\n",
              "      --disabled-bg-color: #3B4455;\n",
              "      --disabled-fill-color: #666;\n",
              "  }\n",
              "\n",
              "  .colab-df-quickchart {\n",
              "    background-color: var(--bg-color);\n",
              "    border: none;\n",
              "    border-radius: 50%;\n",
              "    cursor: pointer;\n",
              "    display: none;\n",
              "    fill: var(--fill-color);\n",
              "    height: 32px;\n",
              "    padding: 0;\n",
              "    width: 32px;\n",
              "  }\n",
              "\n",
              "  .colab-df-quickchart:hover {\n",
              "    background-color: var(--hover-bg-color);\n",
              "    box-shadow: 0 1px 2px rgba(60, 64, 67, 0.3), 0 1px 3px 1px rgba(60, 64, 67, 0.15);\n",
              "    fill: var(--button-hover-fill-color);\n",
              "  }\n",
              "\n",
              "  .colab-df-quickchart-complete:disabled,\n",
              "  .colab-df-quickchart-complete:disabled:hover {\n",
              "    background-color: var(--disabled-bg-color);\n",
              "    fill: var(--disabled-fill-color);\n",
              "    box-shadow: none;\n",
              "  }\n",
              "\n",
              "  .colab-df-spinner {\n",
              "    border: 2px solid var(--fill-color);\n",
              "    border-color: transparent;\n",
              "    border-bottom-color: var(--fill-color);\n",
              "    animation:\n",
              "      spin 1s steps(1) infinite;\n",
              "  }\n",
              "\n",
              "  @keyframes spin {\n",
              "    0% {\n",
              "      border-color: transparent;\n",
              "      border-bottom-color: var(--fill-color);\n",
              "      border-left-color: var(--fill-color);\n",
              "    }\n",
              "    20% {\n",
              "      border-color: transparent;\n",
              "      border-left-color: var(--fill-color);\n",
              "      border-top-color: var(--fill-color);\n",
              "    }\n",
              "    30% {\n",
              "      border-color: transparent;\n",
              "      border-left-color: var(--fill-color);\n",
              "      border-top-color: var(--fill-color);\n",
              "      border-right-color: var(--fill-color);\n",
              "    }\n",
              "    40% {\n",
              "      border-color: transparent;\n",
              "      border-right-color: var(--fill-color);\n",
              "      border-top-color: var(--fill-color);\n",
              "    }\n",
              "    60% {\n",
              "      border-color: transparent;\n",
              "      border-right-color: var(--fill-color);\n",
              "    }\n",
              "    80% {\n",
              "      border-color: transparent;\n",
              "      border-right-color: var(--fill-color);\n",
              "      border-bottom-color: var(--fill-color);\n",
              "    }\n",
              "    90% {\n",
              "      border-color: transparent;\n",
              "      border-bottom-color: var(--fill-color);\n",
              "    }\n",
              "  }\n",
              "</style>\n",
              "\n",
              "  <script>\n",
              "    async function quickchart(key) {\n",
              "      const quickchartButtonEl =\n",
              "        document.querySelector('#' + key + ' button');\n",
              "      quickchartButtonEl.disabled = true;  // To prevent multiple clicks.\n",
              "      quickchartButtonEl.classList.add('colab-df-spinner');\n",
              "      try {\n",
              "        const charts = await google.colab.kernel.invokeFunction(\n",
              "            'suggestCharts', [key], {});\n",
              "      } catch (error) {\n",
              "        console.error('Error during call to suggestCharts:', error);\n",
              "      }\n",
              "      quickchartButtonEl.classList.remove('colab-df-spinner');\n",
              "      quickchartButtonEl.classList.add('colab-df-quickchart-complete');\n",
              "    }\n",
              "    (() => {\n",
              "      let quickchartButtonEl =\n",
              "        document.querySelector('#df-1705d2cc-c710-4e4d-aa3a-2584d57b62e7 button');\n",
              "      quickchartButtonEl.style.display =\n",
              "        google.colab.kernel.accessAllowed ? 'block' : 'none';\n",
              "    })();\n",
              "  </script>\n",
              "</div>\n",
              "\n",
              "    </div>\n",
              "  </div>\n"
            ],
            "application/vnd.google.colaboratory.intrinsic+json": {
              "type": "dataframe",
              "variable_name": "data"
            }
          },
          "metadata": {},
          "execution_count": 31
        }
      ],
      "source": [
        "data.head(10)"
      ]
    },
    {
      "cell_type": "code",
      "source": [
        "print(data.at[150,'Country'])\n",
        "data.at[150,'Country']='Sao Tome and Principe'"
      ],
      "metadata": {
        "id": "o5ftcqAGwkdC",
        "colab": {
          "base_uri": "https://localhost:8080/"
        },
        "outputId": "1f3fa4fc-a0d3-482d-97f0-ff0d91835158"
      },
      "execution_count": null,
      "outputs": [
        {
          "output_type": "stream",
          "name": "stdout",
          "text": [
            "Sao Tome and Principe\n"
          ]
        }
      ]
    },
    {
      "cell_type": "markdown",
      "metadata": {
        "id": "F229SbyMGKTl"
      },
      "source": [
        "#Univariate Analysis:"
      ]
    },
    {
      "cell_type": "markdown",
      "metadata": {
        "id": "J53x0O0Hel2J"
      },
      "source": [
        "**Density (P/Km2):** Population density measured in persons per square kilometer."
      ]
    },
    {
      "cell_type": "code",
      "execution_count": null,
      "metadata": {
        "id": "WYu5Cfm7YPfU",
        "colab": {
          "base_uri": "https://localhost:8080/"
        },
        "outputId": "cc9e4806-9174-4879-f492-1d3685dee041"
      },
      "outputs": [
        {
          "output_type": "stream",
          "name": "stdout",
          "text": [
            "<class 'pandas.core.frame.DataFrame'>\n",
            "Index: 180 entries, 0 to 194\n",
            "Data columns (total 29 columns):\n",
            " #   Column                                     Non-Null Count  Dtype   \n",
            "---  ------                                     --------------  -----   \n",
            " 0   Country                                    180 non-null    object  \n",
            " 1   Density (P/Km2)                            180 non-null    float64 \n",
            " 2   Agricultural Land( %)                      180 non-null    float64 \n",
            " 3   Land Area(Km2)                             180 non-null    float64 \n",
            " 4   Birth Rate                                 180 non-null    float64 \n",
            " 5   Co2-Emissions                              180 non-null    float64 \n",
            " 6   CPI                                        176 non-null    float64 \n",
            " 7   CPI Change (%)                             177 non-null    float64 \n",
            " 8   Fertility Rate                             180 non-null    float64 \n",
            " 9   GDP                                        180 non-null    float64 \n",
            " 10  Gross primary education enrollment (%)     179 non-null    float64 \n",
            " 11  Gross tertiary education enrollment (%)    177 non-null    float64 \n",
            " 12  Infant mortality                           180 non-null    float64 \n",
            " 13  Life expectancy                            180 non-null    float64 \n",
            " 14  Maternal mortality ratio                   177 non-null    float64 \n",
            " 15  Minimum wage                               146 non-null    float64 \n",
            " 16  Out of pocket health expenditure           180 non-null    float64 \n",
            " 17  Physicians per thousand                    180 non-null    float64 \n",
            " 18  Population                                 180 non-null    float64 \n",
            " 19  Population: Labor force participation (%)  172 non-null    float64 \n",
            " 20  Tax revenue (%)                            165 non-null    float64 \n",
            " 21  Total tax rate                             179 non-null    float64 \n",
            " 22  Unemployment rate                          172 non-null    float64 \n",
            " 23  Urban_population                           180 non-null    float64 \n",
            " 24  GDP per Capita                             180 non-null    float64 \n",
            " 25  Education Gap                              176 non-null    float64 \n",
            " 26  Public Health Spending                     180 non-null    float64 \n",
            " 27  Health Rating                              90 non-null     category\n",
            " 28  Economy Rating                             114 non-null    category\n",
            "dtypes: category(2), float64(26), object(1)\n",
            "memory usage: 44.1+ KB\n"
          ]
        }
      ],
      "source": [
        "data.info()"
      ]
    },
    {
      "cell_type": "code",
      "execution_count": null,
      "metadata": {
        "id": "zwrPzfaYjcqJ"
      },
      "outputs": [],
      "source": [
        "data.rename(columns = {'Density\\n(P/Km2)':'Density'}, inplace = True)\n"
      ]
    },
    {
      "cell_type": "code",
      "source": [
        "print(data['Density'])"
      ],
      "metadata": {
        "colab": {
          "base_uri": "https://localhost:8080/",
          "height": 547
        },
        "id": "RAxDkoI3K7KM",
        "outputId": "39d993a2-2397-415e-a476-2e4635117b14"
      },
      "execution_count": null,
      "outputs": [
        {
          "output_type": "error",
          "ename": "KeyError",
          "evalue": "'Density'",
          "traceback": [
            "\u001b[0;31m---------------------------------------------------------------------------\u001b[0m",
            "\u001b[0;31mKeyError\u001b[0m                                  Traceback (most recent call last)",
            "\u001b[0;32m/usr/local/lib/python3.10/dist-packages/pandas/core/indexes/base.py\u001b[0m in \u001b[0;36mget_loc\u001b[0;34m(self, key)\u001b[0m\n\u001b[1;32m   3790\u001b[0m         \u001b[0;32mtry\u001b[0m\u001b[0;34m:\u001b[0m\u001b[0;34m\u001b[0m\u001b[0;34m\u001b[0m\u001b[0m\n\u001b[0;32m-> 3791\u001b[0;31m             \u001b[0;32mreturn\u001b[0m \u001b[0mself\u001b[0m\u001b[0;34m.\u001b[0m\u001b[0m_engine\u001b[0m\u001b[0;34m.\u001b[0m\u001b[0mget_loc\u001b[0m\u001b[0;34m(\u001b[0m\u001b[0mcasted_key\u001b[0m\u001b[0;34m)\u001b[0m\u001b[0;34m\u001b[0m\u001b[0;34m\u001b[0m\u001b[0m\n\u001b[0m\u001b[1;32m   3792\u001b[0m         \u001b[0;32mexcept\u001b[0m \u001b[0mKeyError\u001b[0m \u001b[0;32mas\u001b[0m \u001b[0merr\u001b[0m\u001b[0;34m:\u001b[0m\u001b[0;34m\u001b[0m\u001b[0;34m\u001b[0m\u001b[0m\n",
            "\u001b[0;32mindex.pyx\u001b[0m in \u001b[0;36mpandas._libs.index.IndexEngine.get_loc\u001b[0;34m()\u001b[0m\n",
            "\u001b[0;32mindex.pyx\u001b[0m in \u001b[0;36mpandas._libs.index.IndexEngine.get_loc\u001b[0;34m()\u001b[0m\n",
            "\u001b[0;32mpandas/_libs/hashtable_class_helper.pxi\u001b[0m in \u001b[0;36mpandas._libs.hashtable.PyObjectHashTable.get_item\u001b[0;34m()\u001b[0m\n",
            "\u001b[0;32mpandas/_libs/hashtable_class_helper.pxi\u001b[0m in \u001b[0;36mpandas._libs.hashtable.PyObjectHashTable.get_item\u001b[0;34m()\u001b[0m\n",
            "\u001b[0;31mKeyError\u001b[0m: 'Density'",
            "\nThe above exception was the direct cause of the following exception:\n",
            "\u001b[0;31mKeyError\u001b[0m                                  Traceback (most recent call last)",
            "\u001b[0;32m<ipython-input-43-90df75b9c061>\u001b[0m in \u001b[0;36m<cell line: 1>\u001b[0;34m()\u001b[0m\n\u001b[0;32m----> 1\u001b[0;31m \u001b[0mprint\u001b[0m\u001b[0;34m(\u001b[0m\u001b[0mdata\u001b[0m\u001b[0;34m[\u001b[0m\u001b[0;34m'Density'\u001b[0m\u001b[0;34m]\u001b[0m\u001b[0;34m)\u001b[0m\u001b[0;34m\u001b[0m\u001b[0;34m\u001b[0m\u001b[0m\n\u001b[0m",
            "\u001b[0;32m/usr/local/lib/python3.10/dist-packages/pandas/core/frame.py\u001b[0m in \u001b[0;36m__getitem__\u001b[0;34m(self, key)\u001b[0m\n\u001b[1;32m   3891\u001b[0m             \u001b[0;32mif\u001b[0m \u001b[0mself\u001b[0m\u001b[0;34m.\u001b[0m\u001b[0mcolumns\u001b[0m\u001b[0;34m.\u001b[0m\u001b[0mnlevels\u001b[0m \u001b[0;34m>\u001b[0m \u001b[0;36m1\u001b[0m\u001b[0;34m:\u001b[0m\u001b[0;34m\u001b[0m\u001b[0;34m\u001b[0m\u001b[0m\n\u001b[1;32m   3892\u001b[0m                 \u001b[0;32mreturn\u001b[0m \u001b[0mself\u001b[0m\u001b[0;34m.\u001b[0m\u001b[0m_getitem_multilevel\u001b[0m\u001b[0;34m(\u001b[0m\u001b[0mkey\u001b[0m\u001b[0;34m)\u001b[0m\u001b[0;34m\u001b[0m\u001b[0;34m\u001b[0m\u001b[0m\n\u001b[0;32m-> 3893\u001b[0;31m             \u001b[0mindexer\u001b[0m \u001b[0;34m=\u001b[0m \u001b[0mself\u001b[0m\u001b[0;34m.\u001b[0m\u001b[0mcolumns\u001b[0m\u001b[0;34m.\u001b[0m\u001b[0mget_loc\u001b[0m\u001b[0;34m(\u001b[0m\u001b[0mkey\u001b[0m\u001b[0;34m)\u001b[0m\u001b[0;34m\u001b[0m\u001b[0;34m\u001b[0m\u001b[0m\n\u001b[0m\u001b[1;32m   3894\u001b[0m             \u001b[0;32mif\u001b[0m \u001b[0mis_integer\u001b[0m\u001b[0;34m(\u001b[0m\u001b[0mindexer\u001b[0m\u001b[0;34m)\u001b[0m\u001b[0;34m:\u001b[0m\u001b[0;34m\u001b[0m\u001b[0;34m\u001b[0m\u001b[0m\n\u001b[1;32m   3895\u001b[0m                 \u001b[0mindexer\u001b[0m \u001b[0;34m=\u001b[0m \u001b[0;34m[\u001b[0m\u001b[0mindexer\u001b[0m\u001b[0;34m]\u001b[0m\u001b[0;34m\u001b[0m\u001b[0;34m\u001b[0m\u001b[0m\n",
            "\u001b[0;32m/usr/local/lib/python3.10/dist-packages/pandas/core/indexes/base.py\u001b[0m in \u001b[0;36mget_loc\u001b[0;34m(self, key)\u001b[0m\n\u001b[1;32m   3796\u001b[0m             ):\n\u001b[1;32m   3797\u001b[0m                 \u001b[0;32mraise\u001b[0m \u001b[0mInvalidIndexError\u001b[0m\u001b[0;34m(\u001b[0m\u001b[0mkey\u001b[0m\u001b[0;34m)\u001b[0m\u001b[0;34m\u001b[0m\u001b[0;34m\u001b[0m\u001b[0m\n\u001b[0;32m-> 3798\u001b[0;31m             \u001b[0;32mraise\u001b[0m \u001b[0mKeyError\u001b[0m\u001b[0;34m(\u001b[0m\u001b[0mkey\u001b[0m\u001b[0;34m)\u001b[0m \u001b[0;32mfrom\u001b[0m \u001b[0merr\u001b[0m\u001b[0;34m\u001b[0m\u001b[0;34m\u001b[0m\u001b[0m\n\u001b[0m\u001b[1;32m   3799\u001b[0m         \u001b[0;32mexcept\u001b[0m \u001b[0mTypeError\u001b[0m\u001b[0;34m:\u001b[0m\u001b[0;34m\u001b[0m\u001b[0;34m\u001b[0m\u001b[0m\n\u001b[1;32m   3800\u001b[0m             \u001b[0;31m# If we have a listlike key, _check_indexing_error will raise\u001b[0m\u001b[0;34m\u001b[0m\u001b[0;34m\u001b[0m\u001b[0m\n",
            "\u001b[0;31mKeyError\u001b[0m: 'Density'"
          ]
        }
      ]
    },
    {
      "cell_type": "code",
      "execution_count": null,
      "metadata": {
        "id": "o71dUWsoZhVj",
        "colab": {
          "base_uri": "https://localhost:8080/"
        },
        "outputId": "285c23bf-662a-452f-9d5e-d33956aa406c"
      },
      "outputs": [
        {
          "output_type": "stream",
          "name": "stdout",
          "text": [
            "Mounted at /content/drive\n"
          ]
        }
      ],
      "source": [
        "from google.colab import drive\n",
        "drive.mount('/content/drive')"
      ]
    },
    {
      "cell_type": "code",
      "execution_count": null,
      "metadata": {
        "id": "p2j4gPehGF8Y",
        "colab": {
          "base_uri": "https://localhost:8080/",
          "height": 287
        },
        "outputId": "c947f9c7-13dc-4735-9dda-d4af0c860eb4"
      },
      "outputs": [
        {
          "output_type": "error",
          "ename": "ValueError",
          "evalue": "Could not interpret value `Density` for `x`. An entry with this name does not appear in `data`.",
          "traceback": [
            "\u001b[0;31m---------------------------------------------------------------------------\u001b[0m",
            "\u001b[0;31mValueError\u001b[0m                                Traceback (most recent call last)",
            "\u001b[0;32m<ipython-input-40-5d6b73dea11b>\u001b[0m in \u001b[0;36m<cell line: 1>\u001b[0;34m()\u001b[0m\n\u001b[0;32m----> 1\u001b[0;31m \u001b[0max\u001b[0m \u001b[0;34m=\u001b[0m \u001b[0msns\u001b[0m\u001b[0;34m.\u001b[0m\u001b[0mviolinplot\u001b[0m\u001b[0;34m(\u001b[0m\u001b[0mdata\u001b[0m\u001b[0;34m=\u001b[0m\u001b[0mdata\u001b[0m\u001b[0;34m,\u001b[0m\u001b[0mx\u001b[0m\u001b[0;34m=\u001b[0m\u001b[0;34m'Density'\u001b[0m\u001b[0;34m)\u001b[0m\u001b[0;34m\u001b[0m\u001b[0;34m\u001b[0m\u001b[0m\n\u001b[0m",
            "\u001b[0;32m/usr/local/lib/python3.10/dist-packages/seaborn/categorical.py\u001b[0m in \u001b[0;36mviolinplot\u001b[0;34m(data, x, y, hue, order, hue_order, orient, color, palette, saturation, fill, inner, split, width, dodge, gap, linewidth, linecolor, cut, gridsize, bw_method, bw_adjust, density_norm, common_norm, hue_norm, formatter, log_scale, native_scale, legend, scale, scale_hue, bw, inner_kws, ax, **kwargs)\u001b[0m\n\u001b[1;32m   1722\u001b[0m ):\n\u001b[1;32m   1723\u001b[0m \u001b[0;34m\u001b[0m\u001b[0m\n\u001b[0;32m-> 1724\u001b[0;31m     p = _CategoricalPlotter(\n\u001b[0m\u001b[1;32m   1725\u001b[0m         \u001b[0mdata\u001b[0m\u001b[0;34m=\u001b[0m\u001b[0mdata\u001b[0m\u001b[0;34m,\u001b[0m\u001b[0;34m\u001b[0m\u001b[0;34m\u001b[0m\u001b[0m\n\u001b[1;32m   1726\u001b[0m         \u001b[0mvariables\u001b[0m\u001b[0;34m=\u001b[0m\u001b[0mdict\u001b[0m\u001b[0;34m(\u001b[0m\u001b[0mx\u001b[0m\u001b[0;34m=\u001b[0m\u001b[0mx\u001b[0m\u001b[0;34m,\u001b[0m \u001b[0my\u001b[0m\u001b[0;34m=\u001b[0m\u001b[0my\u001b[0m\u001b[0;34m,\u001b[0m \u001b[0mhue\u001b[0m\u001b[0;34m=\u001b[0m\u001b[0mhue\u001b[0m\u001b[0;34m)\u001b[0m\u001b[0;34m,\u001b[0m\u001b[0;34m\u001b[0m\u001b[0;34m\u001b[0m\u001b[0m\n",
            "\u001b[0;32m/usr/local/lib/python3.10/dist-packages/seaborn/categorical.py\u001b[0m in \u001b[0;36m__init__\u001b[0;34m(self, data, variables, order, orient, require_numeric, color, legend)\u001b[0m\n\u001b[1;32m     64\u001b[0m     ):\n\u001b[1;32m     65\u001b[0m \u001b[0;34m\u001b[0m\u001b[0m\n\u001b[0;32m---> 66\u001b[0;31m         \u001b[0msuper\u001b[0m\u001b[0;34m(\u001b[0m\u001b[0;34m)\u001b[0m\u001b[0;34m.\u001b[0m\u001b[0m__init__\u001b[0m\u001b[0;34m(\u001b[0m\u001b[0mdata\u001b[0m\u001b[0;34m=\u001b[0m\u001b[0mdata\u001b[0m\u001b[0;34m,\u001b[0m \u001b[0mvariables\u001b[0m\u001b[0;34m=\u001b[0m\u001b[0mvariables\u001b[0m\u001b[0;34m)\u001b[0m\u001b[0;34m\u001b[0m\u001b[0;34m\u001b[0m\u001b[0m\n\u001b[0m\u001b[1;32m     67\u001b[0m \u001b[0;34m\u001b[0m\u001b[0m\n\u001b[1;32m     68\u001b[0m         \u001b[0;31m# This method takes care of some bookkeeping that is necessary because the\u001b[0m\u001b[0;34m\u001b[0m\u001b[0;34m\u001b[0m\u001b[0m\n",
            "\u001b[0;32m/usr/local/lib/python3.10/dist-packages/seaborn/_base.py\u001b[0m in \u001b[0;36m__init__\u001b[0;34m(self, data, variables)\u001b[0m\n\u001b[1;32m    632\u001b[0m         \u001b[0;31m# information for numeric axes would be information about log scales.\u001b[0m\u001b[0;34m\u001b[0m\u001b[0;34m\u001b[0m\u001b[0m\n\u001b[1;32m    633\u001b[0m         \u001b[0mself\u001b[0m\u001b[0;34m.\u001b[0m\u001b[0m_var_ordered\u001b[0m \u001b[0;34m=\u001b[0m \u001b[0;34m{\u001b[0m\u001b[0;34m\"x\"\u001b[0m\u001b[0;34m:\u001b[0m \u001b[0;32mFalse\u001b[0m\u001b[0;34m,\u001b[0m \u001b[0;34m\"y\"\u001b[0m\u001b[0;34m:\u001b[0m \u001b[0;32mFalse\u001b[0m\u001b[0;34m}\u001b[0m  \u001b[0;31m# alt., used DefaultDict\u001b[0m\u001b[0;34m\u001b[0m\u001b[0;34m\u001b[0m\u001b[0m\n\u001b[0;32m--> 634\u001b[0;31m         \u001b[0mself\u001b[0m\u001b[0;34m.\u001b[0m\u001b[0massign_variables\u001b[0m\u001b[0;34m(\u001b[0m\u001b[0mdata\u001b[0m\u001b[0;34m,\u001b[0m \u001b[0mvariables\u001b[0m\u001b[0;34m)\u001b[0m\u001b[0;34m\u001b[0m\u001b[0;34m\u001b[0m\u001b[0m\n\u001b[0m\u001b[1;32m    635\u001b[0m \u001b[0;34m\u001b[0m\u001b[0m\n\u001b[1;32m    636\u001b[0m         \u001b[0;31m# TODO Lots of tests assume that these are called to initialize the\u001b[0m\u001b[0;34m\u001b[0m\u001b[0;34m\u001b[0m\u001b[0m\n",
            "\u001b[0;32m/usr/local/lib/python3.10/dist-packages/seaborn/_base.py\u001b[0m in \u001b[0;36massign_variables\u001b[0;34m(self, data, variables)\u001b[0m\n\u001b[1;32m    677\u001b[0m             \u001b[0;31m# to centralize / standardize data consumption logic.\u001b[0m\u001b[0;34m\u001b[0m\u001b[0;34m\u001b[0m\u001b[0m\n\u001b[1;32m    678\u001b[0m             \u001b[0mself\u001b[0m\u001b[0;34m.\u001b[0m\u001b[0minput_format\u001b[0m \u001b[0;34m=\u001b[0m \u001b[0;34m\"long\"\u001b[0m\u001b[0;34m\u001b[0m\u001b[0;34m\u001b[0m\u001b[0m\n\u001b[0;32m--> 679\u001b[0;31m             \u001b[0mplot_data\u001b[0m \u001b[0;34m=\u001b[0m \u001b[0mPlotData\u001b[0m\u001b[0;34m(\u001b[0m\u001b[0mdata\u001b[0m\u001b[0;34m,\u001b[0m \u001b[0mvariables\u001b[0m\u001b[0;34m)\u001b[0m\u001b[0;34m\u001b[0m\u001b[0;34m\u001b[0m\u001b[0m\n\u001b[0m\u001b[1;32m    680\u001b[0m             \u001b[0mframe\u001b[0m \u001b[0;34m=\u001b[0m \u001b[0mplot_data\u001b[0m\u001b[0;34m.\u001b[0m\u001b[0mframe\u001b[0m\u001b[0;34m\u001b[0m\u001b[0;34m\u001b[0m\u001b[0m\n\u001b[1;32m    681\u001b[0m             \u001b[0mnames\u001b[0m \u001b[0;34m=\u001b[0m \u001b[0mplot_data\u001b[0m\u001b[0;34m.\u001b[0m\u001b[0mnames\u001b[0m\u001b[0;34m\u001b[0m\u001b[0;34m\u001b[0m\u001b[0m\n",
            "\u001b[0;32m/usr/local/lib/python3.10/dist-packages/seaborn/_core/data.py\u001b[0m in \u001b[0;36m__init__\u001b[0;34m(self, data, variables)\u001b[0m\n\u001b[1;32m     56\u001b[0m \u001b[0;34m\u001b[0m\u001b[0m\n\u001b[1;32m     57\u001b[0m         \u001b[0mdata\u001b[0m \u001b[0;34m=\u001b[0m \u001b[0mhandle_data_source\u001b[0m\u001b[0;34m(\u001b[0m\u001b[0mdata\u001b[0m\u001b[0;34m)\u001b[0m\u001b[0;34m\u001b[0m\u001b[0;34m\u001b[0m\u001b[0m\n\u001b[0;32m---> 58\u001b[0;31m         \u001b[0mframe\u001b[0m\u001b[0;34m,\u001b[0m \u001b[0mnames\u001b[0m\u001b[0;34m,\u001b[0m \u001b[0mids\u001b[0m \u001b[0;34m=\u001b[0m \u001b[0mself\u001b[0m\u001b[0;34m.\u001b[0m\u001b[0m_assign_variables\u001b[0m\u001b[0;34m(\u001b[0m\u001b[0mdata\u001b[0m\u001b[0;34m,\u001b[0m \u001b[0mvariables\u001b[0m\u001b[0;34m)\u001b[0m\u001b[0;34m\u001b[0m\u001b[0;34m\u001b[0m\u001b[0m\n\u001b[0m\u001b[1;32m     59\u001b[0m \u001b[0;34m\u001b[0m\u001b[0m\n\u001b[1;32m     60\u001b[0m         \u001b[0mself\u001b[0m\u001b[0;34m.\u001b[0m\u001b[0mframe\u001b[0m \u001b[0;34m=\u001b[0m \u001b[0mframe\u001b[0m\u001b[0;34m\u001b[0m\u001b[0;34m\u001b[0m\u001b[0m\n",
            "\u001b[0;32m/usr/local/lib/python3.10/dist-packages/seaborn/_core/data.py\u001b[0m in \u001b[0;36m_assign_variables\u001b[0;34m(self, data, variables)\u001b[0m\n\u001b[1;32m    230\u001b[0m                 \u001b[0;32melse\u001b[0m\u001b[0;34m:\u001b[0m\u001b[0;34m\u001b[0m\u001b[0;34m\u001b[0m\u001b[0m\n\u001b[1;32m    231\u001b[0m                     \u001b[0merr\u001b[0m \u001b[0;34m+=\u001b[0m \u001b[0;34m\"An entry with this name does not appear in `data`.\"\u001b[0m\u001b[0;34m\u001b[0m\u001b[0;34m\u001b[0m\u001b[0m\n\u001b[0;32m--> 232\u001b[0;31m                 \u001b[0;32mraise\u001b[0m \u001b[0mValueError\u001b[0m\u001b[0;34m(\u001b[0m\u001b[0merr\u001b[0m\u001b[0;34m)\u001b[0m\u001b[0;34m\u001b[0m\u001b[0;34m\u001b[0m\u001b[0m\n\u001b[0m\u001b[1;32m    233\u001b[0m \u001b[0;34m\u001b[0m\u001b[0m\n\u001b[1;32m    234\u001b[0m             \u001b[0;32melse\u001b[0m\u001b[0;34m:\u001b[0m\u001b[0;34m\u001b[0m\u001b[0;34m\u001b[0m\u001b[0m\n",
            "\u001b[0;31mValueError\u001b[0m: Could not interpret value `Density` for `x`. An entry with this name does not appear in `data`."
          ]
        }
      ],
      "source": [
        "ax = sns.violinplot(data=data,x='Density')\n"
      ]
    },
    {
      "cell_type": "markdown",
      "metadata": {
        "id": "64yWSV5Yapnc"
      },
      "source": [
        "The density data is distributed asimetrically to the right with significant value differences.<br> Most of the data is concentrated in the area between 0-1000 people per square kilometer."
      ]
    },
    {
      "cell_type": "code",
      "execution_count": null,
      "metadata": {
        "id": "xWweupjGGEPA"
      },
      "outputs": [],
      "source": [
        "ax = sns.violinplot(data=data,x='Density',inner=\"stick\")\n",
        "plt.xlim(0,1000)"
      ]
    },
    {
      "cell_type": "code",
      "execution_count": null,
      "metadata": {
        "id": "F4Xkd1SA-qDw"
      },
      "outputs": [],
      "source": [
        "sns.barplot(x='Country',y='Density',data=data.sort_values('Density').tail(10))\n",
        "plt.title(\"10 most dendsed countries\")\n",
        "plt.tick_params(axis='x', rotation=90)"
      ]
    },
    {
      "cell_type": "markdown",
      "metadata": {
        "id": "Vt2QoYcwQIuA"
      },
      "source": [
        "We were interested in examining whether the most densely populated countries are indeed countries that are considered \"weak\" and we found that this is **not** the case here. It is possible that the reason for this stems from the very definition of the density measurement. The density calculation does not take into account cases of large countries with masses of residents who are concentrated in several main areas, and not evenly distributed (or close to that) across the country's territory (this could be the case for countries like India / China that are known as extremely dense countries)."
      ]
    },
    {
      "cell_type": "markdown",
      "metadata": {
        "id": "31Ykw2UIUeLP"
      },
      "source": [
        "**Agricultural Land( %):** Percentage of land area used for agricultural purposes."
      ]
    },
    {
      "cell_type": "code",
      "execution_count": null,
      "metadata": {
        "id": "8nC4HzIuWNek"
      },
      "outputs": [],
      "source": [
        "ax=sns.histplot(data=data,x='Agricultural Land( %)',kde=True)"
      ]
    },
    {
      "cell_type": "markdown",
      "metadata": {
        "id": "y4FNLcaCY7Fn"
      },
      "source": [
        "The agricultural land % is quite normally distributed throughout the data with the majority of countries has between 20%-60% agricultural land."
      ]
    },
    {
      "cell_type": "markdown",
      "metadata": {
        "id": "YW0ZmlnCaSio"
      },
      "source": [
        "**Land Area(Km2):**Total land area of the country in square kilometer."
      ]
    },
    {
      "cell_type": "code",
      "execution_count": null,
      "metadata": {
        "id": "QTvCq3yUbeqa"
      },
      "outputs": [],
      "source": [
        "ax=sns.violinplot(data=data,x='Land Area(Km2)')"
      ]
    },
    {
      "cell_type": "markdown",
      "metadata": {
        "id": "eFu4BPnoFHaa"
      },
      "source": [
        "The land area data includes extreme value differences with a   asymmetric right distribution: countries with land area of tens / hundreds / thousands of square kilometers as well countries with land area of hundreds of thousands and even millions of square kilometers. This situation causes the x-axis display to adjust itself to allow the integration of all values within the displayed visualization. For example, the highest value in the axis 1.75  represent land area of ~17.5M square kilometers to include the land area of Russia  (17,098,240 square kilometers) within the visualization."
      ]
    },
    {
      "cell_type": "markdown",
      "metadata": {
        "id": "5jwiRUO1Hrja"
      },
      "source": [
        "**Birth Rate:** Number of births per 1,000 population per year."
      ]
    },
    {
      "cell_type": "code",
      "execution_count": null,
      "metadata": {
        "id": "IIkUvGHrIHza"
      },
      "outputs": [],
      "source": [
        "data.rename(columns = {'Birth Rate':'Birth_Rate'}, inplace = True)\n",
        "ax=sns.histplot(data=data,x='Birth_Rate',kde=True)\n",
        "plt.show()"
      ]
    },
    {
      "cell_type": "markdown",
      "metadata": {
        "id": "YYE0B1r9Oumf"
      },
      "source": [
        "\n",
        "The distribution of the data tends to be asymmetric to the right, which indicates a relatively low median birth rate."
      ]
    },
    {
      "cell_type": "code",
      "execution_count": null,
      "metadata": {
        "id": "ZTfx31laM5Vb"
      },
      "outputs": [],
      "source": [
        "sns.barplot(x='Country',y='Birth_Rate',data=data.sort_values('Birth_Rate').tail(10))\n",
        "plt.title(\"1o countries with top birth rates\")\n",
        "plt.tick_params(axis='x', rotation=90)"
      ]
    },
    {
      "cell_type": "markdown",
      "metadata": {
        "id": "2ibSzuhUOyWg"
      },
      "source": [
        "We were interested in examining whether developing (financialy weaker) countries are characterized by a higher birth rates. The barplot above looks at the 20 countries with the highest birth rates and we can see that all of those countries are indeed developing countries. Therefore, we learn that this parameter may be a good testing parameter for our research question."
      ]
    },
    {
      "cell_type": "markdown",
      "metadata": {
        "id": "Gv_rISz5EHRH"
      },
      "source": [
        "**Fertility Rate:** Average number of children born to a woman during her lifetime.<br> We expect similar conclusions to the \"Birth rate\" feature."
      ]
    },
    {
      "cell_type": "code",
      "execution_count": null,
      "metadata": {
        "id": "wxix46JMEd2r"
      },
      "outputs": [],
      "source": [
        "ax=sns.histplot(data=data,x='Fertility Rate',kde=True)\n",
        "plt.show()"
      ]
    },
    {
      "cell_type": "code",
      "execution_count": null,
      "metadata": {
        "id": "WSR6t5MiE96Y"
      },
      "outputs": [],
      "source": [
        "sns.barplot(x='Country',y='Fertility Rate',data=data.sort_values('Fertility Rate').tail(10))\n",
        "plt.title(\"1o countries with top fertility rates\")\n",
        "plt.tick_params(axis='x', rotation=90)"
      ]
    },
    {
      "cell_type": "markdown",
      "metadata": {
        "id": "sEgY0MLEGxUE"
      },
      "source": [
        "As expected, we see very similar results to the above univariate visualization of \"Birth Rate\"."
      ]
    },
    {
      "cell_type": "markdown",
      "metadata": {
        "id": "GUgv19FqTIBL"
      },
      "source": [
        "**Co2-Emissions:** Carbon dioxide emissions in tons"
      ]
    },
    {
      "cell_type": "code",
      "execution_count": null,
      "metadata": {
        "id": "1F_7iq1hUUnb"
      },
      "outputs": [],
      "source": [
        "\n",
        "data['Co2_Emissions_per_capita']=data['Co2-Emissions']/data['Population']"
      ]
    },
    {
      "cell_type": "markdown",
      "metadata": {
        "id": "ACZ2Prm-1_Xy"
      },
      "source": [
        "**Exploring** Co2 emissions as it is will not give us meaningful data. Smaller countries will produce less Co2 emissions simply because of their size. Therefore, we calculated Co2 emissions per capita in order to gain meaningfil insights."
      ]
    },
    {
      "cell_type": "code",
      "execution_count": null,
      "metadata": {
        "id": "tkxJLXmFUmXl"
      },
      "outputs": [],
      "source": [
        "ax=sns.violinplot(data=data,x='Co2_Emissions_per_capita')"
      ]
    },
    {
      "cell_type": "markdown",
      "metadata": {
        "id": "4qMgTg1nbtW8"
      },
      "source": [
        "The CO2 emissions data includes extreme value differences (with an asymmetric right distribution). The x-axis ticks are automatically adjusted to allow the inclusion of all values within the displayed visualization."
      ]
    },
    {
      "cell_type": "code",
      "execution_count": null,
      "metadata": {
        "id": "4szUUWNgfP5X"
      },
      "outputs": [],
      "source": [
        "plt.figure(figsize=(15, 8))\n",
        "\n",
        "plt.subplot(1,2,1)\n",
        "ax1=sns.barplot(x='Country',y='Co2_Emissions_per_capita',data=data.sort_values('Co2_Emissions_per_capita').tail(10))\n",
        "plt.title(\"10 most polluting countries\")\n",
        "plt.tick_params(axis='x', rotation=90)\n",
        "\n",
        "plt.subplot(1,2,2)\n",
        "ax2=sns.barplot(x='Country',y='Co2_Emissions_per_capita',data=data.sort_values('Co2_Emissions_per_capita').head(10))\n",
        "plt.title(\"10 least polluting countries\")\n",
        "plt.tick_params(axis='x', rotation=90)\n",
        "\n",
        "plt.show()"
      ]
    },
    {
      "cell_type": "markdown",
      "metadata": {
        "id": "Fb06Mckc4Y0a"
      },
      "source": [
        "We were interested in examining whether Co2 emission levels are indicative of developing countries. According to the above barcharts it can be seen that it is indeed so. In the modern era, the most polluting countries are mostly countries whose economy heavily depend on fossil fuels, particularly oil and natural gas, for energy and economic activities as well as modern western highly industrialized countries who uses alot of such fuels. In contrast, developing countries are relatively less polluting as they are less industrialized and prioritize sustainable development and renewable energy."
      ]
    },
    {
      "cell_type": "markdown",
      "metadata": {
        "id": "d5U1M0UO6p7L"
      },
      "source": [
        "**CPI:** Consumer Price Index (a measure of inflation and purchasing power)<br> **CPI Change (%):** Percentage change in the Consumer Price Index compared to the previous year."
      ]
    },
    {
      "cell_type": "code",
      "execution_count": null,
      "metadata": {
        "id": "ZsMWH0uF_ts5"
      },
      "outputs": [],
      "source": [
        "ax=sns.violinplot(data=data,x='CPI')\n",
        "plt.show()"
      ]
    },
    {
      "cell_type": "markdown",
      "metadata": {
        "id": "k44ZaWrIFkCD"
      },
      "source": [
        "CPI data includes extreme value differences (with an asymmetric right distribution). This make sense as most countries have similar inflation status (similar CPI levels) while few countries which are hyper inflated  have much higher CPI and are causing the plot to have this shape."
      ]
    },
    {
      "cell_type": "code",
      "execution_count": null,
      "metadata": {
        "id": "DjvylgqIeoEy"
      },
      "outputs": [],
      "source": [
        "ax=sns.violinplot(data=data,x='CPI Change (%)')\n",
        "plt.show()"
      ]
    },
    {
      "cell_type": "markdown",
      "metadata": {
        "id": "zCUPcxpi8euG"
      },
      "source": [
        "Similarly to the previous plot, the chang in CPI comapred to previous year is also distibuted assimetrically to the right with extreme value differences. We assum that the same hyper inflated countries are again the cause to this effect here due to current fluctuations in their CPI levels.\n",
        "\n"
      ]
    },
    {
      "cell_type": "markdown",
      "source": [
        "We were interested in examining whether high CPI levels characterize financially weaker (developing) countries"
      ],
      "metadata": {
        "id": "VaINlz9X3SBN"
      }
    },
    {
      "cell_type": "code",
      "execution_count": null,
      "metadata": {
        "id": "_RRGB_8U_yOO"
      },
      "outputs": [],
      "source": [
        "ax=sns.barplot(x='Country',y='CPI',data=data.sort_values('CPI').tail(10))\n",
        "plt.title(\"10 most inflated countries\")\n",
        "plt.tick_params(axis='x', rotation=90)"
      ]
    },
    {
      "cell_type": "markdown",
      "metadata": {
        "id": "D-SFr9NtBiCH"
      },
      "source": [
        "We see that the mix of the most inflationary countries does not necessarily correspond to the \"normal\" mix of developing countries that we see in the analysis of other distinguishing indices. Inflation can derive from a variety of resons. For example, the inflation in Iran is mostly due to socio-political upheavals, a collapse in aggregate supply of needed commodities and exports constraints. The inflation is Venezela is mainly due to heavy money printing and deficit spending."
      ]
    },
    {
      "cell_type": "markdown",
      "metadata": {
        "id": "HIzTb-97OVLL"
      },
      "source": [
        "**GDP per Capita:** GDP= Gross Domestic Product, the total value of goods and services produced in the country."
      ]
    },
    {
      "cell_type": "markdown",
      "metadata": {
        "id": "1zzIrwHURkxM"
      },
      "source": [
        "Due to size influence (bigger countries will most probably have higher GDP), we must use GDP per capita in order to be able to gain insights from the GDP data."
      ]
    },
    {
      "cell_type": "code",
      "execution_count": null,
      "metadata": {
        "id": "BL47tbFmW4RZ"
      },
      "outputs": [],
      "source": [
        "print(data[['Country','CPI']])"
      ]
    },
    {
      "cell_type": "code",
      "execution_count": null,
      "metadata": {
        "id": "TsKcIMcCO2Ra"
      },
      "outputs": [],
      "source": [
        "ax=sns.violinplot(data=data,x='GDP per Capita')\n",
        "plt.show()"
      ]
    },
    {
      "cell_type": "markdown",
      "metadata": {
        "id": "AAxSIShUSIaj"
      },
      "source": [
        "Again we have an assymetric right distribution with extensive value differences. We assume that developing (financialy weaker) countries will have lower GDP values.\n"
      ]
    },
    {
      "cell_type": "code",
      "execution_count": null,
      "metadata": {
        "id": "2-PKEF-HSeBl"
      },
      "outputs": [],
      "source": [
        "ax=sns.barplot(x='Country',y='GDP per Capita',data=data.sort_values('GDP per Capita').head(10))\n",
        "plt.title(\"10 countries with lowest GDP per capita\")\n",
        "plt.tick_params(axis='x', rotation=90)"
      ]
    },
    {
      "cell_type": "markdown",
      "metadata": {
        "id": "RL_eTPqmSx-f"
      },
      "source": [
        "Indeed, we see that all the above are developing countries. mostly located in Africa.  "
      ]
    },
    {
      "cell_type": "markdown",
      "metadata": {
        "id": "cPbCq_MPThqV"
      },
      "source": [
        "** Gross primary education enrollment (%):**Gross enrollment ratio for primary education."
      ]
    },
    {
      "cell_type": "code",
      "execution_count": null,
      "metadata": {
        "id": "gR_OwxzLWKAR"
      },
      "outputs": [],
      "source": [
        "ax=sns.histplot(data=data,x='Gross primary education enrollment (%)',kde=True)\n",
        "plt.show()"
      ]
    },
    {
      "cell_type": "markdown",
      "metadata": {
        "id": "O-Mj2aVuZuuK"
      },
      "source": [
        "We assume that developing countries will have lower primary education enrollment rates."
      ]
    },
    {
      "cell_type": "code",
      "execution_count": null,
      "metadata": {
        "id": "HV9x-LboaGK2"
      },
      "outputs": [],
      "source": [
        "ax=sns.barplot(x='Country',y='Gross primary education enrollment (%)',data=data.sort_values('Gross primary education enrollment (%)').head(10))\n",
        "plt.title(\"10 countries with lowest primary education enrollment rates\")\n",
        "plt.tick_params(axis='x', rotation=90)"
      ]
    },
    {
      "cell_type": "markdown",
      "metadata": {
        "id": "7_YOcVFkafLM"
      },
      "source": [
        "Indeed, we see that all the above are developing countries. mostly located in Africa.  "
      ]
    },
    {
      "cell_type": "markdown",
      "metadata": {
        "id": "g_s66M1Uajta"
      },
      "source": [
        "**Gross tertiary education enrollment (%):** Gross enrollment ratio for tertiary education."
      ]
    },
    {
      "cell_type": "code",
      "execution_count": null,
      "metadata": {
        "id": "kaLCA0U5auo9"
      },
      "outputs": [],
      "source": [
        "ax=sns.histplot(data=data,x='Gross tertiary education enrollment (%)',kde=True)\n",
        "plt.show()"
      ]
    },
    {
      "cell_type": "code",
      "execution_count": null,
      "metadata": {
        "id": "VGy9uCTia9VW"
      },
      "outputs": [],
      "source": [
        "ax=sns.barplot(x='Country',y='Gross tertiary education enrollment (%)',data=data.sort_values('Gross tertiary education enrollment (%)').head(10))\n",
        "plt.title(\"10 countries with lowest teritiary education enrollment rates\")\n",
        "plt.tick_params(axis='x', rotation=90)"
      ]
    },
    {
      "cell_type": "markdown",
      "metadata": {
        "id": "8rDmsY2Ia86_"
      },
      "source": [
        "In contrast to primary education enrollment, here we can see that the teritiary enrollment rates are much lower in general. Teritiary eduaction is any level of education pursued beyond high school, including undergraduate and graduate credentials. We can assume that advanced countries will have higher teritiary education enrollment rates but we also assume that lower primary education enrollment rates are indicatives of weaker countries compared to those with lower teritiary education enrollment rates, as it refers to a lack of more basic education.\n",
        "We can see that also here the 10 countries with lowest rates are developing countries.\n",
        "\n"
      ]
    },
    {
      "cell_type": "markdown",
      "metadata": {
        "id": "KnKAtXk-bKoM"
      },
      "source": [
        "**Education gap:** Calculated variable of the difference between primary and tertiary enrollment"
      ]
    },
    {
      "cell_type": "code",
      "execution_count": null,
      "metadata": {
        "id": "5vF79LjWbFrC"
      },
      "outputs": [],
      "source": [
        "ax=sns.histplot(data=data,x='Education Gap',kde=True)\n",
        "plt.show()"
      ]
    },
    {
      "cell_type": "code",
      "execution_count": null,
      "metadata": {
        "id": "Fwbk4kf9bT4c"
      },
      "outputs": [],
      "source": [
        "ax=sns.barplot(x='Country',y='Education Gap',data=data.sort_values('Education Gap').tail(10))\n",
        "plt.title(\"10 countries with highest Education gaps enrollment rates\")\n",
        "plt.tick_params(axis='x', rotation=90)"
      ]
    },
    {
      "cell_type": "markdown",
      "metadata": {
        "id": "JCg3XrfpcAlT"
      },
      "source": [
        "After examaning the education gap data, we understand the following:\n",
        "(1)Western advanced countries ofter have both high primary and high tertiary education enrollment rates which result in a low education gap. <br>(2)Some developing countries have both low primary and low teritiary education enrollment rates which result in a low rduacation gap, while other have very high (above 100%) primary education enrollment rates and low teritiary education enrollment rates which result in a high education gap.\n",
        "Therefore, we can't use the education gap calculation as it is to infer meaningful insights.  "
      ]
    },
    {
      "cell_type": "markdown",
      "metadata": {
        "id": "oqJsQPoscE3p"
      },
      "source": [
        "**Infant mortality:** Number of deaths per 1,000 live births before reaching\n"
      ]
    },
    {
      "cell_type": "code",
      "execution_count": null,
      "metadata": {
        "id": "WWjRGDtMcBys"
      },
      "outputs": [],
      "source": [
        "ax=sns.histplot(data=data,x='Infant mortality',kde=True)\n",
        "plt.show()"
      ]
    },
    {
      "cell_type": "markdown",
      "metadata": {
        "id": "L3l847elcRop"
      },
      "source": [
        "We can see that in most cases, infant mortalities are in relatively low figures- between 0 and 20 cases per 1,000 live births. This is probably due to advances in medicine and awareness of safe birth and newborn care in most countries."
      ]
    },
    {
      "cell_type": "code",
      "execution_count": null,
      "metadata": {
        "id": "3CD9uz_DcI2t"
      },
      "outputs": [],
      "source": [
        "ax=sns.barplot(x='Country',y='Infant mortality',data=data.sort_values('Infant mortality').tail(10))\n",
        "plt.title(\"10 countries with highest infant mortalities\")\n",
        "plt.tick_params(axis='x', rotation=90)"
      ]
    },
    {
      "cell_type": "markdown",
      "metadata": {
        "id": "tgfdWBoKcbbQ"
      },
      "source": [
        "We can see that this feature also identifies developing countries as they are more dalyed in regards to medical progress and therefore their numbers of infant mortalities are significantly higher"
      ]
    },
    {
      "cell_type": "markdown",
      "metadata": {
        "id": "PNkKOjY6cen0"
      },
      "source": [
        ":**Life expectancy:** Average number of years a newborn is expected to live."
      ]
    },
    {
      "cell_type": "code",
      "execution_count": null,
      "metadata": {
        "id": "x1yXWaykcftI"
      },
      "outputs": [],
      "source": [
        "ax=sns.histplot(data=data,x='Life expectancy',kde=True)\n",
        "plt.show()"
      ]
    },
    {
      "cell_type": "markdown",
      "metadata": {
        "id": "jWJAR6UEcmeG"
      },
      "source": [
        "The majoroty of countries have life expectancy of 70-80 years. An increase in life expectancy is usually associated with technological and medical progress, therefore we should expect similar conclusions to those we derived from infant mortality variable."
      ]
    },
    {
      "cell_type": "code",
      "execution_count": null,
      "metadata": {
        "id": "w7bgwxsbcna-"
      },
      "outputs": [],
      "source": [
        "ax=sns.barplot(x='Country',y='Life expectancy',data=data.sort_values('Life expectancy').head(10))\n",
        "plt.title(\"10 countries with lowest life expectencies\")\n",
        "plt.tick_params(axis='x', rotation=90)"
      ]
    },
    {
      "cell_type": "markdown",
      "metadata": {
        "id": "FfPh5P5pc0gb"
      },
      "source": [
        "As expected, we see that the countries with lowest life expectencies are developing countries (which are delayed in terms of technological progress)."
      ]
    },
    {
      "cell_type": "markdown",
      "metadata": {
        "id": "SwD61AqPc3hX"
      },
      "source": [
        "**Maternal mortality ratio:** Number of maternal deaths per 100,000 live births.\n"
      ]
    },
    {
      "cell_type": "code",
      "execution_count": null,
      "metadata": {
        "id": "kB9B8iofc1LJ"
      },
      "outputs": [],
      "source": [
        "ax=sns.histplot(data=data,x='Maternal mortality ratio',kde=True)\n",
        "plt.show()"
      ]
    },
    {
      "cell_type": "markdown",
      "metadata": {
        "id": "GIyZIY8mc6qn"
      },
      "source": [
        " Similar to the case of infant mortalities, we can see that in most cases, maternal mortalities are in relatively low figures (0-50 cases per 100,000 live births). This is again related to modern progress and therefore we expect to have similar results."
      ]
    },
    {
      "cell_type": "code",
      "execution_count": null,
      "metadata": {
        "id": "YxV0G3ouc9p0"
      },
      "outputs": [],
      "source": [
        "ax=sns.barplot(x='Country',y='Maternal mortality ratio',data=data.sort_values('Maternal mortality ratio').tail(10))\n",
        "plt.title(\"10 countries with highest Maternal mortality ratios\")\n",
        "plt.tick_params(axis='x', rotation=90)"
      ]
    },
    {
      "cell_type": "markdown",
      "metadata": {
        "id": "iQyFtAXqdECh"
      },
      "source": [
        "**Results** as expected."
      ]
    },
    {
      "cell_type": "markdown",
      "metadata": {
        "id": "2ZKfGGeSdPvk"
      },
      "source": [
        "**Minimum wage:** Minimum wage level after conversion to US dollars\n"
      ]
    },
    {
      "cell_type": "code",
      "execution_count": null,
      "metadata": {
        "id": "Xxpj7_9YdEkN"
      },
      "outputs": [],
      "source": [
        "ax = sns.violinplot(data=data,x='Minimum wage')"
      ]
    },
    {
      "cell_type": "markdown",
      "metadata": {
        "id": "49LD1EPldTAi"
      },
      "source": [
        "We can see that the minimum wage is distributed asimetrically to the right. We assume that developing countries will probably have lower minimum wages due to a variety of factors, including lower levels of industrialization, limited labor regulations, less advanced infrastructure, and lower overall economic productivity. These factors often result in lower average wages and lower standards of living."
      ]
    },
    {
      "cell_type": "code",
      "execution_count": null,
      "metadata": {
        "id": "5Jar8ZyxdT23"
      },
      "outputs": [],
      "source": [
        "ax=sns.barplot(x='Country',y='Minimum wage',data=data[data['Minimum wage'] != 0].sort_values('Minimum wage').head(10))\n",
        "plt.title(\"10 countries with lowest minimum wage\")\n",
        "plt.tick_params(axis='x', rotation=90)"
      ]
    },
    {
      "cell_type": "markdown",
      "metadata": {
        "id": "v6sQ2vYPnvl1"
      },
      "source": [
        "As expected, the countries with the lowest minimum wage are all developing countries.<br>(*)We decided not to include countries for which the minimum wage is defined as 0 because apparently in these countries no minimum wage is defined at all.\n"
      ]
    },
    {
      "cell_type": "markdown",
      "metadata": {
        "id": "iIaI4_QGqbaF"
      },
      "source": [
        "**Out of pocket health expenditure:** Percentage of total health expenditure paid out-of-pocket by individuals."
      ]
    },
    {
      "cell_type": "code",
      "execution_count": null,
      "metadata": {
        "id": "s9DJbVhUqKHy"
      },
      "outputs": [],
      "source": [
        "ax=sns.histplot(data=data,x='Out of pocket health expenditure',kde=True)\n",
        "plt.show()"
      ]
    },
    {
      "cell_type": "markdown",
      "metadata": {
        "id": "GJKZ4wxosBj9"
      },
      "source": [
        "We see that in most cases, individual paymments of health expenditure can vary between 0.1 and 0.5 of total ealth exppenditre. <br>Increased % of out-of-pockect health expenses can be due to various reasons such as: <br>\n",
        "* a lack of health insurance coverage\n",
        "* limited access to public healthcare\n",
        "* high deductibles and copayments\n",
        "* Expensive Prescription Drugs\n",
        "* Non-Covered Services<br>\n",
        "\n",
        "We assume that low precentage of out-of-pocket health expeses can be indicative to more modernized advanced countries while we are not sure about the meaning of high out-of-pocket health expeses which can be due to government positions and not necessarily be related to the  objective economic status of a country.\n",
        "  "
      ]
    },
    {
      "cell_type": "code",
      "execution_count": null,
      "metadata": {
        "id": "8HYyRrzut608"
      },
      "outputs": [],
      "source": [
        "plt.figure(figsize=(15, 8))\n",
        "\n",
        "plt.subplot(1,2,1)\n",
        "ax=sns.barplot(x='Country',y='Out of pocket health expenditure',data=data.sort_values('Out of pocket health expenditure').head(10))\n",
        "plt.title(\"10 countries with lowest Out of pocket health expenditure\")\n",
        "plt.tick_params(axis='x', rotation=90)\n",
        "\n",
        "plt.subplot(1,2,2)\n",
        "ax=sns.barplot(x='Country',y='Out of pocket health expenditure',data=data.sort_values('Out of pocket health expenditure').tail(10))\n",
        "plt.title(\"10 countries with highest Out of pocket health expenditure\")\n",
        "plt.tick_params(axis='x', rotation=90)\n",
        "\n",
        "plt.show()"
      ]
    },
    {
      "cell_type": "markdown",
      "metadata": {
        "id": "JT0MtfhXCedY"
      },
      "source": [
        "1. Unlike our assumption, the leading western countries actually do not appear in the ranking above among the 10 countries with lowesr out of pocket health expenses. We assume that this is probable due to uninsured population / expensive procedures that aren't covered.  \n",
        "\n",
        "2. All of the 10 countries with highest out of pocket health expenses are developing countries with weak economic status.\n",
        "\n"
      ]
    },
    {
      "cell_type": "markdown",
      "metadata": {
        "id": "5xXqqEPzKVlG"
      },
      "source": [
        "**Physicians per thousand:** Number of physicians per thousand people."
      ]
    },
    {
      "cell_type": "code",
      "execution_count": null,
      "metadata": {
        "id": "vtKcL4iaKrB0"
      },
      "outputs": [],
      "source": [
        "ax=sns.histplot(data=data,x='Physicians per thousand',kde=True)\n",
        "plt.show()"
      ]
    },
    {
      "cell_type": "markdown",
      "metadata": {
        "id": "g-NTYEsHLH40"
      },
      "source": [
        "We assume that countries who put an emphasis on the availability of its healthcare services will probably have a good ratio of physicians per thousand. Also we assume that extremely low ratio will probably be indicative of developing countries."
      ]
    },
    {
      "cell_type": "code",
      "execution_count": null,
      "metadata": {
        "id": "gpn2617oN9cB"
      },
      "outputs": [],
      "source": [
        "ax=sns.barplot(x='Country',y='Physicians per thousand',data=data.sort_values('Physicians per thousand').head(10))\n",
        "plt.title(\"10 countries with lowest Physicians per thousand ratio\")\n",
        "plt.tick_params(axis='x', rotation=90)\n",
        "plt.show()"
      ]
    },
    {
      "cell_type": "markdown",
      "metadata": {
        "id": "uRHWMVUIOkSk"
      },
      "source": [
        "Results as expected."
      ]
    },
    {
      "cell_type": "markdown",
      "metadata": {
        "id": "lmYr8Q94So06"
      },
      "source": [
        "**Population:**Total population of the country."
      ]
    },
    {
      "cell_type": "code",
      "execution_count": null,
      "metadata": {
        "id": "JZZ3i9htNjtr"
      },
      "outputs": [],
      "source": [
        "ax = sns.violinplot(data=data,x='Population')\n",
        "plt.show()"
      ]
    },
    {
      "cell_type": "markdown",
      "metadata": {
        "id": "c7lnHm1oTIDM"
      },
      "source": [
        "\n",
        "The distribution of the world's population is characterized by significant asymmetry, due to the concentration of people in certain regions and sparse populations in others."
      ]
    },
    {
      "cell_type": "markdown",
      "metadata": {
        "id": "NlPFeltn9cYd"
      },
      "source": [
        "**Urban_population:** Percentage of the population living in urban areas."
      ]
    },
    {
      "cell_type": "markdown",
      "metadata": {
        "id": "rciJhA8c_msD"
      },
      "source": [
        "In order to visualize this feature we calculated urban population as a precentage of total population:"
      ]
    },
    {
      "cell_type": "code",
      "execution_count": null,
      "metadata": {
        "id": "v3QerNBB_ks0"
      },
      "outputs": [],
      "source": [
        "data['urban_population_%']=data['Urban_population']/data['Population']"
      ]
    },
    {
      "cell_type": "code",
      "execution_count": null,
      "metadata": {
        "id": "r3pv30Ez9hc8"
      },
      "outputs": [],
      "source": [
        "ax=sns.histplot(data=data,x='urban_population_%',kde=True)\n",
        "plt.show()"
      ]
    },
    {
      "cell_type": "markdown",
      "metadata": {
        "id": "ShIqE9yUAe8d"
      },
      "source": [
        "We assume that some developing countries do not have as many \"urban\" areas which can lead to a very small precentage of urban population. <br>(*) We are aware that this is not a \"must have\" characteristic of all developing countries which can be considered as such for utterly different reasons."
      ]
    },
    {
      "cell_type": "code",
      "execution_count": null,
      "metadata": {
        "id": "dHjboiiEAH3w"
      },
      "outputs": [],
      "source": [
        "ax=sns.barplot(x='Country',y='urban_population_%',data=data.sort_values('urban_population_%').head(10))\n",
        "plt.title(\"10 countries with lowest urban population\")\n",
        "plt.tick_params(axis='x', rotation=90)\n",
        "plt.show()"
      ]
    },
    {
      "cell_type": "markdown",
      "metadata": {
        "id": "ZUIOpjWDCCD-"
      },
      "source": [
        "Result as expected."
      ]
    },
    {
      "cell_type": "markdown",
      "metadata": {
        "id": "QMfXPlfkg5_E"
      },
      "source": [
        "**Population: Labor force participation (%):**Percentage of the population that is part of the labor force."
      ]
    },
    {
      "cell_type": "code",
      "execution_count": null,
      "metadata": {
        "id": "ptI6P1IAhE2S"
      },
      "outputs": [],
      "source": [
        "ax=sns.histplot(data=data,x='Population: Labor force participation (%)',kde=True)\n",
        "plt.show()"
      ]
    },
    {
      "cell_type": "code",
      "execution_count": null,
      "metadata": {
        "id": "3__3PNxUiQEV"
      },
      "outputs": [],
      "source": [
        "plt.figure(figsize=(15, 8))\n",
        "\n",
        "plt.subplot(1,2,1)\n",
        "ax=sns.barplot(x='Country',y='Population: Labor force participation (%)',data=data.sort_values('Population: Labor force participation (%)').head(10))\n",
        "plt.title(\"10 countries with lowest labor force participation\")\n",
        "plt.tick_params(axis='x', rotation=90)\n",
        "\n",
        "plt.subplot(1,2,2)\n",
        "ax=sns.barplot(x='Country',y='Population: Labor force participation (%)',data=data.sort_values('Population: Labor force participation (%)').tail(10))\n",
        "plt.title(\"10 countries with highest labor force participation\")\n",
        "plt.tick_params(axis='x', rotation=90)\n",
        "\n",
        "plt.show()"
      ]
    },
    {
      "cell_type": "markdown",
      "metadata": {
        "id": "P-RArsOQhqDD"
      },
      "source": [
        "We were surprised by the result of ranking above. We enticipated that the main factors to encourage high labor force participation will be gender equality legistlation (e.g. Iceland) , social welfare system/ family- friendly policies (e.g. Norway / Sweden/ Netherlands/ Denmark) colture and also high work ethics (e.g.Japan), but the ranking shows different results. This result might derive from taking into account working from a very young age / not retiring even at older ages."
      ]
    },
    {
      "cell_type": "markdown",
      "metadata": {
        "id": "DzMIsIHvv95G"
      },
      "source": [
        "**Unemployment rate:** Percentage of the labor force that is unemployed."
      ]
    },
    {
      "cell_type": "code",
      "execution_count": null,
      "metadata": {
        "id": "wPfXsphzzGnz"
      },
      "outputs": [],
      "source": [
        "ax=sns.histplot(data=data,x='Unemployment rate',kde=True)\n",
        "plt.show()"
      ]
    },
    {
      "cell_type": "code",
      "execution_count": null,
      "metadata": {
        "id": "0FXhEPRTytk_"
      },
      "outputs": [],
      "source": [
        "plt.figure(figsize=(15, 8))\n",
        "\n",
        "plt.subplot(1,2,1)\n",
        "ax=sns.barplot(x='Country',y='Unemployment rate',data=data.sort_values('Unemployment rate').head(10))\n",
        "plt.title(\"10 countries with lowest unemployment rates\")\n",
        "plt.tick_params(axis='x', rotation=90)\n",
        "\n",
        "plt.subplot(1,2,2)\n",
        "ax=sns.barplot(x='Country',y='Unemployment rate',data=data.sort_values('Unemployment rate').tail(10))\n",
        "plt.title(\"10 countries with highest unemployment rates\")\n",
        "plt.tick_params(axis='x', rotation=90)\n",
        "\n",
        "plt.show()"
      ]
    },
    {
      "cell_type": "markdown",
      "metadata": {
        "id": "GGNnSbS91Qmk"
      },
      "source": [
        "**Total tax rate:** Overall tax burden as a percentage of commercial profits."
      ]
    },
    {
      "cell_type": "code",
      "execution_count": null,
      "metadata": {
        "id": "rMl7vdv916oE"
      },
      "outputs": [],
      "source": [
        "ax=sns.histplot(data=data,x='Total tax rate',kde=True)\n",
        "plt.show()"
      ]
    },
    {
      "cell_type": "markdown",
      "metadata": {
        "id": "KX5TL8YA6PVC"
      },
      "source": [
        "We assume that there are various factors why a country has a high / low overall tax rate. While some countries may have high overall tax rates, they may offer other advantages such as access to markets, infrastructure and a skilled workforce. Similarly, while low tax rates can be attractive to businesses, it is only one part of a wider economic and regulatory context. We do not believe that this feature is a key to identifying developing countries that are struggling economically.\n",
        "\n",
        "\n"
      ]
    },
    {
      "cell_type": "markdown",
      "metadata": {
        "id": "CZ6lwcvP7-pb"
      },
      "source": [
        "**Tax revenue (%):** Tax revenue as a percentage of GDP."
      ]
    },
    {
      "cell_type": "code",
      "execution_count": null,
      "metadata": {
        "id": "OsKFH7Tf8OfE"
      },
      "outputs": [],
      "source": [
        "ax=sns.histplot(data=data,x='Tax revenue (%)',kde=True)\n",
        "plt.show()"
      ]
    },
    {
      "cell_type": "markdown",
      "metadata": {
        "id": "CXS3nfmr8w0J"
      },
      "source": [
        "We can see that the distribution is quite normal. Similar to the total tax rate feature, we do not assume this will be a key factor in identifying developing countries that are struggling economically."
      ]
    },
    {
      "cell_type": "markdown",
      "source": [
        "#Conclusions so far:\n",
        "After performing the univariate analysis, we decided to focuse on 4 main  features which in our opinion constitute the most acute challenges of developing countries: Infant mortality, Maternal mortality, Life expectancy and Gross teritary enrollment ratio.\n",
        "\n",
        "We chose these parameters due to the following reasons:\n",
        " 1. We chose parameters with the highest priority on a moral level.<br> Three of the features concern human life and another one concerns education which is an \"easy\" investment in the sense that it is very clear how to positivly influence it to deliver good results that can also positivly impact alot of other progress related factors.\n",
        " 2. Parameters that can be influenced on a practical/ actionable level.\n",
        " 3. Parameters that do not constitute an ethical conflict, for example: although high birth rate / fertility rate are natural charectaristics of developing countries, we did not see fit to influence them directly following our visual analysis.\n",
        "\n",
        "\n"
      ],
      "metadata": {
        "id": "OntgzR0Oub7t"
      }
    },
    {
      "cell_type": "markdown",
      "source": [
        "#Multivariate Visualizations"
      ],
      "metadata": {
        "id": "BTF529Jl8p5-"
      }
    },
    {
      "cell_type": "code",
      "source": [
        "corr_matrix = data.corr()\n",
        "mask = np.triu(np.ones_like(corr_matrix, dtype=bool))\n",
        "plt.figure(figsize=(10, 8))\n",
        "sns.heatmap(corr_matrix, annot=True, mask=mask, fmt=\".2f\", cmap=\"coolwarm\",linewidths=0.5, annot_kws={\"size\": 6})\n",
        "plt.xticks(rotation=45, ha=\"right\")\n",
        "plt.yticks(rotation=0)\n",
        "plt.title('Correlation Heatmap of Variables')\n",
        "plt.tight_layout()\n",
        "plt.show()"
      ],
      "metadata": {
        "id": "AfbwRyGe8pjx"
      },
      "execution_count": null,
      "outputs": []
    },
    {
      "cell_type": "markdown",
      "source": [
        "Analyzing the results of the correlation heatmap that exhibit correlations exceeding 70% (both positive and negative), we can gain insights into identifying financially struggling or developing countries based on various interconnected factors. Here are concise explanations for each set of correlations in this context.\n",
        "<br>\n",
        "(-) We focused mainly on the correlations that has to do with our main goal.<br>\n",
        "(-) Also, we didn't analyse obvious correlations like between CPI and CPI change :\n",
        "\n",
        "**Variables with High Positive Correlations:**\n",
        "\n",
        "* GDP and CO2 Emissions (0.92): Financially struggling countries tend to have lower GDP and industrialization, leading to reduced CO2 emissions.\n",
        "* Infant Mortality and Fertility Rate (0.84): High fertility rates and inadequate healthcare can contribute to higher infant mortality in developing nations.\n",
        "* Life Expectancy and Gross Tertiary Education Enrollment Rate (0.71): Lower life expectancy and limited access to higher education coincide in struggling economies.\n",
        "* Maternal Mortality Ratio and Fertility Rate (0.78): Developing countries with higher fertility rates often face increased maternal health risks.\n",
        "* Physicians per Thousand and Gross Tertiary Education Enrollment Rate (0.72): Limited healthcare availability and insufficient higher education align with developing countries.\n",
        "* Physicians per Thousand and Life Expectancy (0.71): Scarce medical professionals can contribute to lower life expectancy in struggling economies.\n",
        "* Urban Population and CO2 Emissions (0.93): Less urbanization in financially struggling countries is related to lower CO2 emissions.\n",
        "* Urban Population and GDP (0.78): Higher urbanization is related to higher GDP levels.\n",
        "* GDP per capita and Minimum wage (0.73): Higer minimum wage (a sign of overall good economic status) is related to higher levels of GDP per capita.\n",
        "\n",
        "**Variables with High Negative Correlations:**\n",
        "\n",
        "* Life Expectancy and Fertility Rate (-0.84): Higher fertility rates often relate to lower healthcare access and life expectancy in developing nations.\n",
        "* Life Expectancy and Infant Mortality (-0.92): Same A above.\n",
        "* Physicians per Thousand and Birth Rate (-0.75): Limited healthcare access contributes to higher birth rates in developing economies.\n",
        "* Physicians per Thousand and Infant Mortality (-0.71): Reduced healthcare availability leads to higher infant mortality rates in financially struggling nations.\n",
        "\n",
        "In conclusion, the correlations among indicators unveil nuanced relationships crucial for identifying developing nations. These insights underscore the multifaceted nature of socio-economic factors influencing countries' development trajectories."
      ],
      "metadata": {
        "id": "5zVjXhrK9PnU"
      }
    },
    {
      "cell_type": "code",
      "source": [
        "sns.scatterplot(data=data, x='GDP per Capita', y='Life expectancy', size='Economy Rating', hue='Economy Rating')\n",
        "plt.show()"
      ],
      "metadata": {
        "id": "NEEiU81d-_Ui"
      },
      "execution_count": null,
      "outputs": []
    },
    {
      "cell_type": "markdown",
      "source": [
        "Not surprisingly, we can see that at the intersect of the highest GDP levels (20,000+) and highet life expectancies (80+) there are only coutries with  economy ratings of 4 and 5. None the less, it is quite surprising that countries with economy rating #4 also appear at the lower / lowest intersect between GDP ad life expectancy levels. This is probably a result of economic features (other that GDP/ GDP per capita) which are part of the rating calculation. This can potentially indicate that a further study should be made to improve the calculation of the the economic rating althogh different countries often have diferent combinations of the rating's components, indicating that these differences do not inherently imply any fundamental mistake.\n",
        "\n",
        "\n",
        "\n",
        "\n"
      ],
      "metadata": {
        "id": "OklyanmJDEEd"
      }
    },
    {
      "cell_type": "code",
      "source": [
        "sns.scatterplot(data=data, x='GDP per Capita', y='Life expectancy', size='Health Rating', hue='Health Rating')\n",
        "plt.show()\n"
      ],
      "metadata": {
        "id": "v9UVSBAP_FSQ"
      },
      "execution_count": null,
      "outputs": []
    },
    {
      "cell_type": "markdown",
      "source": [
        "Similarly, we can see that the countries with the health rating (3) appear at the intersect of the highest GDP levels (20,000+) and highet life expectancies (80+) and like before, again it is quite surprising that countries with health rating #3 also appear at the lower / lowest intersect between GDP ad life expectancy levels but this could be a result of the different mix of features composing the rating calculation. Further analysis should be made to examine the need / options for refining the health rating."
      ],
      "metadata": {
        "id": "J28USYXGQNSE"
      }
    },
    {
      "cell_type": "code",
      "source": [
        "\n",
        "bins=[0,2000,6000,15000,185000]\n",
        "bins_labels = [1,2,3,4]\n",
        "data['gdp_binned'] = pd.cut(data['GDP per Capita'], bins,labels=bins_labels)\n"
      ],
      "metadata": {
        "id": "-9YJLDue_GQI"
      },
      "execution_count": null,
      "outputs": []
    },
    {
      "cell_type": "code",
      "source": [
        "\n",
        "fig = px.parallel_coordinates(data, color=\"gdp_binned\",\n",
        "                              dimensions=['Infant mortality', 'Life expectancy', 'Maternal mortality ratio','Gross tertiary education enrollment (%)'],\n",
        "                              title='Focus features: Infant mortality, Maternal mortality, Life expectancy and tertiary education enrollment (%)',\n",
        "                              color_continuous_scale=px.colors.diverging.Tealrose,\n",
        "                              color_continuous_midpoint=2)\n",
        "\n",
        "fig.show()\n"
      ],
      "metadata": {
        "id": "BLICfZBz_IqG"
      },
      "execution_count": null,
      "outputs": []
    },
    {
      "cell_type": "code",
      "source": [
        "\n",
        "def range_check(x,y,param):\n",
        "    if data[param][i] >=x and data[param][i]<=y:\n",
        "        return True\n",
        "    else:\n",
        "        return False\n",
        "\n",
        "res_cross_check=[]\n",
        "for i in data.index:\n",
        "    if range_check(30,84.5 ,'Infant mortality') and range_check(52.8, 70, 'Life expectancy') and range_check(300, 1140, 'Maternal mortality ratio')and range_check(0.008,0.1,'Gross tertiary education enrollment (%)'):\n",
        "        res_cross_check.append(data['Country'][i])\n",
        "\n",
        "print(\"Countries after interactive filtering:\",*res_cross_check,sep = \"\\n\")\n",
        "print()\n",
        "print(\"Number of countries:\", len(res_cross_check))\n"
      ],
      "metadata": {
        "id": "9uRPxtI4_Kjw"
      },
      "execution_count": null,
      "outputs": []
    },
    {
      "cell_type": "markdown",
      "source": [
        "The parallel coordinates plot serves as a potent tool for highlighting the correlations between specific attributes and discernible trends or narratives concealed within the data. Moreover, interactive components such as filtering augment user exploration and comprehension.\n",
        "\n",
        "In the aforementioned context, we elected our 4 focus features – Infant mortality, ,Maternal mortality, Life Expectancy and Gross tertiary education enrollment (%) – which are hypothesized to be substantial indicators of developing countries. Subsequently, we restricted their ranges to align with the characteristics of developing nations.\n",
        "\n",
        "By additionally filtering the remaining two parameters, we can amplify the level of socio-economic necessity among the countries we identify, while concurrently reducing the quantity of outcomes.\n"
      ],
      "metadata": {
        "id": "55CRhc2W_O7d"
      }
    },
    {
      "cell_type": "markdown",
      "source": [
        "#The multivariate visualizations support our interim conclusions:\n",
        "We can see that our choice of focus features is indeed relevant when looking at a \"bigger picture\" with more variable at once.\n",
        "This confirmation allows us to proceed safely to bivariate analysis in which we will try to find the best ways to influence those features."
      ],
      "metadata": {
        "id": "c0bgQEos_6Qo"
      }
    },
    {
      "cell_type": "markdown",
      "source": [
        "# Revised research questions and hypoteses based on current stage of  analysis:\n",
        "After going over the data, feature by feature and indetifiying the most relevant features in terms of third world countries' challenges, we are revising our basic research questions and hypoteses in order to make them more precise and actionable towards real possible improvements.\n",
        "\n",
        "1. Which countries suffer the most from high infant mortality? And what change can be made to improve it?\n",
        "2. Which countries suffer the most from high maternal mortality ratio And what change can be made to improve it?\n",
        "3. Which countries suffer the most from low life expactancy? and what change can be made to improve it?\n",
        "4. Which countries suffer the most from low Gross teritary enrollment ratios and what change can be made to improve it?"
      ],
      "metadata": {
        "id": "mVDWO49c28of"
      }
    },
    {
      "cell_type": "markdown",
      "source": [
        "Revised hypotheses:\n",
        "\n",
        "*   H1: Relatively high infant mortality rate is related to bad health ratings and bad economic ratings.\n",
        "\n",
        "*   H2: Relatively high maternal mortality ratio is related to bad helth ratings and bad economics ratings.\n",
        "\n",
        "*   H3: Relatively low life expctancy is related to bad helth ratings and bad economic ratings.\n",
        "\n",
        "*   H4: Relatively low gross teriteary enrollment ratio is related to  bad economic ratings and large rural population."
      ],
      "metadata": {
        "id": "oW7i2ng23kxX"
      }
    },
    {
      "cell_type": "markdown",
      "source": [
        "#Bivariate Analysis"
      ],
      "metadata": {
        "id": "91jgfXwPtaDG"
      }
    },
    {
      "cell_type": "markdown",
      "source": [
        "**Exploring Potential Investment Opportunities:**\n",
        "\n",
        "In the next section, we will explore how different socio-economic factors correlate with key developmental indicators in developing countries. The goal is to identify prospective areas for impactful monetary investments that can uplift struggling nations.\n",
        "\n",
        "We will conduct analysis to understand the relationships between metrics like healthcare access, educational enrollment, GDP per capita and other attributes.\n",
        "\n",
        "This will reveal how specific issues like infant mortality, life expectancy, and ducational enrollment are tied to underlying economic drivers. These insights can pinpoint high-potential sectors and interventions where targeted financial aid and investments could create significant improvements for developing economies.\n",
        "\n",
        "The end goal is to identify actionable, evidenced-based development initiatives that can maximize outcomes and returns for limited aid dollars. Focusing resources where they can achieve the greatest impact will be key as we explore prospective monetary interventions for uplifting struggling nations worldwide.\n",
        "\n",
        "Based on the correlation analysis, we identified several noteworthy associations between key socio-economic factors and health/education indicators:\n",
        "\n",
        "Life Expectancy exhibits positive correlation with Gross Tertiary Enrollment Rate and Physicians per Thousand.\n",
        "Infant Mortality demonstrates negative correlation with Physicians per Thousand and Minimum Wage.\n",
        "Maternal Mortality Ratio correlates negatively with Minimum Wage and Education Gap.\n",
        "Education Gap has negative correlation with Maternal Mortality but positive linkage to Life Expectancy.\n",
        "To further analyze these relationships, we will create scatter plots between the associated variable pairs. Visualizing the correlations allows us to assess the strength and direction of the associations.\n",
        "\n",
        "We specifically chose to focus on actionable socio-economic factors like minimum wage, healthcare access and education spending. Understanding their linkage to key outcomes like mortality rates and life expectancy can inform policies and interventions to improve these indicators.\n",
        "\n",
        "For example, the correlations suggest investments to increase wages and number of physicians could lower infant and maternal mortality. Closing the education gap also appears tied to longer life expectancy. Plotting these connections provides data-driven insights into high-potential areas where targeted aid could create tangible improvements for developing countries.\n",
        "\n",
        "The visual analysis will augment our understanding of how specific developmental challenges are interlinked with underlying economic and social drivers. This can guide evidence-based investment priorities for donors and policy makers focused on maximizing outcomes for the disadvantaged populations."
      ],
      "metadata": {
        "id": "KmJJXH7NXqWL"
      }
    },
    {
      "cell_type": "code",
      "execution_count": null,
      "metadata": {
        "id": "qA-UVGbJLBTj"
      },
      "outputs": [],
      "source": [
        "%pip install plotly_express==0.4.0\n"
      ]
    },
    {
      "cell_type": "code",
      "execution_count": null,
      "metadata": {
        "id": "hra75jtbQ2Au"
      },
      "outputs": [],
      "source": [
        "def choropleth(data, color, title):\n",
        "\n",
        "    fig = px.choropleth(\n",
        "        data,\n",
        "        locations=\"Country\",\n",
        "        locationmode='country names',\n",
        "        color=color ,\n",
        "        hover_name='Country',\n",
        "        color_continuous_scale=px.colors.sequential.YlOrRd\n",
        "    )\n",
        "\n",
        "    fig.update_layout(\n",
        "        title = title,\n",
        "        geo = dict(showframe = False, showcoastlines=False)\n",
        "    )\n",
        "\n",
        "    return fig\n"
      ]
    },
    {
      "cell_type": "code",
      "source": [
        "def reverse_choropleth(data, color, title):\n",
        "\n",
        "    fig = px.choropleth(\n",
        "        data,\n",
        "        locations=\"Country\",\n",
        "        locationmode='country names',\n",
        "        color=color ,\n",
        "        hover_name='Country',\n",
        "        color_continuous_scale=px.colors.diverging.RdYlGn\n",
        "    )\n",
        "\n",
        "    fig.update_layout(\n",
        "        title = title,\n",
        "        geo = dict(showframe = False, showcoastlines=False)\n",
        "    )\n",
        "\n",
        "    return fig\n"
      ],
      "metadata": {
        "id": "IyWkKnLGvz58"
      },
      "execution_count": null,
      "outputs": []
    },
    {
      "cell_type": "markdown",
      "metadata": {
        "id": "HqpbZv8cJ7bg"
      },
      "source": [
        "**Looking into infant mortality rate**"
      ]
    },
    {
      "cell_type": "markdown",
      "metadata": {
        "id": "u3UL2WfSLCw-"
      },
      "source": [
        "\n",
        "Infant mortality by Country"
      ]
    },
    {
      "cell_type": "code",
      "execution_count": null,
      "metadata": {
        "id": "VCqC0oiyLGXw"
      },
      "outputs": [],
      "source": [
        "fig = choropleth(data,\"Infant mortality\", \"Infant mortality by Country\")\n",
        "fig.show()"
      ]
    },
    {
      "cell_type": "markdown",
      "source": [
        "The highest Infant mortality rates are located mainly in Africa and war struck countries in Asia."
      ],
      "metadata": {
        "id": "81SSZWkKEYdY"
      }
    },
    {
      "cell_type": "markdown",
      "source": [
        "Health rating Vs infant mortality"
      ],
      "metadata": {
        "id": "wPMoe9W5aRFu"
      }
    },
    {
      "cell_type": "code",
      "source": [
        "plt.figure(figsize=(10, 6))\n",
        "sns.boxplot(data=data, x='Health Rating', y='Infant mortality')\n",
        "plt.xlabel('Health Rating')\n",
        "plt.ylabel('Infant mortality')\n",
        "plt.title('Infant mortality by Health Rating')\n",
        "plt.show()"
      ],
      "metadata": {
        "id": "MV-FnBN8aUMr"
      },
      "execution_count": null,
      "outputs": []
    },
    {
      "cell_type": "markdown",
      "source": [
        "Unsuprisingly the general Health state is connected to infant mortality with high infant mortality ratio at rating 1. Further invastigation into health aspects is needed."
      ],
      "metadata": {
        "id": "mAo5K_ZtadrM"
      }
    },
    {
      "cell_type": "markdown",
      "source": [
        "Infant mortality rate VS phsicans per thousand"
      ],
      "metadata": {
        "id": "GvSieG8-E4EH"
      }
    },
    {
      "cell_type": "code",
      "source": [
        "Infant_mortality_rates = data['Infant mortality']\n",
        "Physicians_per_thousand = data['Physicians per thousand']\n",
        "\n",
        "# Create scatter plot\n",
        "plt.figure(figsize=(10, 6))\n",
        "plt.scatter(Infant_mortality_rates, Physicians_per_thousand , alpha=0.7)\n",
        "plt.title('Scatter Plot of Infant mortality rates vs Physicians per thousand')\n",
        "plt.xlabel('Infant_mortality_rates')\n",
        "plt.ylabel('Physicians_per_thousand')\n",
        "plt.grid(True)\n",
        "\n",
        "plt.show()"
      ],
      "metadata": {
        "id": "VwUYcCVqEqOz"
      },
      "execution_count": null,
      "outputs": []
    },
    {
      "cell_type": "markdown",
      "source": [
        "As expected, the scatter plot shows a strong negative correlation between physicians per thousand and infant mortality rate. Countries with higher numbers of physicians per thousand population tend to have lower infant mortality rates.\n",
        "\n",
        "Specifically, the visualization reveals that having at least 1 physician per thousand people is a pivotal threshold. Nearly all countries that have reached this minimum level of 1 physician per 1000 population exhibit infant mortality rates below 20 deaths per 1000 live births.\n",
        "\n",
        "In contrast, countries with physician density below 1 per 1000 people span a wide range of infant mortality rates, mostly exceeding 20 deaths per 1000 live births.\n",
        "\n",
        "This implies that reaching a critical capacity of healthcare professionals is vital for reducing preventable infant deaths. The steep decline in mortality after surpassing 1 physician per 1000 signifies the impact even marginal increments in healthcare access can achieve."
      ],
      "metadata": {
        "id": "9_bCMzU5F9jG"
      }
    },
    {
      "cell_type": "markdown",
      "source": [
        "Infant mortality VS Economy rating"
      ],
      "metadata": {
        "id": "eJSzupPMYEbN"
      }
    },
    {
      "cell_type": "code",
      "source": [
        "plt.figure(figsize=(10, 6))\n",
        "sns.boxplot(data=data, x='Economy Rating', y='Infant mortality')\n",
        "plt.xlabel('Economy Rating')\n",
        "plt.ylabel('Infant mortality')\n",
        "plt.title('Infant mortality by Economy Rating')\n",
        "plt.show()"
      ],
      "metadata": {
        "id": "KJFCT7kxXxnf"
      },
      "execution_count": null,
      "outputs": []
    },
    {
      "cell_type": "markdown",
      "source": [
        "The box plot unsurprisingly reveals that the highest median infant mortality rates assigned to the lowest rating of 1.\n",
        "\n",
        "Within the economy rating 1 bin, the range of infant mortality rates spans slightly above 0 to approximately 50. The median value in this bin is slightly higher than that of the economy rating 2 bin. Most of the infant mortality instances in the economy rating 1 bin are concentrated between an infant mortality rate of 10 and 30.\n",
        "\n",
        "In contrast, the economy rating 2 bin for infant mortality begins lower than the starting point of the economy rating 1 bin and extends up to an infant mortality rate of 80. The majority of countries in this bin experience infant mortality rates between 15 and 60, and the median line for this bin is slightly lower than that of the economy rating 1 bin.\n",
        "\n",
        "It's worth noting that the bins corresponding to economy ratings 3, 4,  have broader ranges than the rating 1 bin, encompassing even higher infant mortality rates. However, their median values are generally lower. The distribution of infant mortality rates in these higher economy rating bins varies in width."
      ],
      "metadata": {
        "id": "Q3pMsVM1Zt12"
      }
    },
    {
      "cell_type": "markdown",
      "source": [
        "Infant mortality vs Minimum wage"
      ],
      "metadata": {
        "id": "e0sJTHgdQ8Yk"
      }
    },
    {
      "cell_type": "code",
      "source": [
        "Infant_mortality_rates = data['Infant mortality']\n",
        "Minimum_wage = data['Minimum wage']\n",
        "\n",
        "# Create scatter plot\n",
        "plt.figure(figsize=(10, 6))\n",
        "plt.scatter(Infant_mortality_rates, Minimum_wage , alpha=0.7)\n",
        "plt.title('Scatter Plot of Infant mortality rates vs Minimum_wage')\n",
        "plt.xlabel('Infant_mortality_rates')\n",
        "plt.ylabel('Minimum_wage')\n",
        "plt.grid(True)\n",
        "\n",
        "plt.show()"
      ],
      "metadata": {
        "id": "X_V1AWMmRHy-"
      },
      "execution_count": null,
      "outputs": []
    },
    {
      "cell_type": "markdown",
      "source": [
        "The scatterplot shows a downward sloping relationship between minimum wage and infant mortality rate, indicating that higher minimum wage is associated with lower infant deaths.\n",
        "\n",
        "However, the correlation is non-linear. There seems to be a threshold effect around 2 dollar per hour minimum wage. Below 2 dollar, infant mortality rates span a wide range up to 90 deaths per 1000 live births. But countries with minimum wage above 2 dollars exhibit infant mortality rates clustered under 40.\n",
        "\n",
        "Crossing the 2 dollar threshold leads to a steep decline in mortality down to around 20 deaths per 1000 live births. However, the downward slope flattens after 4 dollar minimum wage, with diminishing improvements in mortality.\n",
        "\n",
        "Interestingly, countries with minimum wages near 4 dollar deviate upwards from the general trend, with mortality rates around 60 despite the higher pay. Overall, the visualization implies that the 2  dollar and 4 dollar levels represent pivotal milestones for impact on infant health.\n",
        "\n",
        "Targeted aid policies to improve minimum wages, particularly lifting extremely low-wage countries above 2 dollar per hour, could have measurable effects on reducing preventable infant deaths. But the non-linear relationship and diminishing returns above 4 dollar highlight the complexity of this linkage."
      ],
      "metadata": {
        "id": "_Wk_pI8gRa5o"
      }
    },
    {
      "cell_type": "markdown",
      "source": [
        "looking into the deviates countries around the 4 dollars hourly wage:"
      ],
      "metadata": {
        "id": "ij0A5WR59Hgs"
      }
    },
    {
      "cell_type": "code",
      "source": [
        "# Filter data for countries with minimum wage between $3.2 and 3.5\n",
        "filtered_data = data[(data['Minimum wage'] >= 3.2) & (data['Minimum wage'] <= 3.5)]\n",
        "print(filtered_data['Country'])\n",
        "\n",
        "plt.figure(figsize=(10, 6))\n",
        "plt.scatter(filtered_data['Minimum wage'], filtered_data['Infant mortality'], color='blue', alpha=0.7)\n",
        "\n",
        "# Add labels and title\n",
        "plt.xlabel('Minimum Wage ($)')\n",
        "plt.ylabel('Infant Mortality Rate')\n",
        "plt.title('Scatter Plot of Minimum Wage vs Infant Mortality Rate')\n",
        "\n",
        "\n",
        "for i, row in filtered_data.iterrows():\n",
        "    plt.annotate(row['Country'], (row['Minimum wage'], row['Infant mortality']), fontsize=8)\n",
        "\n",
        "\n",
        "plt.grid(True)\n",
        "\n",
        "plt.tight_layout()\n",
        "plt.show()"
      ],
      "metadata": {
        "id": "zPWVO-UJ9XT8"
      },
      "execution_count": null,
      "outputs": []
    },
    {
      "cell_type": "markdown",
      "source": [
        "Looking into the filterd countries GDP per Capita"
      ],
      "metadata": {
        "id": "aLpQHz1M-TM8"
      }
    },
    {
      "cell_type": "code",
      "source": [
        "plt.figure(figsize=(12, 8))\n",
        "plt.bar(filtered_data['Country'], filtered_data['GDP per Capita'])\n",
        "\n",
        "# Add labels and title\n",
        "plt.xlabel('Country')\n",
        "plt.ylabel('GDP per Capita')\n",
        "plt.title('GDP per Capita of Filtered Countries with Minimum Wage $3.3-$3.5')\n",
        "\n",
        "# Rotate x-axis labels for better visibility\n",
        "plt.xticks(rotation=45, ha='right')\n",
        "\n",
        "plt.tight_layout()  # Adjust spacing\n",
        "plt.show()"
      ],
      "metadata": {
        "id": "s94kc7Y3-N98"
      },
      "execution_count": null,
      "outputs": []
    },
    {
      "cell_type": "markdown",
      "source": [
        "GDP per Capita shows is a large vraity in the economic state of the countries that have minimmum wage between 3.5 to 4 dollars."
      ],
      "metadata": {
        "id": "9BLtxNv-_Svl"
      }
    },
    {
      "cell_type": "code",
      "source": [
        "fig = choropleth(filtered_data['Country'],'Country', \"minimum wage between 3.2 to 3.5 by Country\")\n",
        "fig.show()"
      ],
      "metadata": {
        "id": "p8MJAjh__6Jc"
      },
      "execution_count": null,
      "outputs": []
    },
    {
      "cell_type": "markdown",
      "source": [
        "Looking into economic rating for these countries"
      ],
      "metadata": {
        "id": "URA-qgetBozi"
      }
    },
    {
      "cell_type": "code",
      "source": [
        "plt.figure(figsize=(10, 6))\n",
        "sns.boxplot(x='Economy Rating', y='Minimum wage', data=filtered_data, order=[1, 2, 3, 4, 5])\n",
        "\n",
        "# Add title and labels\n",
        "plt.xlabel('Economy Rating')\n",
        "plt.ylabel('Country')\n",
        "plt.title('Economy Rating of Filtered Countries with Minimum Wage $3.5-$4')\n",
        "\n",
        "plt.tight_layout()  # Adjust spacing\n",
        "plt.show()"
      ],
      "metadata": {
        "id": "wqjyoQFjCAib"
      },
      "execution_count": null,
      "outputs": []
    },
    {
      "cell_type": "markdown",
      "source": [
        "Upon further analysis, the countries that deviate from the trend between minimum wage and infant mortality around $3.2 per hour all belong to the third tier economy rating.\n",
        "\n",
        "However, their GDP per capita varies widely from $0 to $8000, and they are geographically dispersed without any regional pattern.This shows that even within the poorest economic category, there are many differences in income levels and local contexts between these countries.\n",
        "Simply belonging to the broad rating 3 bucket does not fully capture the reasons behind their anomalously high infant deaths relative to the minimum wage. There appear to be additional factors that influence infant mortality beyond just monetary wages or the overall economy rating.\n",
        "\n",
        "Therefore, while the visualizations indicate minimum wage matters, solely increasing income may not sufficiently reduce preventable infant deaths in these outlier nations.\n"
      ],
      "metadata": {
        "id": "RUhpP3WUAsW9"
      }
    },
    {
      "cell_type": "markdown",
      "source": [
        "Infant mortality vs Education Gap"
      ],
      "metadata": {
        "id": "vBV5UDEfcCM_"
      }
    },
    {
      "cell_type": "code",
      "source": [
        "Infant_mortality_rates = data['Infant mortality']\n",
        "Education_gap= data['Education Gap']\n",
        "\n",
        "# Create scatter plot\n",
        "plt.figure(figsize=(10, 6))\n",
        "plt.scatter(Infant_mortality_rates, Education_gap , alpha=0.7)\n",
        "plt.title('Scatter Plot of Infant mortality rates vs Unemployment rate')\n",
        "plt.xlabel('Infant mortality rates')\n",
        "plt.ylabel('Education gap')\n",
        "plt.grid(True)\n",
        "\n",
        "plt.show()"
      ],
      "metadata": {
        "id": "4J5kgelya21M"
      },
      "execution_count": null,
      "outputs": []
    },
    {
      "cell_type": "markdown",
      "source": [
        "The scatter plot shows a downward sloping relationship between education gap and infant mortality rate, indicating that countries with a lower difference between primary and tertiary enrollment tend to have lower infant deaths.\n",
        "\n",
        "However, the decline in mortality is non-linear as the education gap reduces. Between a gap of 1.4 to 0.6, there is a slow, gradual improvement in infant mortality, with many countries still experiencing over 60 deaths per 1000 live births despite better enrollment balance.\n",
        "\n",
        "The more substantial gains are seen when education gap drops under 0.6. There is a sharp decrease in mortality, with most countries clustered around 0-20 deaths, and very few outliers.\n",
        "\n",
        "This implies a gap below 0.6 represents a pivotal threshold, where balancing enrollment across school levels correlates strongly with better infant health. The non-linear trend suggests that once past the 0.6 milestone, even marginal improvements in enrollment parity can yield exponential gains.\n",
        "\n",
        "The visualization emphasizes the importance of a holistic education policy focusing on both primary and tertiary access to equitably develop human capital. Aid programs aimed at incentivizing balanced enrollment, rather than maximizing just tertiary education, can potentially contribute greatly to lowering preventable infant deaths."
      ],
      "metadata": {
        "id": "vte24RIKbVo5"
      }
    },
    {
      "cell_type": "markdown",
      "source": [
        "Infant mortality VS Gross tertiary education enrollment (%)"
      ],
      "metadata": {
        "id": "LPXlX_RydTBX"
      }
    },
    {
      "cell_type": "code",
      "source": [
        "Infant_mortality_rates = data['Infant mortality']\n",
        "teritary_education_enrollment= data['Gross tertiary education enrollment (%)']\n",
        "\n",
        "# Create scatter plot\n",
        "plt.figure(figsize=(10, 6))\n",
        "plt.scatter(Infant_mortality_rates, teritary_education_enrollment , alpha=0.7)\n",
        "plt.title('Scatter Plot of Infant mortality rates vs Gross teritary education enrollment (%)')\n",
        "plt.xlabel('Infant mortality rates')\n",
        "plt.ylabel('Teritary education enrollment')\n",
        "plt.grid(True)\n",
        "\n",
        "plt.show()"
      ],
      "metadata": {
        "id": "ii3mSKgbdY6o"
      },
      "execution_count": null,
      "outputs": []
    },
    {
      "cell_type": "markdown",
      "source": [
        "The scatter plot shows a clear negative correlation between gross tertiary enrollment rate and infant mortality rate. Countries with higher tertiary education enrollment tend to have lower infant deaths.\n",
        "\n",
        "Specifically, the visualization reveals a key inflection point at around 20% gross tertiary enrollment. Countries that have exceeded this 20% enrollment milestone mostly demonstrate infant mortality rates under 40 deaths per 1000 live births.\n",
        "\n",
        "In contrast, countries with tertiary enrollment below 20% have highly variable mortality rates extending beyond 60 deaths per 1000 births.\n",
        "\n",
        "As tertiary enrollment increases past 20%, infant mortality declines steadily for most nations. There are few major outliers to this trend.\n",
        "\n",
        "This signifies that achieving a critical mass of tertiary education participation is pivotal for reducing preventable infant deaths. Crossing the 20% enrollment threshold seems to be strongly associated with better socio-economic conditions that improve infant health and survival.\n",
        "\n",
        "The negative slope beyond 20% implies that even marginal improvements in tertiary access could yield compounding gains. Policies to increase post-secondary attainment should be a priority for countries struggling with high infant mortality."
      ],
      "metadata": {
        "id": "zgPnEl53doJq"
      }
    },
    {
      "cell_type": "markdown",
      "source": [
        "**Insight:**"
      ],
      "metadata": {
        "id": "VvcfHPBDejXx"
      }
    },
    {
      "cell_type": "markdown",
      "source": [
        "Targeted investments in healthcare access, minimum wages, education enrollment could significantly lower mortality.\n"
      ],
      "metadata": {
        "id": "YEUiMhuLWzbQ"
      }
    },
    {
      "cell_type": "markdown",
      "source": [
        "**Maternal mortality ratio**"
      ],
      "metadata": {
        "id": "OzwXQi_EXhp-"
      }
    },
    {
      "cell_type": "code",
      "execution_count": null,
      "metadata": {
        "id": "MSelloTrDqs-"
      },
      "outputs": [],
      "source": [
        "fig = choropleth(data,\"Maternal mortality ratio\", \"Maternal mortality ratio by Country\")\n",
        "fig.show()"
      ]
    },
    {
      "cell_type": "markdown",
      "metadata": {
        "id": "fKCRoWvbG5-3"
      },
      "source": [
        "most of the high maternal mortality ratio is located in Africa."
      ]
    },
    {
      "cell_type": "markdown",
      "source": [
        "Maternal mortality ratio vs Health rating"
      ],
      "metadata": {
        "id": "iE__kIDefLuR"
      }
    },
    {
      "cell_type": "code",
      "source": [
        "plt.figure(figsize=(10, 6))\n",
        "sns.boxplot(data=data, x='Health Rating', y='Maternal mortality ratio')\n",
        "plt.xlabel('Health Rating')\n",
        "plt.ylabel('Maternal mortality ratio')\n",
        "plt.title('Maternal mortality ratio by Health Rating')\n",
        "plt.show()"
      ],
      "metadata": {
        "id": "Y_iNHT3kfGHe"
      },
      "execution_count": null,
      "outputs": []
    },
    {
      "cell_type": "markdown",
      "source": [
        "As expected, the box plot shows that countries with the worst health rating (rating 1) have the highest median maternal mortality ratios.\n",
        "\n",
        "This aligns with the assumption that countries with inadequate healthcare systems and poor health conditions (rating 1) will also have elevated risks of women dying from complications of pregnancy or childbirth.\n",
        "\n",
        "The visualization reveals there is substantial separation in the median maternal mortality ratio when moving from health rating 1 to 2. However, the difference narrows between other adjacent ratings.\n",
        "\n",
        "Additionally, health rating 1 has a small sample size with high variance. But the overall trend is still visible - worse health ratings are associated with exponentially higher maternal mortality.\n",
        "\n",
        "In summary, the maternal mortality disparities seen in the box plot confirm the expected linkage between deficiencies in overall population health systems and risks for expectant mothers. Improving fundamental healthcare availability could significantly curb maternal deaths."
      ],
      "metadata": {
        "id": "SOKBFT34gnTx"
      }
    },
    {
      "cell_type": "markdown",
      "source": [
        "Maternal mortality rate vs Physicians per thousand"
      ],
      "metadata": {
        "id": "sSX5FR13hu8u"
      }
    },
    {
      "cell_type": "code",
      "source": [
        "Maternal_mortality_rate = data['Maternal mortality ratio']\n",
        "Physicians_per_thousand= data['Physicians per thousand']\n",
        "\n",
        "# Create scatter plot\n",
        "plt.figure(figsize=(10, 6))\n",
        "plt.scatter( Maternal_mortality_rate, Physicians_per_thousand , alpha=0.7)\n",
        "plt.title('Scatter Plot of Maternal mortality rate vs Physicians per thousand')\n",
        "plt.xlabel('Maternal mortality rate')\n",
        "plt.ylabel('Physicians per thousand')\n",
        "plt.grid(True)\n",
        "\n",
        "plt.show()"
      ],
      "metadata": {
        "id": "33QMLceIidlR"
      },
      "execution_count": null,
      "outputs": []
    },
    {
      "cell_type": "markdown",
      "source": [
        "As hypothesized, the scatter plot shows a clear negative correlation between number of physicians per thousand population and maternal mortality ratio. Countries with more physicians per capita tend to have substantially lower maternal deaths.\n",
        "\n",
        "Specifically, the visualization reveals that having just 1 physician for every 1000 people represents a major threshold. Nations below this 1 physician per 1000 population mark exhibit highly variable maternal mortality, spanning up to over 500 deaths per 100,000 live births.\n",
        "\n",
        "However, countries that have exceeded the 1 physician per 1000 milestone almost universally demonstrate maternal mortality ratios below 200 deaths per 100,000 births. There is only one outlier close to 200.\n",
        "\n",
        "Further, increasing physician density above 1 per 1000 is associated with a sharp decline in mortality approaching near zero, especially as it reaches 3 physicians per 1000 people.\n",
        "\n",
        "This signifies the critical impact even marginal improvements in healthcare professional availability can achieve. Crossing the 1 physician threshold seems to be a pivotal precursor enabling the drastic reductions in maternal mortality seen at higher access levels.\n",
        "\n",
        "In summary, the scatter plot's negative slope and inflection point strongly emphasize healthcare workforce capacity as a key driver of preventable maternal deaths. Policy initiatives to add even 1 more physician per 1000 could save thousands of mothers' lives."
      ],
      "metadata": {
        "id": "rLmdm6lrjb2X"
      }
    },
    {
      "cell_type": "markdown",
      "source": [
        "Econommic rating vs maternal mortality ratio"
      ],
      "metadata": {
        "id": "casLfPlFlOiy"
      }
    },
    {
      "cell_type": "code",
      "source": [
        "plt.figure(figsize=(10, 6))\n",
        "sns.boxplot(data=data, x='Economy Rating', y='Maternal mortality ratio')\n",
        "plt.xlabel('Economic Rating')\n",
        "plt.ylabel('Maternal mortality ratio')\n",
        "plt.title('Maternal mortality ratio by Economic rating')\n",
        "plt.show()"
      ],
      "metadata": {
        "id": "SQW_C-S8lZy8"
      },
      "execution_count": null,
      "outputs": []
    },
    {
      "cell_type": "markdown",
      "source": [
        "The maternal mortality box plot visualizes the relationship between the economy ratings and maternal mortality ratio for various countries. The plot provides insights into how the maternal mortality ratio varies across different economy ratings.\n",
        "\n",
        "For countries with an economy rating of 1, the maternal mortality ratio ranges from around 0 to nearly 600. This indicates that countries with the lowest economy rating have a wide variability in maternal mortality, with some countries experiencing relatively low maternal mortality rates, while others have higher rates.\n",
        "\n",
        "In the case of countries with an economy rating of 2, the maternal mortality ratio spans from approximately 0 to 800. However, the majority of countries within this economy rating range exhibit maternal mortality ratios between 100 and 400. This suggests that while some countries within this rating experience relatively lower maternal mortality rates, there are also countries with significantly higher rates, leading to an elevated median value.\n",
        "\n",
        "Overall, the maternal mortality box plot sheds light on the varying levels of maternal mortality in relation to different economy ratings. It highlights the disparities between countries with lower economy ratings, where maternal mortality can be quite diverse, and those with a rating of 1, where the median maternal mortality ratio is comparatively higher, influenced by countries experiencing both low and high maternal mortality rates."
      ],
      "metadata": {
        "id": "sAhMlscLlT2U"
      }
    },
    {
      "cell_type": "markdown",
      "source": [
        "Maternal mortality ratio vs Minimum Wage"
      ],
      "metadata": {
        "id": "p8qH6_w8qTQu"
      }
    },
    {
      "cell_type": "code",
      "source": [
        "Maternal_mortality_rate = data['Maternal mortality ratio']\n",
        "minimum_Wage= data['Minimum wage']\n",
        "\n",
        "# Create scatter plot\n",
        "plt.figure(figsize=(10, 6))\n",
        "plt.scatter( Maternal_mortality_rate, minimum_Wage, alpha=0.7)\n",
        "plt.title('Scatter Plot of Maternal mortality rate vs Minimum wage')\n",
        "plt.xlabel('Maternal mortality rate')\n",
        "plt.ylabel('Minimum wage')\n",
        "plt.grid(True)\n",
        "\n",
        "plt.show()"
      ],
      "metadata": {
        "id": "eNcVgKcKqdq_"
      },
      "execution_count": null,
      "outputs": []
    },
    {
      "cell_type": "markdown",
      "source": [
        "The scatter plot shows a downward relationship between minimum wage and maternal mortality, with the sharpest decline when minimum wage rises above $2 per hour. This signifies 2  dollsr per hour as a pivotal threshold enabling socio-economic upliftment to lower pregnancy risks.\n",
        "\n",
        "However, there is an outlier cluster around 4 dollar per hour minimum wage where high maternal mortality persists. Further analysis found these countries all belong to the poorest economic tier but have varying GDP per capita and geographic contexts.\n",
        "\n",
        "This highlights that while minimum wage correlates to maternal health on average, the broad economy rating metric obscures important localized differences between these outlier nations. There appear to be additional cultural, infrastructure and healthcare access factors influencing high maternal deaths above just income levels.\n",
        "\n",
        "Therefore, while the overall trend shows the potential of minimum wage to reduce mortality, solely increasing pay without addressing underlying drivers may be insufficient in these specific high-risk countries. Nuanced, contextual investigation is required to unpack why higher wages have not translated to better maternal outcomes in the outliers.\n",
        "\n"
      ],
      "metadata": {
        "id": "BH7bsF7Rq9IL"
      }
    },
    {
      "cell_type": "markdown",
      "source": [
        "matermal mortality ratio VS Education Gap"
      ],
      "metadata": {
        "id": "w3vxph5ZtGvZ"
      }
    },
    {
      "cell_type": "code",
      "source": [
        "Maternal_mortality_rate = data['Maternal mortality ratio']\n",
        "Education_Gap= data['Education Gap']\n",
        "\n",
        "# Create scatter plot\n",
        "plt.figure(figsize=(10, 6))\n",
        "plt.scatter( Maternal_mortality_rate, Education_Gap, alpha=0.7)\n",
        "plt.title('Scatter Plot of Maternal mortality rate vs Education gap')\n",
        "plt.xlabel('Maternal mortality rate')\n",
        "plt.ylabel('Education_Gap')\n",
        "plt.grid(True)\n",
        "\n",
        "plt.show()"
      ],
      "metadata": {
        "id": "1qwoA5KntOco"
      },
      "execution_count": null,
      "outputs": []
    },
    {
      "cell_type": "markdown",
      "source": [
        "Similar to infant mortality, the scatter plot shows a downward sloping relationship between education gap and maternal mortality ratio. Countries with a smaller difference between primary and tertiary enrollment tend to have lower maternal deaths.\n",
        "\n",
        "The decline in maternal mortality is gradual as the education gap reduces from 1.4 to 0.6. Many countries remain above 200 deaths per 100,000 births despite improving enrollment parity.\n",
        "\n",
        "The sharper gains are seen when the education gap drops below 0.6. There is a steep decrease in maternal mortality, with most countries clustered under 200 deaths and minimal outliers above this level.\n",
        "\n",
        "This indicates that reaching an education gap below 0.6 represents a key threshold. Attaining enrollment balance across school levels seems strongly associated with better socio-economic conditions that lower pregnancy-related risks.\n",
        "\n",
        "The nonlinear trend suggests marginal improvements under 0.6 gap can yield exponential impact. Policies aimed at incentivizing equitable access to primary and tertiary education could potentially contribute greatly to saving mothers' lives."
      ],
      "metadata": {
        "id": "IbZyqJZ6taSm"
      }
    },
    {
      "cell_type": "markdown",
      "source": [
        "Maternal mortality ratio VS Gross tertiary education enrollment (%)"
      ],
      "metadata": {
        "id": "HMrG3AtWuEBe"
      }
    },
    {
      "cell_type": "code",
      "source": [
        "Maternal_mortality_rate = data['Maternal mortality ratio']\n",
        "tertiary_education_enrollment= data['Gross tertiary education enrollment (%)']\n",
        "\n",
        "# Create scatter plot\n",
        "plt.figure(figsize=(10, 6))\n",
        "plt.scatter( Maternal_mortality_rate, tertiary_education_enrollment, alpha=0.7)\n",
        "plt.title('Scatter Plot of Maternal mortality rate vs Tertiary education enrollment')\n",
        "plt.xlabel('Maternal_mortality_rate')\n",
        "plt.ylabel('tertiary_education_enrollment')\n",
        "plt.grid(True)\n",
        "\n",
        "plt.show()"
      ],
      "metadata": {
        "id": "thPRcOeUuJFE"
      },
      "execution_count": null,
      "outputs": []
    },
    {
      "cell_type": "markdown",
      "source": [
        "The scatter plot shows a clear negative relationship between gross tertiary enrollment rate and maternal mortality ratio. Countries with higher tertiary education participation tend to have substantially lower maternal deaths.\n",
        "\n",
        "Specifically, the visualization reveals that surpassing 20% tertiary enrollment represents a major milestone. Nations that have crossed this 20% threshold of post-secondary attainment almost universally demonstrate maternal mortality ratios under 200 deaths per 100,000 births.\n",
        "\n",
        "In contrast, countries below 20% tertiary enrollment exhibit highly variable maternal mortality spanning up to 500 deaths per 100,000 live births.\n",
        "\n",
        "This signifies that achieving a critical mass of 20% tertiary enrollment is a pivotal precursor to reducing preventable maternal fatalities. The level of socio-economic development reflected in post-secondary access appears strongly linked to better health infrastructure and conditions for expectant mothers.\n",
        "\n",
        "Furthermore, the downward slope beyond 20% tertiary enrollment implies that even incremental improvements can have an exponential impact in lowering risks during pregnancy and childbirth.\n",
        "\n",
        "In summary, the scatter plot provides compelling visual evidence for the importance of policies to expand tertiary education availability as a route to preventing avoidable maternal deaths and uplifting public health."
      ],
      "metadata": {
        "id": "txy52VXwuUS4"
      }
    },
    {
      "cell_type": "markdown",
      "source": [
        "**Insight:**"
      ],
      "metadata": {
        "id": "cd-j-SeMusAD"
      }
    },
    {
      "cell_type": "markdown",
      "source": [
        "Targeted investments in physicians, minimum pay, education access and parity could significantly improve maternal outcomes.\n"
      ],
      "metadata": {
        "id": "MAY-OFxtuuvo"
      }
    },
    {
      "cell_type": "markdown",
      "source": [
        "**Looking into Life expectancy**"
      ],
      "metadata": {
        "id": "y7canaBqvJ4w"
      }
    },
    {
      "cell_type": "code",
      "execution_count": null,
      "metadata": {
        "id": "TsjacKVlG7Ah"
      },
      "outputs": [],
      "source": [
        "fig = reverse_choropleth(data,\"Life expectancy\", \"Life expectancy by Country\")\n",
        "fig.show()"
      ]
    },
    {
      "cell_type": "markdown",
      "source": [
        "The countries with the worst life expectancy are centerd in Afica"
      ],
      "metadata": {
        "id": "SdRaNo-Zxmrb"
      }
    },
    {
      "cell_type": "markdown",
      "source": [
        "Life expectancy vs Health Rating"
      ],
      "metadata": {
        "id": "-uDPeNkgyDdY"
      }
    },
    {
      "cell_type": "code",
      "source": [
        "plt.figure(figsize=(10, 6))\n",
        "sns.boxplot(data=data, x='Health Rating', y='Life expectancy')\n",
        "plt.xlabel('Health Rating')\n",
        "plt.ylabel('Life expectancy')\n",
        "plt.title('Life expectancy by Health Rating')\n",
        "plt.show()"
      ],
      "metadata": {
        "id": "FuYTdtCCyPRi"
      },
      "execution_count": null,
      "outputs": []
    },
    {
      "cell_type": "markdown",
      "source": [
        "As expected, the box plot shows that countries with the worst overall health rating (rating 1) have the lowest median life expectancy.\n",
        "\n",
        "This aligns with the assumption that countries with inadequate healthcare systems and poor health conditions would also have lower longevity among their citizens.\n",
        "\n",
        "The visualization reveals a substantial separation in median life expectancy between health rating 1 compared to other adjacent ratings.\n",
        "\n",
        "Additionally, health rating 1 has high variance. But the downward trend is still evident - worse health ratings correlate with exponentially lower life expectancy in the population.the considerable difference between tiers 1 and 2 highlights the impact of basic healthcare access and infrastructure in premature mortality.\n",
        "\n",
        "In summary, the life expectancy disparities in the box plot confirm the expected relationship between population health deficiencies and shorter lifespans. Improving fundamental healthcare availability could significantly increase survival rates."
      ],
      "metadata": {
        "id": "lCgKLpbZybJX"
      }
    },
    {
      "cell_type": "markdown",
      "source": [
        "Life expectancy vs Physicians per thousand"
      ],
      "metadata": {
        "id": "KFwZc073y8VN"
      }
    },
    {
      "cell_type": "code",
      "source": [
        "Life_expectancy = data['Life expectancy']\n",
        "Physicians_per_thousand= data['Physicians per thousand']\n",
        "\n",
        "# Create scatter plot\n",
        "plt.figure(figsize=(10, 6))\n",
        "plt.scatter( Life_expectancy, Physicians_per_thousand, alpha=0.7)\n",
        "plt.title('Scatter Plot of Life expectancy vs Physicians per thousand')\n",
        "plt.xlabel('Life_expectancy')\n",
        "plt.ylabel('Physicians_per_thousand')\n",
        "plt.grid(True)\n",
        "\n",
        "plt.show()"
      ],
      "metadata": {
        "id": "d8mtpj4bzBd0"
      },
      "execution_count": null,
      "outputs": []
    },
    {
      "cell_type": "markdown",
      "source": [
        "The scatter plot reveals interesting patterns in life expectancy linked to physicians per thousand population.\n",
        "\n",
        "Countries with extremely low physician density around 0 per 1000 people have highly variable life expectancies ranging from 45 to 75 years. This signifies the unpredictability of longevity in contexts of severely inadequate healthcare.\n",
        "\n",
        "As physician availability approaches 1 per 1000, the minimum life expectancy shifts higher to around 65 years. Crossing the 1 physician threshold seems associated with greater consistency in survival rates.\n",
        "\n",
        "Further, increasing physician rate beyond 1 per 1000 is correlated with steadily rising life expectancy. Nations with over 2 physicians per 1000 population almost all achieve longevity between 70 to 85 years, with minimal outliers.\n",
        "\n",
        "This suggests that while the 1 physician level enables stability, greater healthcare workforce capacity provides additional gains in citizens' survival rates. Even incremental additions beyond 1 physician appear linked to compounding longevity improvements.\n",
        "\n",
        "Overall, the visualization indicates physicians per thousand as a crucial driver of population health. It highlights the dramatic shifts achievable through targeted policies to build healthcare human capital, especially in underserved regions currently near 0 access."
      ],
      "metadata": {
        "id": "8d7Eg9pdzx9A"
      }
    },
    {
      "cell_type": "markdown",
      "source": [
        "Life expctancy vs Economy rating"
      ],
      "metadata": {
        "id": "svx-gBV60ssu"
      }
    },
    {
      "cell_type": "code",
      "source": [
        "plt.figure(figsize=(10, 6))\n",
        "sns.boxplot(data=data, x='Economy Rating', y='Life expectancy')\n",
        "plt.xlabel('Economy Rating')\n",
        "plt.ylabel('Life expectancy')\n",
        "plt.title('Life expectancy by Economy Rating')\n",
        "plt.show()"
      ],
      "metadata": {
        "id": "KtjiuYRx03vM"
      },
      "execution_count": null,
      "outputs": []
    },
    {
      "cell_type": "markdown",
      "source": [
        "Suprisingly,Economy rating 2 has the lowest median life expectancy. However, it has a wide spread from 55 to almost 80 years.\n",
        "Rating 1's median is slightly higher than 2, and ranges from above 60 to above 75 years.\n",
        "Ratings 3 and 4 have lower minimum values than rating 1. But their maximum end extends higher into the 80s.\n",
        "The medians for ratings 3 and 4 are also progressively higher than tiers 1 and 2.\n",
        "This shows that while the medians indicate a upward trend, the spreads within each rating overlap substantially. Many of the same longevity outcomes are seen across multiple economy tiers.\n",
        "\n",
        "The wide, overlapping ranges imply factors beyond macroeconomic rating influence life expectancy .\n",
        "\n",
        "In summary, analyzing the distribution rather than just median shows that simple economy rating brackets inadequately capture variations in longevity. The complex, multivariate nature of life expectancy is evident in the broad spreads across income groups. A nuanced approach looking at specific national and regional contexts will be essential."
      ],
      "metadata": {
        "id": "RfO9afXc1HFj"
      }
    },
    {
      "cell_type": "markdown",
      "source": [
        "Minimum wage Vs life expectancy"
      ],
      "metadata": {
        "id": "HNFCyngQ5kP6"
      }
    },
    {
      "cell_type": "code",
      "source": [
        "Life_expectancy = data['Life expectancy']\n",
        "Minimum_wage= data['Minimum wage']\n",
        "\n",
        "# Create scatter plot\n",
        "plt.figure(figsize=(10, 6))\n",
        "plt.scatter(Life_expectancy, Minimum_wage , alpha=0.7)\n",
        "plt.title('Scatter Plot of Life expectancy vs  Minimum wage')\n",
        "plt.xlabel('Life Expectancy')\n",
        "plt.ylabel('Minimum wage')\n",
        "plt.grid(True)\n",
        "\n",
        "plt.show()"
      ],
      "metadata": {
        "id": "7mbJPrFc5ns7"
      },
      "execution_count": null,
      "outputs": []
    },
    {
      "cell_type": "markdown",
      "source": [
        "Below the 2 dollars minimum wage threshold, the range of life expectancy spans from 45 to 80 years. Beyond this threshold, a general positive correlation emerges between minimum wage and life expectancy. Notably, an exception is observed at the 3.2 dollars minimum wage mark, where a divergence occurs. Several countries continue the upward trajectory, indicating a positive relationship between minimum wage and life expectancy. However, a cluster of countries experiences a substantially low life expectancy, with the lowest hovering around 60 years.\n",
        "\n",
        "A prior examination of these countries with minimum wage policies reveals that despite all falling within the economic rating 1 bin, their GDP per capita and geographical characteristics vary significantly. This underscores that while minimum wage does correlate positively with life expectancy, its impact is intricate and does not guarantee an unequivocal improvement in life expectancy."
      ],
      "metadata": {
        "id": "_yVwbGw_6gNX"
      }
    },
    {
      "cell_type": "markdown",
      "source": [
        "Education Gap VS life expectancy"
      ],
      "metadata": {
        "id": "pQd21QzW8k1R"
      }
    },
    {
      "cell_type": "code",
      "source": [
        "Life_expectancy = data['Life expectancy']\n",
        "Education_Gap = data['Education Gap']\n",
        "\n",
        "# Create scatter plot\n",
        "plt.figure(figsize=(10, 6))\n",
        "plt.scatter(Life_expectancy, Education_Gap , alpha=0.7)\n",
        "plt.title('Scatter Plot of Life expectancy vs  Education Gap')\n",
        "plt.xlabel('Life Expectancy')\n",
        "plt.ylabel('Education Gap')\n",
        "plt.grid(True)\n",
        "\n",
        "plt.show()"
      ],
      "metadata": {
        "id": "P0QxTPEL8poO"
      },
      "execution_count": null,
      "outputs": []
    },
    {
      "cell_type": "markdown",
      "source": [
        "Education Gap exhibits a negative correlation with Life expectancy: as the Education Gap decreases, Life expectancy tends to increase. However, this relationship is less pronounced compared to its associations with infant mortality rate or maternal mortality rate. When the Education Gap exceeds 0.6, the data points for Life expectancy span from 45 to nearly 85 years. Conversely, with an Education Gap below 0.6, the range narrows but remains substantial, ranging from approximately 70 to nearly 85 years of age."
      ],
      "metadata": {
        "id": "fmMxiFuq88Ry"
      }
    },
    {
      "cell_type": "markdown",
      "source": [
        "Gross tertiary education enrollment (%) VS expectancy"
      ],
      "metadata": {
        "id": "JCQwShZv9XJl"
      }
    },
    {
      "cell_type": "code",
      "source": [
        "Life_expectancy = data['Life expectancy']\n",
        "tertiary_education_enrollment= data['Gross tertiary education enrollment (%)']\n",
        "\n",
        "# Create scatter plot\n",
        "plt.figure(figsize=(10, 6))\n",
        "plt.scatter(Life_expectancy, tertiary_education_enrollment  , alpha=0.7)\n",
        "plt.title('Scatter Plot of Life expectancy vs Gross tertiary education enrollment (%) ')\n",
        "plt.xlabel('Life Expectancy')\n",
        "plt.ylabel('Gross tertiary education enrollment (%) ')\n",
        "plt.grid(True)\n",
        "\n",
        "plt.show()"
      ],
      "metadata": {
        "id": "hF2iTB6P-8ct"
      },
      "execution_count": null,
      "outputs": []
    },
    {
      "cell_type": "markdown",
      "source": [
        "Gross tertiary education enrollment (%) exerts a positive influence on life expectancy, particularly when the threshold of 0.2 is surpassed. Prior to reaching this threshold, life expectancy ranges from 45 to nearly 85 years. However, once tertiary enrollment surpasses 0.2, the life expectancy range narrows, spanning from almost 70 to 85 years."
      ],
      "metadata": {
        "id": "KQTCruPu_F0j"
      }
    },
    {
      "cell_type": "markdown",
      "source": [
        "**Insight:**"
      ],
      "metadata": {
        "id": "NXz59bq8_VFY"
      }
    },
    {
      "cell_type": "markdown",
      "source": [
        "Life expectancy, Matnal mortality ratio, and infant mortality rate the three health aspect we wanted to tackle are impacted by the same aspects: Physicans per thousand, Minimum wage, Education gap and Gross tertiary education enrollment (%). These are good news for investors because choosing to fanincial aid one of these aspects will impact all of the burnung health issues."
      ],
      "metadata": {
        "id": "eHb8qX_6_X3-"
      }
    },
    {
      "cell_type": "markdown",
      "source": [
        "**Looking into Education**"
      ],
      "metadata": {
        "id": "kuGIUmb_ASPO"
      }
    },
    {
      "cell_type": "markdown",
      "source": [
        "**Education gap**"
      ],
      "metadata": {
        "id": "MeQNae2RAViR"
      }
    },
    {
      "cell_type": "code",
      "source": [
        "fig = choropleth(data,\"Education Gap\", \"Education Gap by Country\")\n",
        "fig.show()"
      ],
      "metadata": {
        "id": "DW-vZ3vlHk_N"
      },
      "execution_count": null,
      "outputs": []
    },
    {
      "cell_type": "markdown",
      "source": [
        "High Education Gap is prevlant in Africa, India, Afgahnistan,Estrean Asia and large parts of South America."
      ],
      "metadata": {
        "id": "MhO29kjgH28z"
      }
    },
    {
      "cell_type": "markdown",
      "source": [
        "Education Gap by economy rating"
      ],
      "metadata": {
        "id": "sj6BC6TzHmTw"
      }
    },
    {
      "cell_type": "code",
      "source": [
        "plt.figure(figsize=(10, 6))\n",
        "sns.boxplot(data=data, x='Economy Rating', y='Education Gap')\n",
        "plt.xlabel('Economy Rating')\n",
        "plt.ylabel('Education Gap')\n",
        "plt.title('Education Gap by Economy Rating')\n",
        "plt.show()"
      ],
      "metadata": {
        "id": "_WvpfBr5uDJR"
      },
      "execution_count": null,
      "outputs": []
    },
    {
      "cell_type": "markdown",
      "source": [
        "Among the box plots, the one with the highest median for Education Gap corresponds to economic rating 2. Additionally, economic rating 2 exhibits the highest lower whisker point (excluding outliers), along with a relatively taller median range compared to other economic rating box plots. Intriguingly, economic rating 4 showcases the highest upper whisker range for Education Gap, yet it also features the lowest minimum value within its range."
      ],
      "metadata": {
        "id": "7l6krp529J_x"
      }
    },
    {
      "cell_type": "markdown",
      "metadata": {
        "id": "5NTgH_8TKFf3"
      },
      "source": [
        "Stacked Bar Plot of Education Gap decounstracted"
      ]
    },
    {
      "cell_type": "code",
      "execution_count": null,
      "metadata": {
        "id": "pQMgRCzxKZiO"
      },
      "outputs": [],
      "source": [
        "lowest_primary = data.nsmallest(5, 'Gross primary education enrollment (%)')\n",
        "lowest_tertiary = data.nsmallest(5, 'Gross tertiary education enrollment (%)')\n",
        "\n",
        "lowest_education = pd.concat([lowest_primary, lowest_tertiary])\n",
        "\n",
        "ax = lowest_education[['Gross primary education enrollment (%)', 'Gross tertiary education enrollment (%)']].plot(kind='barh', stacked=True, figsize=(10, 6))\n",
        "\n",
        "ax.set_yticklabels(lowest_education['Country'])\n",
        "\n",
        "for index, row in lowest_education.iterrows():\n",
        "    primary_percent = row['Gross primary education enrollment (%)']\n",
        "    tertiary_percent = row['Gross tertiary education enrollment (%)']\n",
        "    ax.annotate(f'Primary: {primary_percent:.2f}%', (primary_percent / 2, index), ha='center', va='center', color='white')\n",
        "    ax.annotate(f'Tertiary: {tertiary_percent:.2f}%', (primary_percent + tertiary_percent / 2, index), ha='center', va='center', color='black')\n",
        "\n",
        "ax.set_xlabel('Enrollment (%)')\n",
        "ax.set_ylabel('Country')\n",
        "ax.set_title('Education Gap decounstracted ')\n",
        "\n",
        "plt.gca().invert_yaxis()\n",
        "\n",
        "plt.show()\n"
      ]
    },
    {
      "cell_type": "markdown",
      "source": [
        "The education gap metric measures the difference between primary and tertiary enrollment rates. As the analysis showed, it does not exhibit strong correlation with other developmental indicators.\n",
        "\n",
        "By definition, education gap assumes reasonably high primary access, only assessing disparity versus tertiary levels. However, broader enrollment deficits including lagging primary attainment are more prevalent in poorer nations.\n",
        "\n",
        "The gap also overlooks quality differences in education. A high gap may just signify expanded tertiary capacity in a country with mediocre primary schooling.\n",
        "\n",
        "Instead, gross tertiary enrollment on its own better captures overall post-secondary participation levels. Low tertiary enrollment incorporates contexts of both limited tertiary and primary access since the latter restricts the pool eligible for higher education.\n",
        "\n",
        "Additionally, tertiary enrollment showed higher correlation with factors like life expectancy, maternal mortality etc. - relationships the gap metric did not reveal.\n",
        "\n",
        "In summary, while education gap provides a perspective on imbalances, gross tertiary enrollment appears more insightful for assessing developmental outcomes. Focusing exploratory analysis on the latter can better inform policies aimed at raising post-secondary attainment, especially in lower income regions."
      ],
      "metadata": {
        "id": "Aoe2XqPAOt5e"
      }
    },
    {
      "cell_type": "markdown",
      "metadata": {
        "id": "YUXjxt7CKIo9"
      },
      "source": [
        "Gross tertiary education enrollment (%) by Country"
      ]
    },
    {
      "cell_type": "code",
      "execution_count": null,
      "metadata": {
        "id": "bpPB62qwKJKZ"
      },
      "outputs": [],
      "source": [
        "fig = reverse_choropleth(data,\"Gross tertiary education enrollment (%)\", \"Gross tertiary education enrollment (%) by Country\")\n",
        "fig.show()"
      ]
    },
    {
      "cell_type": "markdown",
      "source": [
        "Economic rating ant tertiary education"
      ],
      "metadata": {
        "id": "sed5FjQg35E_"
      }
    },
    {
      "cell_type": "code",
      "source": [
        "plt.figure(figsize=(10, 6))\n",
        "sns.boxplot(data=data, x='Economy Rating', y='Gross tertiary education enrollment (%)')\n",
        "plt.xlabel('Economy Rating')\n",
        "plt.ylabel('Gross tertiary education enrollment (%)')\n",
        "plt.title('Gross tertiary education enrollment (%) by Economy Rating')\n",
        "plt.show()"
      ],
      "metadata": {
        "id": "KeAq1w_235lL"
      },
      "execution_count": null,
      "outputs": []
    },
    {
      "cell_type": "markdown",
      "source": [
        "The box plot reveals a surprising trend - countries with economy rating 2 have the lowest median tertiary enrollment rate, not those with the poorest rating of 1.\n",
        "\n",
        "Rating 2 also has a very narrow range, between 0-0.4, with most countries clustered tightly between 0.1-0.2 tertiary enrollment.\n",
        "\n",
        "In contrast, rating 1 countries have a slightly higher median enrollment. More notably, rating 1 has a wider spread of values from 0 to 0.4, with most between 0-0.3.\n",
        "\n",
        "This signifies rating 1 countries are more heterogeneous, with some performing comparable to wealthier tiers in higher education access, despite overall poorer economic conditions.\n",
        "\n",
        "The tight, low range for rating 2 implies specific constraints exist in these marginally better-off economies that restrict tertiary participation. Merely having a slightly higher income level has not expanded higher education capacity.\n",
        "\n",
        "In summary, the unintuitive trends and distributions highlight the disconnect between broad economic ranking and education outcomes. The misleadingly low ranking 2 median questions narratives based on GDP alone. More qualitative, contextual analysis is essential to uncover tertiary education barriers."
      ],
      "metadata": {
        "id": "Ycr9y-1n4HI5"
      }
    },
    {
      "cell_type": "markdown",
      "source": [
        "tertiary education Vs physicians per thousand"
      ],
      "metadata": {
        "id": "SzudQde3VHFi"
      }
    },
    {
      "cell_type": "code",
      "source": [
        "tertiary_education_enrollment = data['Gross tertiary education enrollment (%)']\n",
        "Physicians= data['Physicians per thousand']\n",
        "\n",
        "# Create scatter plot\n",
        "plt.figure(figsize=(10, 6))\n",
        "plt.scatter(tertiary_education_enrollment,Physicians , alpha=0.7)\n",
        "plt.title('Scatter Plot of Gross tertiary education enrollment (%) vs Physicians per thousand')\n",
        "plt.xlabel('Gross tertiary education enrollment (%)')\n",
        "plt.ylabel('Physicians per thousand')\n",
        "plt.grid(True)\n",
        "\n",
        "plt.show()\n"
      ],
      "metadata": {
        "id": "G2fJjEaa6utn"
      },
      "execution_count": null,
      "outputs": []
    },
    {
      "cell_type": "markdown",
      "source": [
        "The scatterplot shows a positive correlation between physicians per thousand population and gross tertiary education enrollment rate. Countries with higher physician density tend to have higher tertiary enrollment.\n",
        "\n",
        "Several interesting patterns are evident:\n",
        "\n",
        "Below 1 physician per thousand, tertiary enrollment is uniformly low, between 0-40% with most countries clustered under 20%. This indicates severely inadequate healthcare access restricts higher education participation.\n",
        "Crossing the 1 physician threshold is a tipping point, opening up tertiary enrollment possibilities from 0% to 100%+.\n",
        "\n",
        "In summary, the visualization reveals that physician availability and tertiary enrollment have a mutually reinforcing relationship. Expanding healthcare workforce capacity is associated with greater resources and foundations to support advanced schooling. In turn, rising education levels lead to greater health awareness and ability to support healthcare systems. Policymakers must focus on this interdependent growth to uplift society."
      ],
      "metadata": {
        "id": "RqCXfrCeSSpz"
      }
    },
    {
      "cell_type": "markdown",
      "source": [
        "**Insight:**\n",
        "The analysis revealed tertiary education enrollment does not exhibit high correlation with many directly actionable socio-economic factors.\n",
        "\n",
        "However, it does demonstrate noteworthy linkages to pivotal developmental outcomes like infant mortality, maternal mortality and life expectancy, beyond correlating with just GDP per capita.\n",
        "\n",
        "This highlights tertiary enrollment as a unique two-pronged lever - it is both a means to improving society as well as an end goal itself for growth.\n",
        "\n",
        "Besides boosting physician availability, increasing post-secondary participation should therefore be an urgent priority for donor aid and policy interventions.\n",
        "\n",
        "Investing to expand tertiary attainment has the dual benefits of:\n",
        "\n",
        "Enabling progress across education, health, economic growth and other areas due to skilled workforce creation.\n",
        "Directly improving a key human capital indicator for national competitiveness and closing income disparities.\n",
        "In summary, while many measures represent downstream outcomes, tertiary education stands out as a factor that is intricately both cause and consequence of development. It has an outsized multiplier potential for catalyzing broad upliftment across interlinked socio-economic dimensions in struggling countries."
      ],
      "metadata": {
        "id": "YhrDW7fiWJ3Y"
      }
    },
    {
      "cell_type": "markdown",
      "source": [
        "**What countries need what**"
      ],
      "metadata": {
        "id": "9ODvPJOcbICE"
      }
    },
    {
      "cell_type": "code",
      "source": [
        "pip install mpld3"
      ],
      "metadata": {
        "id": "y3k18fR6bIiE"
      },
      "execution_count": null,
      "outputs": []
    },
    {
      "cell_type": "markdown",
      "source": [
        "Infant mortality"
      ],
      "metadata": {
        "id": "zWiO0XxrbP9y"
      }
    },
    {
      "cell_type": "code",
      "source": [
        "from pandas.plotting import parallel_coordinates\n",
        "\n",
        "\n",
        "worst_countries = data.sort_values('Infant mortality', ascending=False).head(5)\n",
        "\n",
        "columns_to_plot = [ 'Physicians per thousand', 'Minimum wage', 'Gross tertiary education enrollment (%)']\n",
        "\n",
        "\n",
        "worst_countries_normalized = worst_countries[columns_to_plot].apply(lambda x: (x - x.min()) / (x.max() - x.min()))\n",
        "\n",
        "worst_countries_normalized['Infant mortality'] = worst_countries['Infant mortality']\n",
        "\n",
        "plt.figure(figsize=(10, 6))\n",
        "lines = parallel_coordinates(worst_countries_normalized, 'Infant mortality', colormap='viridis')\n",
        "\n",
        "country_names = worst_countries['Country'].tolist()\n",
        "\n",
        "handles, labels = plt.gca().get_legend_handles_labels()\n",
        "labels = [f'{country_names[i]}: {labels[i]}' for i in range(len(labels))]\n",
        "\n",
        "plt.legend(handles, labels, title='Country', loc='upper right')\n",
        "\n",
        "plt.title('Parallel Coordinates Plot for Worst Countries in Infant Mortality')\n",
        "plt.xlabel('Features')\n",
        "plt.ylabel('Normalized Values')\n",
        "plt.xticks(rotation=45)\n",
        "\n",
        "plt.show()"
      ],
      "metadata": {
        "id": "uVblaylKbOtI"
      },
      "execution_count": null,
      "outputs": []
    },
    {
      "cell_type": "markdown",
      "source": [
        "Central African Republic has the worst infant mortality, with extremely low physicians per thousand around 0.1, low minimum wage below 0.5, and minimal tertiary enrollment of 0.1. This is indicative of severely deprived conditions.\n",
        "\n",
        "Sierra Leone has the lowest physician availability at 0, mid-range minimum wage around 0.8-1.0, but no tertiary enrollment. Lack of healthcare access and higher education are notable.\n",
        "\n",
        "Nigeria is a partial outlier with the highest physicians out of the 5 nations. However, its tertiary enrollment and minimum wage are only middling. High mortality persists despite better healthcare.\n",
        "\n",
        "Chad has near zero physicians like Sierra Leone, but has both the highest minimum wage and tertiary enrollment rates among the five countries. Infant health has not improved.\n",
        "\n",
        "DRC has slightly better physician availability at 0.2. But it has the lowest minimum wage and middling tertiary enrollment. Still, it has the second highest infant deaths.\n",
        "\n",
        "the parallel coordinates plot reveals multifaceted, intersecting socio-economic deficits driving high infant mortality in each nation."
      ],
      "metadata": {
        "id": "xf2ShEegaLfi"
      }
    },
    {
      "cell_type": "markdown",
      "source": [
        "Looking into maternal mortality ratio"
      ],
      "metadata": {
        "id": "wvXvwNEYgyED"
      }
    },
    {
      "cell_type": "code",
      "source": [
        "\n",
        "worst_countries = data.sort_values('Maternal mortality ratio', ascending=False).head(5)\n",
        "\n",
        "columns_to_plot = [ 'Physicians per thousand', 'Minimum wage', 'Gross tertiary education enrollment (%)']\n",
        "\n",
        "\n",
        "worst_countries_normalized = worst_countries[columns_to_plot].apply(lambda x: (x - x.min()) / (x.max() - x.min()))\n",
        "\n",
        "worst_countries_normalized['Maternal mortality ratio'] = worst_countries['Maternal mortality ratio']\n",
        "\n",
        "plt.figure(figsize=(10, 6))\n",
        "lines = parallel_coordinates(worst_countries_normalized, 'Maternal mortality ratio', colormap='viridis')\n",
        "\n",
        "country_names = worst_countries['Country'].tolist()\n",
        "\n",
        "handles, labels = plt.gca().get_legend_handles_labels()\n",
        "labels = [f'{country_names[i]}: {labels[i]}' for i in range(len(labels))]\n",
        "\n",
        "plt.legend(handles, labels, title='Country', loc='upper right')\n",
        "\n",
        "plt.title('Parallel Coordinates Plot for Worst Countries in Maternal mortality ratio')\n",
        "plt.xlabel('Features')\n",
        "plt.ylabel('Normalized Values')\n",
        "plt.xticks(rotation=45)\n",
        "\n",
        "plt.show()\n",
        "\n"
      ],
      "metadata": {
        "id": "BjuUH5h_gwEH"
      },
      "execution_count": null,
      "outputs": []
    },
    {
      "cell_type": "markdown",
      "source": [
        "Chad has the worst maternal mortality. It has near zero physicians, the highest minimum wage among these nations, but only 0.2 tertiary enrollment. This highlights major healthcare access issues.\n",
        "\n",
        "Sierra Leone has the lowest physician rate at 0. It has a middling minimum wage around 0.8, and no tertiary enrollment. The lack of doctors and higher education are glaring gaps.\n",
        "\n",
        "Nigeria is a partial outlier with the most physicians, though still low in absolute terms. However, its minimum wage and tertiary enrollment are moderate. Maternal health remains poor despite better healthcare availability.\n",
        "Central African Republic has negligible physicians. It has the lowest minimum wage of 0 and low tertiary enrollment below 0.2. This indicates systemic deprivations driving maternal risks.\n",
        "\n",
        "Mauritania has slightly higher physician rate at 0.4. But a middling minimum wage around 0.6 and tertiary enrollment below 0.4. Overall maternal health conditions seem underdeveloped.\n",
        "\n",
        "Generalizations cannot be made - tailored investigation and interventions are essential focusing on local contexts. Healthcare access, education and income alone do not fully explain differences."
      ],
      "metadata": {
        "id": "qEQMt7KXhM33"
      }
    },
    {
      "cell_type": "markdown",
      "source": [
        "Looking into Life expectancy"
      ],
      "metadata": {
        "id": "4SeoaMOLl2NT"
      }
    },
    {
      "cell_type": "code",
      "source": [
        "\n",
        "worst_countries = data.sort_values('Life expectancy', ascending=True).head(6)\n",
        "\n",
        "columns_to_plot = [ 'Physicians per thousand', 'Minimum wage', 'Gross tertiary education enrollment (%)']\n",
        "\n",
        "\n",
        "worst_countries_normalized = worst_countries[columns_to_plot].apply(lambda x: (x - x.min()) / (x.max() - x.min()))\n",
        "\n",
        "worst_countries_normalized['Life expectancy'] = worst_countries['Life expectancy']\n",
        "\n",
        "plt.figure(figsize=(10, 6))\n",
        "lines = parallel_coordinates(worst_countries_normalized, 'Life expectancy', colormap='viridis')\n",
        "\n",
        "country_names = worst_countries['Country'].tolist()\n",
        "\n",
        "handles, labels = plt.gca().get_legend_handles_labels()\n",
        "labels = [f'{country_names[i]}: {labels[i]}' for i in range(len(labels))]\n",
        "\n",
        "plt.legend(handles, labels, title='Country', loc='upper right')\n",
        "\n",
        "plt.title('Parallel Coordinates Plot for Worst Countries in Life expectancy')\n",
        "plt.xlabel('Features')\n",
        "plt.ylabel('Normalized Values')\n",
        "plt.xticks(rotation=45)\n",
        "\n",
        "plt.show()"
      ],
      "metadata": {
        "id": "2_uVdFM0l6wn"
      },
      "execution_count": null,
      "outputs": []
    },
    {
      "cell_type": "markdown",
      "source": [
        "Central African Republic has the lowest life expectancy, physicians per thousand between 0.0 to 0.2, the lowest minimum wage at 0.0, and tertiary education enrollment close to 0.2.\n",
        "\n",
        "Lesotho has physicians per thousand close to 0.2, a minimum wage of 0.2, and tertiary education enrollment of 1.0.\n",
        "\n",
        "Chad has physician per thousand just above 0.0, the highest minimum wage at 1.0, and tertiary enrollment just under 0.2.\n",
        "\n",
        "Nigeria has a physicians per thousand score of 1.0, a minimum wage score under 0.8, and tertiary education enrollment of 1.0.\n",
        "\n",
        "Sierra Leone has a physicians per thousand score under 0.6, a minimum wage score of 0.0, and tertiary enrollment ranging between 0.8 to 1.0.\n"
      ],
      "metadata": {
        "id": "NW6ze0QXmLzx"
      }
    },
    {
      "cell_type": "markdown",
      "source": [
        "Looking into Gross tertiary education enrollment (%)"
      ],
      "metadata": {
        "id": "zyyt5CANAM9J"
      }
    },
    {
      "cell_type": "code",
      "source": [
        "\n",
        "worst_countries = data.sort_values('Gross tertiary education enrollment (%)', ascending=True).head(6)\n",
        "\n",
        "columns_to_plot = [ 'Physicians per thousand', 'Minimum wage', 'Education Gap']\n",
        "\n",
        "\n",
        "worst_countries_normalized = worst_countries[columns_to_plot].apply(lambda x: (x - x.min()) / (x.max() - x.min()))\n",
        "\n",
        "worst_countries_normalized['Gross tertiary education enrollment (%)'] = worst_countries['Gross tertiary education enrollment (%)']\n",
        "\n",
        "plt.figure(figsize=(10, 6))\n",
        "lines = parallel_coordinates(worst_countries_normalized, 'Gross tertiary education enrollment (%)', colormap='viridis')\n",
        "\n",
        "country_names = worst_countries['Country'].tolist()\n",
        "\n",
        "handles, labels = plt.gca().get_legend_handles_labels()\n",
        "labels = [f'{country_names[i]}: {labels[i]}' for i in range(len(labels))]\n",
        "\n",
        "plt.legend(handles, labels, title='Country', loc='upper right')\n",
        "\n",
        "plt.title('Parallel Coordinates Plot for Worst Countries in Gross tertiary education enrollment (%)')\n",
        "plt.xlabel('Features')\n",
        "plt.ylabel('Normalized Values')\n",
        "plt.xticks(rotation=45)\n",
        "\n",
        "plt.show()"
      ],
      "metadata": {
        "id": "w7fqvYVYAU8a"
      },
      "execution_count": null,
      "outputs": []
    },
    {
      "cell_type": "markdown",
      "source": [
        "Considering its weak correlation with many actionable variables, we examined it alongside minimum wage, which is one of our pertinent economic features, and education gap, known for its thematic relevance to tertiary enrollment.\n",
        "\n",
        "Malawi exhibits the lowest tertiary enrollment, just above 0.0, physicians per thousand, 0.0 minimum wage, and a 1.0 education gap.\n",
        "\n",
        "Haiti has physicians per thousand below 0.6, minimum wage under 0.2, and an education gap above 0.6.\n",
        "\n",
        "Papua New Guinea displays physicians per thousand ranging between 0.0 to 0.2, a 1.0 minimum wage, and an education gap under 0.6.\n",
        "\n",
        "Equatorial Guinea presents 1.0 physicians per thousand, a minimum wage between 0.8 to 1.0, and a 0.0 education gap.\n",
        "\n",
        "Sierra Leone showcases 0.0 physicians per thousand, a minimum wage above 0.4, and an education gap surpassing 0.6.\n",
        "\n",
        "Guinea-Bissau stands out with physicians per thousand above 0.2, minimum wage greater than 0.0, and an education gap exceeding 0.6."
      ],
      "metadata": {
        "id": "0Nm-oodCAoX7"
      }
    },
    {
      "cell_type": "code",
      "source": [
        "from wordcloud import WordCloud\n",
        "import matplotlib.pyplot as plt\n",
        "\n",
        "countries = [\"Central African Republic\", \"Sierra Leone\", \"Nigeria\", \"Chad\", \"DRC\", \"Mauritania\", \"Lesotho\", \"Malawi\", \"Haiti\", \"Papua New Guinea\", \"Equatorial Guinea\", \"Guinea-Bissau\"]\n",
        "\n",
        "frequencies = [3, 4, 3, 3, 1, 1, 1, 1, 1, 1, 1, 1]\n",
        "\n",
        "# Create dictionary with country:frequency\n",
        "country_dict = {country:freq for country, freq in zip(countries, frequencies)}\n",
        "\n",
        "wordcloud = WordCloud(width=800, height=400, background_color='white')\n",
        "wordcloud.generate_from_frequencies(frequencies=country_dict)\n",
        "\n",
        "plt.figure(figsize=(10,8))\n",
        "plt.imshow(wordcloud)\n",
        "plt.axis('off')\n",
        "plt.show()"
      ],
      "metadata": {
        "id": "0uTxBH5_E9-O"
      },
      "execution_count": null,
      "outputs": []
    },
    {
      "cell_type": "markdown",
      "source": [
        "The world cloud above shows the countries with the most need of fanincial aid in our chosen key featuers."
      ],
      "metadata": {
        "id": "h83PpXPiFAeu"
      }
    },
    {
      "cell_type": "markdown",
      "source": [
        "**Insight:**\n",
        "Through our analysis, we identified 12 developing countries most in need across the 4 key aspects of infant mortality, maternal mortality, life expectancy and tertiary education.\n",
        "\n",
        "Sierra Leone emerged as the nation requiring urgent aid across all 4 areas. The parallel coordinates plots provided granular insights into Sierra Leone's deficiencies in physicians, wages, and education enrollment that are driving poor outcomes.\n",
        "\n",
        "More broadly, the visualizations revealed the unique intersections of healthcare access, income, and tertiary participation challenges facing each country.\n",
        "\n",
        "These multidimensional perspectives can inform donors on tailored opportunities and interventions to maximize impact, based on what is most lacking in a given nation. For instance, investing in physicians and medical infrastructure could be highly effective in Chad, while Sierra Leone needs integrated interventions spanning health, income and education.\n",
        "\n",
        "Overall, the findings and evidence-based approach equip donors to strategically direct aid where it is needed most. Thecountry-specific analyses guide intelligent allocation decisions aligned to addressing the biggest development gaps highlighted through our visual investigative process.\n",
        "\n",
        "Targeted, context-aware investments are key to uplifting the living standards and welfare in these disadvantaged regions of the world. The data-driven insights enable donors to match aid optimizations to need for greatest on-ground change."
      ],
      "metadata": {
        "id": "pYAlY_ugFdjs"
      }
    },
    {
      "cell_type": "markdown",
      "source": [
        "#Summary and Conclusions:\n",
        "Our visual analysis of the \"Global Country Information Dataset 2023\" reveals key insights that can guide decisions regarding financial aid allocation to countries in need. The dataset's features span a wide range of socio-economic and health indicators, allowing to uncover relationships that highlight the challenges faced by developing nations. Our goal was to identify the countries that require financial aid and pinpoint the root causes of their challenges.\n",
        "\n",
        "Our chosen focus features: Infant Mortality, Maternal Mortality, Life Expectancy, and Tertiary Enrollment\n",
        "\n",
        "These features capture critical aspects of human well-being and development, making them excellent indicators of countries in need and an impact driven investment in respect of resource allocation by relevant non profit organizations.\n",
        "\n",
        "Our bivariate visualizations showed that these challenges are intertwined and often rooted in common factors. Higher infant mortality rates are associated with inadequate healthcare access (measured by Physicians per Thousand) and lower economic conditions (measured by GDP per Capita and Minimum Wage). Similarly, maternal mortality ratios are negatively correlated with healthcare availability and economic indicators.\n",
        "Life expectancy is also significantly influenced by these same factors. Countries with limited access to healthcare and lower economic indicators tend to have lower life expectancy rates. This indicates that investing in healthcare infrastructure and improving economic conditions can have far-reaching positive effects on life expectancy.\n",
        "\n",
        "Tertiary education enrollment also emerges as a crucial factor. It is impacted by the country's economic rating, GDP per capita, and minimum wage. This underscores the importance of education in overall development and the potential for economic growth when education is prioritized.\n",
        "\n",
        "Additional distinguishing features identified were low levels of CO2 emissions,\n",
        "high levels of Fertility rate & Birth rate,  low GDP per capita and low minimum wage.\n",
        "\n",
        "Nevertheless, when we have taken all possibilities into account with a practical goal in mind, we chose the above target features due the following reasons:\n",
        "* Focus on moraly superior features- human lives / education.\n",
        "* No controversial/ ethicaly problematic issues- we would not act to directly encourage higher pollution (co2 emissions) or to decrease fertility rates.\n",
        "* Choosing highly influencial/ actionable features- we realized pretty quickly that improving the health sector would be highly impactful on many features simultaniously. Additionally, education is also an \"easy\" choise in the sense that it is very clear how to positivly influence it to deliver good results that can positivly impact alot of other factors.\n",
        "\n",
        "#Operational Recommendations:\n",
        "\n",
        "The visualizations we performed throughout the prject consistently highlighted several developing countries whose indicators, as reflected in our dataset, underscore a genuine need for financial aid and strategic initiatives aimed at fostering economic advancements that can uplift these nations. Based on our comprehensive visualizations, we propose the following actionable directions for practical implementation:\n",
        "1. **Enhancing Medical Accessibility and Training:**\n",
        "Our visualizations emphasize that improving medical care accessibility can significantly impact our focus featues, including infant mortality, maternal mortality, and life expectancy. We recommend allocating resources towards medical training programs within developing countries and supporting initiatives that facilitate the exchange of medical expertise from more developed nations to those in need. This approach, akin to the humanitarian efforts of organizations like \"Doctors Without Borders\", can bolster healthcare systems in these regions.\n",
        "2. **Stimulating Economic Growth through Minimum Wage Increase:**\n",
        "Our findings reveal a direct correlation between increased GDP per capita and improvements across all of our four focus features. Notably, the minimum wage also exhibits a strong positive correlation with GDP per capita. With this in mind, we suggest advocating for a series of economic actions aimed at elevating the minimum wage. Such efforts can be pursued through collaboration with governmental authorities, economic development agencies, as well as chambers of commerce and business associations. Although there might be opposition from cetain entities, the potential benefits, including a potential increase in workforce quality and quantity, justify further examination.\n",
        "3. **Fostering Tertiary Education Enrollment through Scholarships and Grants:**\n",
        " Tertiary education enrollment rate, plays a pivotal role in enhancing various  aspects of developing countries. As we observed, an increased tertiary enrollment rate positively influences health indicators, including life expectancy and pysicians per thousand. In light of this, we recommend directing investments towards scholarships and educational grants to strengthen tertiary education enrollment. We firmly believe that such an approach has the potential to yield overarching positive effect on a country's developmental trajectory.\n",
        "\n",
        "To summarize, we strongly believe that by prioritizing medical accessibility, facilitating economic growth through minimum wage adjustments, and fostering tertiary education enrollment, tangible progress can be achieved. We suggest these recommendations as guiding principles, empowering decision-makers to make impactful contributions that can reshape the developmental trajectory of nations in need.\n",
        "\n",
        "#The Narrative Hidden in the Dataset:\n",
        "\n",
        "\"Global Country Information Dataset 2023\" dataset paints a clear narrative of the challenges faced by developing countries. It illustrates how interconnected factors influence the quality of life for citizens in these nations.\n",
        "\n",
        "Within the dataset, correlations bring to light essential insights regarding the challenges encountered by developing nations. Noteworthy relationships, featuring absolute correlations of over 70%, provide clarity on the intricate interplay among various factors.\n",
        "\n",
        "Positive correlations highlight intricate ties. GDP and CO2 emissions intertwine economic growth with environmental impact. Maternal health and fertility rates reveal elevated risks in regions with high fertility. Healthcare access and education access intersect, showcasing common hurdles.\n",
        "\n",
        "Negative correlations underscore contrasts. Life expectancy and fertility rates reflect the struggle to balance healthcare and demographics. Limited healthcare access links to both higher infant mortality and birth rates, showcasing resource-population dynamics.\n",
        "\n",
        "This web of correlations presents a universal narrative of challenges that transcend borders. It paints a vivid picture of developing nations' hurdles, and illuminates the obstacles that require comprehensive solutions.<br> Targeted interventions can leverage these insights to strategically allocate resources. Our mission to optimize resource distribution for maximum impact  acts as a compass, guiding efforts towards domains where healthcare, education, and economic development intersect.<br>From a data-driven standpoint, our objective assumes the role of a guiding principle, facilitating interventions that systematically tackle the intricate challenges within the landscape of developing nations.\n",
        "\n",
        "\n"
      ],
      "metadata": {
        "id": "-nSbUK5QdoDH"
      }
    },
    {
      "cell_type": "code",
      "source": [
        "drive.mount('/content/gdrive/', force_remount=True)\n",
        "data.to_excel(\"/content/gdrive/MyDrive/colab share folder/countries_final.xlsx\")"
      ],
      "metadata": {
        "id": "nOrZozv28P6W"
      },
      "execution_count": null,
      "outputs": []
    }
  ],
  "metadata": {
    "colab": {
      "provenance": []
    },
    "kernelspec": {
      "display_name": "Python 3",
      "name": "python3"
    },
    "language_info": {
      "name": "python"
    }
  },
  "nbformat": 4,
  "nbformat_minor": 0
}